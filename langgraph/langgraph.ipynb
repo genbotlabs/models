{
 "cells": [
  {
   "cell_type": "code",
   "execution_count": null,
   "id": "f337c8ef",
   "metadata": {},
   "outputs": [],
   "source": []
  },
  {
   "cell_type": "code",
   "execution_count": null,
   "id": "5466201a",
   "metadata": {},
   "outputs": [],
   "source": [
    "from typing import TypedDict, List, Annotated\n",
    "from langchain_core.documents import Document\n",
    "from langchain.vectorstores import FAISS\n",
    "from langchain.embeddings import HuggingFaceEmbeddings\n",
    "import os"
   ]
  },
  {
   "cell_type": "code",
   "execution_count": null,
   "id": "461bf7a0",
   "metadata": {},
   "outputs": [],
   "source": [
    "# 환경 변수 설정\n",
    "os.environ[\"OPENAI_API_KEY\"] = \"your_openai_api_key\"\n",
    "\n",
    "\n",
    "# FAISS 벡터 DB 불러오기\n",
    "embedding_model = HuggingFaceEmbeddings(model_name=\"intfloat/multilingual-e5-large-instruct\")\n",
    "vectorstore = FAISS.load_local(\"card_QA_faiss_db\", embedding_model,allow_dangerous_deserialization=True)\n"
   ]
  },
  {
   "cell_type": "code",
   "execution_count": null,
   "id": "e7f90d84",
   "metadata": {},
   "outputs": [],
   "source": [
    "# 1. State 정의\n",
    "class GraphState(TypedDict):\n",
    "    question: Annotated[str, \"질문\"]\n",
    "    answer: Annotated[str, \"답변\"]\n",
    "    score: Annotated[float, \"유사도 점수\"]\n",
    "    retriever_docs: Annotated[List[Document], \"유사도 상위문서\"]\n",
    "\n",
    "# 2. retriever_node 정의\n",
    "def retriever_node(state: GraphState) -> GraphState:\n",
    "    docs = vectorstore.similarity_search_with_score(state[\"question\"], k=3)\n",
    "    retrieved_docs = [doc for doc, _ in docs]\n",
    "    score = docs[0][1]\n",
    "    # print(\"\\n[retriever_node] 문서:\", [doc.page_content for doc in retrieved_docs])\n",
    "    # print(\"[retriever_node] 유사도 점수:\", score)\n",
    "    # print('-'*100)\n",
    "    # print(docs)\n",
    "    # print('-'*100)\n",
    "    # print(retrieved_docs[0])\n",
    "    return GraphState(score=score, retriever_docs=retrieved_docs)"
   ]
  }
 ],
 "metadata": {
  "language_info": {
   "name": "python"
  }
 },
 "nbformat": 4,
 "nbformat_minor": 5
}
