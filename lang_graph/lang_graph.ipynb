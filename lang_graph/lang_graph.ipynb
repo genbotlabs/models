{
 "cells": [
  {
   "cell_type": "code",
   "execution_count": 369,
   "id": "f337c8ef",
   "metadata": {},
   "outputs": [
    {
     "name": "stderr",
     "output_type": "stream",
     "text": [
      "  WARNING: Failed to remove contents in a temporary directory 'C:\\Users\\Playdata\\anaconda3\\envs\\langgraph_env\\Lib\\site-packages\\~okenizers'.\n",
      "  You can safely remove it manually.\n",
      "ERROR: pip's dependency resolver does not currently take into account all the packages that are installed. This behaviour is the source of the following dependency conflicts.\n",
      "transformers 4.53.0 requires tokenizers<0.22,>=0.21, but you have tokenizers 0.19.1 which is incompatible.\n"
     ]
    }
   ],
   "source": [
    "# !pip list\n",
    "!pip install -qU langchain-core langchain-upstage"
   ]
  },
  {
   "cell_type": "code",
   "execution_count": 472,
   "id": "5466201a",
   "metadata": {},
   "outputs": [],
   "source": [
    "from typing import TypedDict, List, Annotated\n",
    "from langchain_core.documents import Document\n",
    "from langchain.vectorstores import FAISS\n",
    "from langchain.embeddings import HuggingFaceEmbeddings\n",
    "import os\n",
    "from langgraph.graph import StateGraph, END\n",
    "from dotenv import load_dotenv\n",
    "from langchain_openai import ChatOpenAI\n",
    "from langchain.prompts import ChatPromptTemplate\n",
    "from langchain.retrievers import BM25Retriever, EnsembleRetriever\n",
    "import cohere\n",
    "from langchain_upstage import UpstageGroundednessCheck # langchain_upstage==0.1.3"
   ]
  },
  {
   "cell_type": "code",
   "execution_count": 490,
   "id": "461bf7a0",
   "metadata": {},
   "outputs": [],
   "source": [
    "# 환경 변수 설정\n",
    "load_dotenv()\n",
    "OPENAI_API_KEY=os.getenv(\"OPENAI_API_KEY\")  \n",
    "\n",
    "# FAISS 벡터 DB 불러오기\n",
    "embedding_model = HuggingFaceEmbeddings(model_name=\"intfloat/multilingual-e5-large-instruct\")\n",
    "vectorstore = FAISS.load_local(\"faiss_society_db_alldocuments\", embedding_model,allow_dangerous_deserialization=True)\n"
   ]
  },
  {
   "cell_type": "code",
   "execution_count": 493,
   "id": "dfeaf778",
   "metadata": {},
   "outputs": [
    {
     "name": "stdout",
     "output_type": "stream",
     "text": [
      "Cohere API Key: XKTCFN7i37z9ZTOSUmwfjBjOe65wekLzjbawsZqg\n"
     ]
    }
   ],
   "source": [
    "import getpass\n",
    "# os.environ[\"COHERE_API_KEY\"] = getpass.getpass(\"Cohere API Key:\")\n",
    "COHERE_API_KEY = os.environ[\"COHERE_API_KEY\"]\n",
    "print(\"Cohere API Key:\", COHERE_API_KEY)  \n",
    "co = cohere.Client(COHERE_API_KEY)\n"
   ]
  },
  {
   "cell_type": "code",
   "execution_count": null,
   "id": "f7073fdd",
   "metadata": {},
   "outputs": [
    {
     "ename": "AttributeError",
     "evalue": "'_Environ' object has no attribute 'getenv'",
     "output_type": "error",
     "traceback": [
      "\u001b[31m---------------------------------------------------------------------------\u001b[39m",
      "\u001b[31mAttributeError\u001b[39m                            Traceback (most recent call last)",
      "\u001b[36mCell\u001b[39m\u001b[36m \u001b[39m\u001b[32mIn[501]\u001b[39m\u001b[32m, line 1\u001b[39m\n\u001b[32m----> \u001b[39m\u001b[32m1\u001b[39m \u001b[43mos\u001b[49m\u001b[43m.\u001b[49m\u001b[43menviron\u001b[49m\u001b[43m.\u001b[49m\u001b[43mgetenv\u001b[49m(\u001b[33m\"\u001b[39m\u001b[33mUPSTAGE_API_KEY\u001b[39m\u001b[33m\"\u001b[39m)\n\u001b[32m      2\u001b[39m \u001b[38;5;66;03m# os.environ[\"UPSTAGE_API_KEY\"] = getpass.getpass(\"Upstage API Key:\")\u001b[39;00m\n",
      "\u001b[31mAttributeError\u001b[39m: '_Environ' object has no attribute 'getenv'"
     ]
    }
   ],
   "source": [
    "load_dotenv\n",
    "os.environ.getenv(\"UPSTAGE_API_KEY\")\n",
    "# os.environ[\"UPSTAGE_API_KEY\"] = getpass.getpass(\"Upstage API Key:\")"
   ]
  },
  {
   "cell_type": "code",
   "execution_count": 495,
   "id": "f66c1b16",
   "metadata": {},
   "outputs": [],
   "source": [
    "# 전체 문서 (BM25용)\n",
    "all_docs = vectorstore.docstore._dict.values()\n",
    "\n",
    "# BM25 retriever\n",
    "bm25_retriever = BM25Retriever.from_documents(all_docs)\n",
    "bm25_retriever.k = 5\n",
    "\n",
    "# faiss retriever\n",
    "faiss_retriever = vectorstore.as_retriever(search_kwargs={\"k\": 5})\n",
    "\n",
    "# Hybrid (ensemble) retriever\n",
    "ensemble_retriever = EnsembleRetriever(\n",
    "    retrievers=[bm25_retriever, faiss_retriever],\n",
    "    weights=[0.5, 0.5]\n",
    ")"
   ]
  },
  {
   "cell_type": "code",
   "execution_count": 499,
   "id": "e7f90d84",
   "metadata": {},
   "outputs": [
    {
     "data": {
      "text/plain": [
       "<langgraph.graph.state.StateGraph at 0x29f75ed83e0>"
      ]
     },
     "execution_count": 499,
     "metadata": {},
     "output_type": "execute_result"
    }
   ],
   "source": [
    "# 1. State 정의\n",
    "class GraphState(TypedDict):\n",
    "    question: Annotated[str, \"질문\"]\n",
    "    answer: Annotated[str, \"답변\"]\n",
    "    score: Annotated[float, \"유사도 점수\"]\n",
    "    retriever_docs: Annotated[List[Document], \"유사도 상위문서\"]\n",
    "    relevance_check: Annotated[str, \"문서-답변 관련성 체크\"]\n",
    "\n",
    "# 2. 노드 정의\n",
    "\n",
    "def user_input_node(state: GraphState) -> GraphState:\n",
    "    \"\"\"\n",
    "    사용자로부터 질문을 입력받는 노드.\n",
    "    \"\"\"\n",
    "    question = input()\n",
    "    return GraphState(question=question, answer=\"\", score=0.0, retriever_docs=[])\n",
    "\n",
    "def retriever_node(state: GraphState) -> GraphState:\n",
    "    hybrid_docs = ensemble_retriever.invoke(state[\"question\"])\n",
    "    # print(\"앙상블리트리버에서 invoke 로 가져온 결과\\n\",hybrid_docs)\n",
    "    hybrid_docs = [doc for doc in hybrid_docs if doc.page_content]  # 빈 문서 제거\n",
    " \n",
    "    # Cohere Rerank용 문서 구성\n",
    "    rerank_docs = [\n",
    "        {\n",
    "            \"text\": doc.page_content.strip(),\n",
    "            \"metadata\": doc.metadata,\n",
    "            \"id\": doc.metadata.get(\"source\", f\"doc_{i}\")\n",
    "        }\n",
    "        for i, doc in enumerate(hybrid_docs)\n",
    "        if doc.page_content.strip()\n",
    "    ]\n",
    "\n",
    "    rerank_result = co.rerank(\n",
    "        model=\"rerank-multilingual-v3.0\",\n",
    "        query=state[\"question\"],\n",
    "        documents=rerank_docs,\n",
    "        top_n=3,\n",
    "        return_documents=True\n",
    "    )\n",
    "\n",
    "    reranked_docs = [\n",
    "        Document(\n",
    "            page_content=res.document.text,\n",
    "            metadata={**res.document.metadata, \"score\": res.relevance_score}\n",
    "        )\n",
    "        for res in rerank_result.results\n",
    "    ]\n",
    "\n",
    "    score = max([doc.metadata.get(\"score\", 0) for doc in reranked_docs], default=0)\n",
    "    print(\"max_score:\", score)\n",
    "    print(\"-\"*10000)\n",
    "    print(\"[retriever_node] reranked_docs\", reranked_docs)\n",
    "\n",
    "    return GraphState(score=score, retriever_docs=reranked_docs)\n",
    "\n",
    "# def grade_documents_node(state: GraphState) -> GraphState:\n",
    "#     return GraphState()\n",
    "\n",
    "def llm_answer_node(state: GraphState) -> GraphState:\n",
    "    prompt = ChatPromptTemplate.from_template(\n",
    "        \"\"\"\n",
    "        문서: {docs}\n",
    "        질문: {question}\n",
    "        위 문서들을 참고해서 질문에 답변해줘.\n",
    "        진짜 상담원 처럼 답변해주고, 친절한 말투로 일관되게 답변해줘.\n",
    "        그리고 직접 전화를 하고 싶다거나, 직접 상담을 원하거나, 문의사항이 있다고 직접적으로 전화번호를 요구할 경우에만 010-1111-2345 라는 전화번호를 안내해줘.\n",
    "        *중요한 것 : 전화,상담,문의,전화번호 등 꼭 직접적으로 사용자가 요청하는 경우에만 알려줘*\n",
    "        \"\"\"\n",
    "    )\n",
    "    docs_content = \"\\n---\\n\".join([doc.page_content for doc in state[\"retriever_docs\"]])\n",
    "    chain = prompt | ChatOpenAI(model=\"gpt-4.1-mini-2025-04-14\")\n",
    "    answer = chain.invoke({\"docs\": docs_content, \"question\": state[\"question\"]}).content\n",
    "    print(\"\\n[llm_answer_node] 생성된 답변:\", answer)\n",
    "    return GraphState(answer=answer)\n",
    "\n",
    "def hallucination_check_node(state: GraphState) -> GraphState:\n",
    "    \"\"\"\n",
    "    생성된 답변과 문서의 관련성을 확인하고 2가지로 분기:\n",
    "    1. 관련성 높은 경우 - llm_answer로 이동\n",
    "    2. 관련성이 불확실한 경우 - user_input으로 이동\n",
    "    3. 관련성이 매우 낮은 경우 - user_input으로 이동\n",
    "    \"\"\"\n",
    "    groundedness_check = UpstageGroundednessCheck()\n",
    " \n",
    "    request_input = {\n",
    "        \"context\": state[\"retriever_docs\"],\n",
    "        \"answer\": state[\"answer\"],\n",
    "    }\n",
    "    response = groundedness_check.invoke(request_input)\n",
    "\n",
    "    print(\"\\n[hallucination_check_node] 신뢰성 확인:\", response)\n",
    "    return GraphState(relevance_check=response)\n",
    "\n",
    "# def query_rewrite_node(state: GraphState) -> GraphState:\n",
    "#     prompt = ChatPromptTemplate.from_template(\n",
    "#         \"\"\"\n",
    "#         원본 질문: {question}\n",
    "#         위 질문의 핵심은 유지하면서, 유사 문서를 더 잘 찾을 수 있도록 질문을 다시 써줘.\n",
    "#         \"\"\"\n",
    "#     )\n",
    "#     chain = prompt | ChatOpenAI(model=\"gpt-4.1-mini-2025-04-14\")\n",
    "#     new_question = chain.invoke({\"question\": state[\"question\"]}).content\n",
    "#     print(\"\\n[query_rewrite_node] :\", new_question)\n",
    "#     return GraphState(question=new_question)\n",
    "\n",
    "# 3. 노드 분기 함수 정의\n",
    "def decide_to_generate(state: GraphState) -> str:\n",
    "    \"\"\"\n",
    "    질문-문서의 유사도 점수에 따라 다음 노드를 결정 \n",
    "    - score가 0.02 이상이면 'llm_answer'로 이동\n",
    "    - score가 0.02 미만이면 'query_rewrite'로 이동\n",
    "    \"\"\"\n",
    "    if state[\"score\"] >= 0.02:\n",
    "        return \"llm_answer\"\n",
    "    else:\n",
    "        print(\"해당 질문에 대해서는 안내해드리기 어렵습니다! 다른 질문을 부탁드리겠습니다.\")\n",
    "        return \"user_input\"\n",
    "\n",
    "def relevance_check(state: GraphState) -> str:\n",
    "    \"\"\"\n",
    "    문서-답변의 관련성에 따라 다음 노드를 결정\n",
    "    - grounded 이면 'llm_answer'로 이동\n",
    "    - not sure, not grounded 이면 'user_input'로 이동\n",
    "    \"\"\"\n",
    "    if state[\"relevance_check\"] == 'grounded':\n",
    "        return END\n",
    "    else:\n",
    "        print(\"해당 질문에 대해서는 안내해드리기 어렵습니다! 다른 질문을 부탁드리겠습니다.\")\n",
    "        return \"user_input\"\n",
    "\n",
    "\n",
    "# 4. LangGraph 구성 및 연결\n",
    "workflow = StateGraph(GraphState)\n",
    "workflow.set_entry_point(\"user_input\")\n",
    "workflow.add_node(\"user_input\", user_input_node)\n",
    "workflow.add_node(\"retriever\", retriever_node)\n",
    "workflow.add_node(\"llm_answer\", llm_answer_node)\n",
    "workflow.add_node(\"hallucination_check\", hallucination_check_node)\n",
    "# workflow.add_node(\"query_rewrite\", query_rewrite_node)\n",
    "\n",
    "workflow.add_edge(\"user_input\", \"retriever\")\n",
    "workflow.add_conditional_edges(\n",
    "    \"retriever\",\n",
    "    decide_to_generate,\n",
    "    {\n",
    "        \"user_input\": \"user_input\",\n",
    "        \"llm_answer\": \"llm_answer\",\n",
    "    },\n",
    ")\n",
    "workflow.add_edge(\"llm_answer\",\"hallucination_check\")\n",
    "workflow.add_conditional_edges(\n",
    "    \"hallucination_check\",\n",
    "    relevance_check,\n",
    "    {\n",
    "        END: END,\n",
    "        \"user_input\": \"user_input\"\n",
    "    }\n",
    ")\n"
   ]
  },
  {
   "cell_type": "code",
   "execution_count": 500,
   "id": "e9bf60c6",
   "metadata": {},
   "outputs": [
    {
     "name": "stdout",
     "output_type": "stream",
     "text": [
      "max_score: 0.98588216\n",
      "----------------------------------------------------------------------------------------------------------------------------------------------------------------------------------------------------------------------------------------------------------------------------------------------------------------------------------------------------------------------------------------------------------------------------------------------------------------------------------------------------------------------------------------------------------------------------------------------------------------------------------------------------------------------------------------------------------------------------------------------------------------------------------------------------------------------------------------------------------------------------------------------------------------------------------------------------------------------------------------------------------------------------------------------------------------------------------------------------------------------------------------------------------------------------------------------------------------------------------------------------------------------------------------------------------------------------------------------------------------------------------------------------------------------------------------------------------------------------------------------------------------------------------------------------------------------------------------------------------------------------------------------------------------------------------------------------------------------------------------------------------------------------------------------------------------------------------------------------------------------------------------------------------------------------------------------------------------------------------------------------------------------------------------------------------------------------------------------------------------------------------------------------------------------------------------------------------------------------------------------------------------------------------------------------------------------------------------------------------------------------------------------------------------------------------------------------------------------------------------------------------------------------------------------------------------------------------------------------------------------------------------------------------------------------------------------------------------------------------------------------------------------------------------------------------------------------------------------------------------------------------------------------------------------------------------------------------------------------------------------------------------------------------------------------------------------------------------------------------------------------------------------------------------------------------------------------------------------------------------------------------------------------------------------------------------------------------------------------------------------------------------------------------------------------------------------------------------------------------------------------------------------------------------------------------------------------------------------------------------------------------------------------------------------------------------------------------------------------------------------------------------------------------------------------------------------------------------------------------------------------------------------------------------------------------------------------------------------------------------------------------------------------------------------------------------------------------------------------------------------------------------------------------------------------------------------------------------------------------------------------------------------------------------------------------------------------------------------------------------------------------------------------------------------------------------------------------------------------------------------------------------------------------------------------------------------------------------------------------------------------------------------------------------------------------------------------------------------------------------------------------------------------------------------------------------------------------------------------------------------------------------------------------------------------------------------------------------------------------------------------------------------------------------------------------------------------------------------------------------------------------------------------------------------------------------------------------------------------------------------------------------------------------------------------------------------------------------------------------------------------------------------------------------------------------------------------------------------------------------------------------------------------------------------------------------------------------------------------------------------------------------------------------------------------------------------------------------------------------------------------------------------------------------------------------------------------------------------------------------------------------------------------------------------------------------------------------------------------------------------------------------------------------------------------------------------------------------------------------------------------------------------------------------------------------------------------------------------------------------------------------------------------------------------------------------------------------------------------------------------------------------------------------------------------------------------------------------------------------------------------------------------------------------------------------------------------------------------------------------------------------------------------------------------------------------------------------------------------------------------------------------------------------------------------------------------------------------------------------------------------------------------------------------------------------------------------------------------------------------------------------------------------------------------------------------------------------------------------------------------------------------------------------------------------------------------------------------------------------------------------------------------------------------------------------------------------------------------------------------------------------------------------------------------------------------------------------------------------------------------------------------------------------------------------------------------------------------------------------------------------------------------------------------------------------------------------------------------------------------------------------------------------------------------------------------------------------------------------------------------------------------------------------------------------------------------------------------------------------------------------------------------------------------------------------------------------------------------------------------------------------------------------------------------------------------------------------------------------------------------------------------------------------------------------------------------------------------------------------------------------------------------------------------------------------------------------------------------------------------------------------------------------------------------------------------------------------------------------------------------------------------------------------------------------------------------------------------------------------------------------------------------------------------------------------------------------------------------------------------------------------------------------------------------------------------------------------------------------------------------------------------------------------------------------------------------------------------------------------------------------------------------------------------------------------------------------------------------------------------------------------------------------------------------------------------------------------------------------------------------------------------------------------------------------------------------------------------------------------------------------------------------------------------------------------------------------------------------------------------------------------------------------------------------------------------------------------------------------------------------------------------------------------------------------------------------------------------------------------------------------------------------------------------------------------------------------------------------------------------------------------------------------------------------------------------------------------------------------------------------------------------------------------------------------------------------------------------------------------------------------------------------------------------------------------------------------------------------------------------------------------------------------------------\n",
      "[retriever_node] reranked_docs [Document(metadata={'page': 0, 'source': 'c2aea003-5c8b-428e-82da-5ab87346d4a4_4장 사회주의2023.pdf', 'score': 0.98588216}, page_content='# 사회주의\\n개관\\n# n socialism의 어원과 사용\\n- 결합한다 혹은 공유한다는 의미를 지닌 라틴어 소치아레(sociare)\\n- 최초의 사용은 1827년 영국의 Co-operative Magazine으로 알려져 있음.\\n- 1830년대 초반 영국의 오웬(Robert Owen)과 프랑스의 생시몽(Saint-Simon)의 추종자들은\\n그들의 신념을 사회주의라고 언급하기 시작함\\n- 1840년대에는 일부 산업화된 국가들, 특히 프랑스, 벨기에, 독일에서 친숙한 용어가 됨\\n# n 이데올로기로서의 사회주의의 전통적 의미\\n- 자본주의에 반대되는 것\\n- 보다 인간적이며 사회적으로 가치 있는 대안을 제공하기 위한 시도\\n# n 사회주의의 핵심\\n- 인간을 공통의 인간성에 의해 결합된 사회적 존재로 보는 것\\n- 이는 개인의 정체성이 사회적 상호작용 그리고 사회집단과 집합체의 멤버십에 의해 규정된\\n다는 것을 의미함\\n- 따라서 사회주의자들은 경쟁보다는 협동을 좋아함\\n# n 사회주의 규정하는 핵심적 가치\\n- 평등, 특히 사회적 평등임\\n- 사회주의자들은 사회적 평등이 사회적 안정과 단합을 보장해 준다고 믿고 있음\\n- 물질적 필요를 충족시키고 개인적 발전의 토대를 제공해 준다는 점에서 자유를 증진시킨다\\n고 믿고 있음\\n# n 사회주의의 다양한 분파\\n- 당혹스러울 만큼 다양한 분파가 존재함\\n- ‘수단(사회주의를 성취하는 방법)’과 ‘목적(미래 사회주의 사회의 성격)’의 차이에 의한 분화\\n임\\n- 공산주의자나 마르크스주의자들은 혁명을 지지했고, 재산의 공동소유에 기초한 계급 없는\\n사회를 건설함으로써 자본주의를 폐지하고자 했음\\n- 민주사회주의자나 사회민주주의자들은 점진주의를 채택하고, 물질적 불평등을 줄이고 빈곤\\n을 제거함으로써 자본주의 체제를 ‘인간화’하거나 개혁하려 하였음.'), Document(metadata={'page': 3, 'source': 'c2aea003-5c8b-428e-82da-5ab87346d4a4_4장 사회주의2023.pdf', 'score': 0.9595352}, page_content='핵심주제: 인간은 혼자가 아니다\\n# n 사회주의 용어의 이해 방식\\n- 집단화나 계획 등과 관련이 있는 경제적 모델: 자본주의에 대한 대안으로서 사회주의1)\\n- 노동운동의 수단으로서 사회주의: 노동계급의 이해관계를 대표하며 노동자들이 정치적 권력\\n이나 경제적 권력을 획득할 수 있는 프로그램을 제공2)\\n- 정치적 교의 내지 이데올로기로서의 사회주의: 특톡한 아이디어와 가치 그리고 신념을 공유\\n# n 공동체\\n사회주의의 핵심은 인간을 사회적 존재로 봄\\n인간은 개인적 노력보다는 공동체의 힘을 통해 사회적, 경제적 문제를 극복할 수 있는 존재\\n개인들이 사적인 이익을 쫓는 것과는 대조적으로 함께 노력하는 가운데 목적을 추구할 수 있\\n는 능력을 강조하는 집단주의적 관점임\\n인간은 공통된 인간성의 끈으로 연결된 ‘동료’, ‘형제’ 혹은 ‘자매’임: 형제애(fraternity)의 원\\n리로 표현됨\\n인간의 본성은 사회적 삶의 환경이나 경험에 의해 ‘달라질 수 있다’고 믿음\\n인간의 행위를 결정하는 것은 본성이 아니라 양육임.\\n개인은 사회로부터 분리될 수 없다고 봄.\\n인간은 자족적이지도 않고 독립적이지도 않음\\n개인들은 그들이 속한 사회집단을 통해서만 이해될 수 있으며,\\n사회집단을 통해 스스로를 이해함\\n사회주의의 급진성은 사람들이 가진 잠재적 가능성에 대한 관심에서 비롯됨\\n인간이 공동체의 구성원으로서 진정한 해방을 성취하고 자아를 실현할 수 있는 보다 나은 사\\n회에 대한 유토피아적 비전을 발전시킴\\n아시아와 아프리카의 사회주의자들은 전통사회에서 이미 사회적 삶의 중요성과 공동체의 가치\\n를 중시했다는 사실을 강조함. -> 사회주의는 서구 개인주의의 도전에 맞서 전통적 삶의 가치\\n를 보존하려는 시도임\\n서구에서 사회적 차원의 삶에 대한 관심이 재개된 것은 산업자본주의 세대 이후의 일로, 19세\\n기 유토피아 사회주의자들은 공동생활을 실현하고자 했음.'), Document(metadata={'page': 9, 'source': 'c2aea003-5c8b-428e-82da-5ab87346d4a4_4장 사회주의2023.pdf', 'score': 0.8174288}, page_content='사회주의로 가는 길\\n# n 사회주의의 구분 기준\\n사회주의자들이 추구하는 목표나 ‘목적’ : 공산주의와 사회민주주의. 근본적 사회주의와 수정\\n사회주의\\n사회주의 목적을 성취하기 위해 사용되어야 할 수단. 즉 사회주의에 이르는 길 : 혁명적 사회\\n주의와 점진적(진화론적) 사회주의\\n# n 혁명적 사회주의\\n초기의 많은 사회주의자들은 사회주의가 기존 정치체제의 혁명적 전복을 통해 성취될 수 있다\\n고 보고, 폭력은 혁명의 불가피한 특징이 될 것이라 생각함.\\n프랑스 사회주의자 블랑키 : 헌신적 음모 집단 구성을 제안\\n마르크스와 엥겔스 : 프롤레타리아 혁명 구상\\n최초의 사회주의 혁명 : 1917년 러시아 혁명, 레닌과 볼세비키가 이끄는 헌신적이고 잘 훈련\\n된 혁명가 집단이 권력 장악. 이후 사회주의 혁명의 모델이 됨.\\n# 19세기에 혁명전술이 사회주의자들을 사로잡은 이유\\n첫째, 산업화 초기 노동대중이 참담한 빈곤과 실업에 시달리면서 가혹한 부정의가 만연했다는\\n점.\\n자본주의는 노골적 억압과 착취의 체계로 간주되었고, 노동계급은 혁명의 순간이 도달했다고\\n보았음.\\n둘째, 노동계급에게 정치적 영향력을 발휘할 수 있는 다른 수단이 거의 없었음.\\n거의 모든 영역에서 노동계급의 정치적 생활이 배제되었음.\\n혁명은 국가와 국가권력의 본질에 대한 생각의 반영임\\n자유주의적 관점에서 국가는 모든 시민들의 이해관계를 고려하고 공공선을 위해 작동해야 하\\n는 중립적 기구\\n혁명적 사회주의적 관점에서 국가는 ‘자본’의 이해관계에 충실하고 ‘노동’의 이해관계에 반하\\n는 행동을 하는 계급억압의 대리인.\\n정치적 개혁과 점진적 변화는 의미가 없음.\\n계급적 현실을 은폐하고 노동계급의 정치적 에너지를 오도하는 것임.\\n계급의식을 지닌 프롤레타리아트에게 다른 대안은 없음.\\n정치적 혁명을 통해 부르주아 국가를 전복해야 함\\n20세기 후반 혁명에 대한 신념\\n개발도상국의 사회주의자들에게 뚜렷이 나타남')]\n",
      "\n",
      "[llm_answer_node] 생성된 답변: 안녕하세요! 사회주의에 대해 궁금해 하셨군요. 사회주의는 쉽게 말해 ‘인간은 혼자가 아니다’라는 생각을 바탕으로, 사람들을 경쟁이 아닌 협동과 공동체 속에서 함께 살아가는 사회 모델입니다.\n",
      "\n",
      "사회주의는 자본주의와는 다른 사회체제로, 보다 평등하고 인간적인 사회를 실현하려는 시도라고 보시면 돼요. 즉, 사람들을 단순한 개인이 아니라 서로 깊이 연결된 사회적 존재로 보고, 개인의 이익보다는 사회 전체의 안정과 단합, 평등에 중점을 둡니다. 이런 이유로 사회주의자들은 경쟁보다는 협력을 중요하게 생각한답니다.\n",
      "\n",
      "또한 사회주의는 노동자들이 정치적, 경제적 권력을 얻고, 빈곤과 불평등을 줄이려는 노동운동의 한 형태이기도 하죠. 이런 과정에서는 다양한 방법과 방향이 있는데, 어떤 사람들은 혁명을 통해 사회를 근본적으로 바꾸고자 했고, 또 어떤 사람들은 점진적인 개혁을 통해 자본주의 체제를 인간적으로 바꾸려는 입장을 지녔어요.\n",
      "\n",
      "사회주의의 핵심 가치는 사회적 평등이며, 이는 사람들이 물질적인 필요를 충족시키고 자기 발전을 이룰 수 있는 자유와도 연결된다고 믿습니다. 결국 사회주의는 사람들이 서로 형제자매처럼 연결된 ‘공동체’ 속에서 함께 살아가며, 누구도 소외되지 않고 각자의 잠재력을 발휘할 수 있는 더 나은 사회를 만드는 것을 목표로 하고 있답니다.\n",
      "\n",
      "혹시 더 궁금한 점 있으시면 언제든 편하게 물어봐 주세요! 도움이 될 수 있도록 친절히 설명해 드릴게요.\n"
     ]
    },
    {
     "ename": "ValueError",
     "evalue": "UPSTAGE_API_KEY must be set or passed",
     "output_type": "error",
     "traceback": [
      "\u001b[31m---------------------------------------------------------------------------\u001b[39m",
      "\u001b[31mValueError\u001b[39m                                Traceback (most recent call last)",
      "\u001b[36mCell\u001b[39m\u001b[36m \u001b[39m\u001b[32mIn[500]\u001b[39m\u001b[32m, line 3\u001b[39m\n\u001b[32m      1\u001b[39m \u001b[38;5;66;03m# 실행 \u001b[39;00m\n\u001b[32m      2\u001b[39m app = workflow.compile()\n\u001b[32m----> \u001b[39m\u001b[32m3\u001b[39m response = \u001b[43mapp\u001b[49m\u001b[43m.\u001b[49m\u001b[43minvoke\u001b[49m\u001b[43m(\u001b[49m\u001b[43m{\u001b[49m\u001b[43m}\u001b[49m\u001b[43m)\u001b[49m\n\u001b[32m      4\u001b[39m \u001b[38;5;28mprint\u001b[39m(\u001b[33m\"\u001b[39m\u001b[38;5;130;01m\\n\u001b[39;00m\u001b[33m[최종 답변]:\u001b[39m\u001b[33m\"\u001b[39m, response[\u001b[33m\"\u001b[39m\u001b[33manswer\u001b[39m\u001b[33m\"\u001b[39m])\n",
      "\u001b[36mFile \u001b[39m\u001b[32mc:\\Users\\Playdata\\anaconda3\\envs\\langgraph_env\\Lib\\site-packages\\langgraph\\pregel\\__init__.py:2843\u001b[39m, in \u001b[36mPregel.invoke\u001b[39m\u001b[34m(self, input, config, stream_mode, print_mode, output_keys, interrupt_before, interrupt_after, **kwargs)\u001b[39m\n\u001b[32m   2840\u001b[39m chunks: \u001b[38;5;28mlist\u001b[39m[\u001b[38;5;28mdict\u001b[39m[\u001b[38;5;28mstr\u001b[39m, Any] | Any] = []\n\u001b[32m   2841\u001b[39m interrupts: \u001b[38;5;28mlist\u001b[39m[Interrupt] = []\n\u001b[32m-> \u001b[39m\u001b[32m2843\u001b[39m \u001b[43m\u001b[49m\u001b[38;5;28;43;01mfor\u001b[39;49;00m\u001b[43m \u001b[49m\u001b[43mchunk\u001b[49m\u001b[43m \u001b[49m\u001b[38;5;129;43;01min\u001b[39;49;00m\u001b[43m \u001b[49m\u001b[38;5;28;43mself\u001b[39;49m\u001b[43m.\u001b[49m\u001b[43mstream\u001b[49m\u001b[43m(\u001b[49m\n\u001b[32m   2844\u001b[39m \u001b[43m    \u001b[49m\u001b[38;5;28;43minput\u001b[39;49m\u001b[43m,\u001b[49m\n\u001b[32m   2845\u001b[39m \u001b[43m    \u001b[49m\u001b[43mconfig\u001b[49m\u001b[43m,\u001b[49m\n\u001b[32m   2846\u001b[39m \u001b[43m    \u001b[49m\u001b[43mstream_mode\u001b[49m\u001b[43m=\u001b[49m\u001b[43m[\u001b[49m\u001b[33;43m\"\u001b[39;49m\u001b[33;43mupdates\u001b[39;49m\u001b[33;43m\"\u001b[39;49m\u001b[43m,\u001b[49m\u001b[43m \u001b[49m\u001b[33;43m\"\u001b[39;49m\u001b[33;43mvalues\u001b[39;49m\u001b[33;43m\"\u001b[39;49m\u001b[43m]\u001b[49m\n\u001b[32m   2847\u001b[39m \u001b[43m    \u001b[49m\u001b[38;5;28;43;01mif\u001b[39;49;00m\u001b[43m \u001b[49m\u001b[43mstream_mode\u001b[49m\u001b[43m \u001b[49m\u001b[43m==\u001b[49m\u001b[43m \u001b[49m\u001b[33;43m\"\u001b[39;49m\u001b[33;43mvalues\u001b[39;49m\u001b[33;43m\"\u001b[39;49m\n\u001b[32m   2848\u001b[39m \u001b[43m    \u001b[49m\u001b[38;5;28;43;01melse\u001b[39;49;00m\u001b[43m \u001b[49m\u001b[43mstream_mode\u001b[49m\u001b[43m,\u001b[49m\n\u001b[32m   2849\u001b[39m \u001b[43m    \u001b[49m\u001b[43mprint_mode\u001b[49m\u001b[43m=\u001b[49m\u001b[43mprint_mode\u001b[49m\u001b[43m,\u001b[49m\n\u001b[32m   2850\u001b[39m \u001b[43m    \u001b[49m\u001b[43moutput_keys\u001b[49m\u001b[43m=\u001b[49m\u001b[43moutput_keys\u001b[49m\u001b[43m,\u001b[49m\n\u001b[32m   2851\u001b[39m \u001b[43m    \u001b[49m\u001b[43minterrupt_before\u001b[49m\u001b[43m=\u001b[49m\u001b[43minterrupt_before\u001b[49m\u001b[43m,\u001b[49m\n\u001b[32m   2852\u001b[39m \u001b[43m    \u001b[49m\u001b[43minterrupt_after\u001b[49m\u001b[43m=\u001b[49m\u001b[43minterrupt_after\u001b[49m\u001b[43m,\u001b[49m\n\u001b[32m   2853\u001b[39m \u001b[43m    \u001b[49m\u001b[43m*\u001b[49m\u001b[43m*\u001b[49m\u001b[43mkwargs\u001b[49m\u001b[43m,\u001b[49m\n\u001b[32m   2854\u001b[39m \u001b[43m\u001b[49m\u001b[43m)\u001b[49m\u001b[43m:\u001b[49m\n\u001b[32m   2855\u001b[39m \u001b[43m    \u001b[49m\u001b[38;5;28;43;01mif\u001b[39;49;00m\u001b[43m \u001b[49m\u001b[43mstream_mode\u001b[49m\u001b[43m \u001b[49m\u001b[43m==\u001b[49m\u001b[43m \u001b[49m\u001b[33;43m\"\u001b[39;49m\u001b[33;43mvalues\u001b[39;49m\u001b[33;43m\"\u001b[39;49m\u001b[43m:\u001b[49m\n\u001b[32m   2856\u001b[39m \u001b[43m        \u001b[49m\u001b[38;5;28;43;01mif\u001b[39;49;00m\u001b[43m \u001b[49m\u001b[38;5;28;43mlen\u001b[39;49m\u001b[43m(\u001b[49m\u001b[43mchunk\u001b[49m\u001b[43m)\u001b[49m\u001b[43m \u001b[49m\u001b[43m==\u001b[49m\u001b[43m \u001b[49m\u001b[32;43m2\u001b[39;49m\u001b[43m:\u001b[49m\n",
      "\u001b[36mFile \u001b[39m\u001b[32mc:\\Users\\Playdata\\anaconda3\\envs\\langgraph_env\\Lib\\site-packages\\langgraph\\pregel\\__init__.py:2533\u001b[39m, in \u001b[36mPregel.stream\u001b[39m\u001b[34m(self, input, config, stream_mode, print_mode, output_keys, interrupt_before, interrupt_after, checkpoint_during, debug, subgraphs)\u001b[39m\n\u001b[32m   2531\u001b[39m \u001b[38;5;28;01mfor\u001b[39;00m task \u001b[38;5;129;01min\u001b[39;00m loop.match_cached_writes():\n\u001b[32m   2532\u001b[39m     loop.output_writes(task.id, task.writes, cached=\u001b[38;5;28;01mTrue\u001b[39;00m)\n\u001b[32m-> \u001b[39m\u001b[32m2533\u001b[39m \u001b[43m\u001b[49m\u001b[38;5;28;43;01mfor\u001b[39;49;00m\u001b[43m \u001b[49m\u001b[43m_\u001b[49m\u001b[43m \u001b[49m\u001b[38;5;129;43;01min\u001b[39;49;00m\u001b[43m \u001b[49m\u001b[43mrunner\u001b[49m\u001b[43m.\u001b[49m\u001b[43mtick\u001b[49m\u001b[43m(\u001b[49m\n\u001b[32m   2534\u001b[39m \u001b[43m    \u001b[49m\u001b[43m[\u001b[49m\u001b[43mt\u001b[49m\u001b[43m \u001b[49m\u001b[38;5;28;43;01mfor\u001b[39;49;00m\u001b[43m \u001b[49m\u001b[43mt\u001b[49m\u001b[43m \u001b[49m\u001b[38;5;129;43;01min\u001b[39;49;00m\u001b[43m \u001b[49m\u001b[43mloop\u001b[49m\u001b[43m.\u001b[49m\u001b[43mtasks\u001b[49m\u001b[43m.\u001b[49m\u001b[43mvalues\u001b[49m\u001b[43m(\u001b[49m\u001b[43m)\u001b[49m\u001b[43m \u001b[49m\u001b[38;5;28;43;01mif\u001b[39;49;00m\u001b[43m \u001b[49m\u001b[38;5;129;43;01mnot\u001b[39;49;00m\u001b[43m \u001b[49m\u001b[43mt\u001b[49m\u001b[43m.\u001b[49m\u001b[43mwrites\u001b[49m\u001b[43m]\u001b[49m\u001b[43m,\u001b[49m\n\u001b[32m   2535\u001b[39m \u001b[43m    \u001b[49m\u001b[43mtimeout\u001b[49m\u001b[43m=\u001b[49m\u001b[38;5;28;43mself\u001b[39;49m\u001b[43m.\u001b[49m\u001b[43mstep_timeout\u001b[49m\u001b[43m,\u001b[49m\n\u001b[32m   2536\u001b[39m \u001b[43m    \u001b[49m\u001b[43mget_waiter\u001b[49m\u001b[43m=\u001b[49m\u001b[43mget_waiter\u001b[49m\u001b[43m,\u001b[49m\n\u001b[32m   2537\u001b[39m \u001b[43m    \u001b[49m\u001b[43mschedule_task\u001b[49m\u001b[43m=\u001b[49m\u001b[43mloop\u001b[49m\u001b[43m.\u001b[49m\u001b[43maccept_push\u001b[49m\u001b[43m,\u001b[49m\n\u001b[32m   2538\u001b[39m \u001b[43m\u001b[49m\u001b[43m)\u001b[49m\u001b[43m:\u001b[49m\n\u001b[32m   2539\u001b[39m \u001b[43m    \u001b[49m\u001b[38;5;66;43;03m# emit output\u001b[39;49;00m\n\u001b[32m   2540\u001b[39m \u001b[43m    \u001b[49m\u001b[38;5;28;43;01myield from\u001b[39;49;00m\u001b[43m \u001b[49m\u001b[43m_output\u001b[49m\u001b[43m(\u001b[49m\n\u001b[32m   2541\u001b[39m \u001b[43m        \u001b[49m\u001b[43mstream_mode\u001b[49m\u001b[43m,\u001b[49m\u001b[43m \u001b[49m\u001b[43mprint_mode\u001b[49m\u001b[43m,\u001b[49m\u001b[43m \u001b[49m\u001b[43msubgraphs\u001b[49m\u001b[43m,\u001b[49m\u001b[43m \u001b[49m\u001b[43mstream\u001b[49m\u001b[43m.\u001b[49m\u001b[43mget\u001b[49m\u001b[43m,\u001b[49m\u001b[43m \u001b[49m\u001b[43mqueue\u001b[49m\u001b[43m.\u001b[49m\u001b[43mEmpty\u001b[49m\n\u001b[32m   2542\u001b[39m \u001b[43m    \u001b[49m\u001b[43m)\u001b[49m\n\u001b[32m   2543\u001b[39m loop.after_tick()\n",
      "\u001b[36mFile \u001b[39m\u001b[32mc:\\Users\\Playdata\\anaconda3\\envs\\langgraph_env\\Lib\\site-packages\\langgraph\\pregel\\runner.py:162\u001b[39m, in \u001b[36mPregelRunner.tick\u001b[39m\u001b[34m(self, tasks, reraise, timeout, retry_policy, get_waiter, schedule_task)\u001b[39m\n\u001b[32m    160\u001b[39m t = tasks[\u001b[32m0\u001b[39m]\n\u001b[32m    161\u001b[39m \u001b[38;5;28;01mtry\u001b[39;00m:\n\u001b[32m--> \u001b[39m\u001b[32m162\u001b[39m     \u001b[43mrun_with_retry\u001b[49m\u001b[43m(\u001b[49m\n\u001b[32m    163\u001b[39m \u001b[43m        \u001b[49m\u001b[43mt\u001b[49m\u001b[43m,\u001b[49m\n\u001b[32m    164\u001b[39m \u001b[43m        \u001b[49m\u001b[43mretry_policy\u001b[49m\u001b[43m,\u001b[49m\n\u001b[32m    165\u001b[39m \u001b[43m        \u001b[49m\u001b[43mconfigurable\u001b[49m\u001b[43m=\u001b[49m\u001b[43m{\u001b[49m\n\u001b[32m    166\u001b[39m \u001b[43m            \u001b[49m\u001b[43mCONFIG_KEY_CALL\u001b[49m\u001b[43m:\u001b[49m\u001b[43m \u001b[49m\u001b[43mpartial\u001b[49m\u001b[43m(\u001b[49m\n\u001b[32m    167\u001b[39m \u001b[43m                \u001b[49m\u001b[43m_call\u001b[49m\u001b[43m,\u001b[49m\n\u001b[32m    168\u001b[39m \u001b[43m                \u001b[49m\u001b[43mweakref\u001b[49m\u001b[43m.\u001b[49m\u001b[43mref\u001b[49m\u001b[43m(\u001b[49m\u001b[43mt\u001b[49m\u001b[43m)\u001b[49m\u001b[43m,\u001b[49m\n\u001b[32m    169\u001b[39m \u001b[43m                \u001b[49m\u001b[43mretry_policy\u001b[49m\u001b[43m=\u001b[49m\u001b[43mretry_policy\u001b[49m\u001b[43m,\u001b[49m\n\u001b[32m    170\u001b[39m \u001b[43m                \u001b[49m\u001b[43mfutures\u001b[49m\u001b[43m=\u001b[49m\u001b[43mweakref\u001b[49m\u001b[43m.\u001b[49m\u001b[43mref\u001b[49m\u001b[43m(\u001b[49m\u001b[43mfutures\u001b[49m\u001b[43m)\u001b[49m\u001b[43m,\u001b[49m\n\u001b[32m    171\u001b[39m \u001b[43m                \u001b[49m\u001b[43mschedule_task\u001b[49m\u001b[43m=\u001b[49m\u001b[43mschedule_task\u001b[49m\u001b[43m,\u001b[49m\n\u001b[32m    172\u001b[39m \u001b[43m                \u001b[49m\u001b[43msubmit\u001b[49m\u001b[43m=\u001b[49m\u001b[38;5;28;43mself\u001b[39;49m\u001b[43m.\u001b[49m\u001b[43msubmit\u001b[49m\u001b[43m,\u001b[49m\n\u001b[32m    173\u001b[39m \u001b[43m            \u001b[49m\u001b[43m)\u001b[49m\u001b[43m,\u001b[49m\n\u001b[32m    174\u001b[39m \u001b[43m        \u001b[49m\u001b[43m}\u001b[49m\u001b[43m,\u001b[49m\n\u001b[32m    175\u001b[39m \u001b[43m    \u001b[49m\u001b[43m)\u001b[49m\n\u001b[32m    176\u001b[39m     \u001b[38;5;28mself\u001b[39m.commit(t, \u001b[38;5;28;01mNone\u001b[39;00m)\n\u001b[32m    177\u001b[39m \u001b[38;5;28;01mexcept\u001b[39;00m \u001b[38;5;167;01mException\u001b[39;00m \u001b[38;5;28;01mas\u001b[39;00m exc:\n",
      "\u001b[36mFile \u001b[39m\u001b[32mc:\\Users\\Playdata\\anaconda3\\envs\\langgraph_env\\Lib\\site-packages\\langgraph\\pregel\\retry.py:42\u001b[39m, in \u001b[36mrun_with_retry\u001b[39m\u001b[34m(task, retry_policy, configurable)\u001b[39m\n\u001b[32m     40\u001b[39m     task.writes.clear()\n\u001b[32m     41\u001b[39m     \u001b[38;5;66;03m# run the task\u001b[39;00m\n\u001b[32m---> \u001b[39m\u001b[32m42\u001b[39m     \u001b[38;5;28;01mreturn\u001b[39;00m \u001b[43mtask\u001b[49m\u001b[43m.\u001b[49m\u001b[43mproc\u001b[49m\u001b[43m.\u001b[49m\u001b[43minvoke\u001b[49m\u001b[43m(\u001b[49m\u001b[43mtask\u001b[49m\u001b[43m.\u001b[49m\u001b[43minput\u001b[49m\u001b[43m,\u001b[49m\u001b[43m \u001b[49m\u001b[43mconfig\u001b[49m\u001b[43m)\u001b[49m\n\u001b[32m     43\u001b[39m \u001b[38;5;28;01mexcept\u001b[39;00m ParentCommand \u001b[38;5;28;01mas\u001b[39;00m exc:\n\u001b[32m     44\u001b[39m     ns: \u001b[38;5;28mstr\u001b[39m = config[CONF][CONFIG_KEY_CHECKPOINT_NS]\n",
      "\u001b[36mFile \u001b[39m\u001b[32mc:\\Users\\Playdata\\anaconda3\\envs\\langgraph_env\\Lib\\site-packages\\langgraph\\utils\\runnable.py:623\u001b[39m, in \u001b[36mRunnableSeq.invoke\u001b[39m\u001b[34m(self, input, config, **kwargs)\u001b[39m\n\u001b[32m    621\u001b[39m     \u001b[38;5;66;03m# run in context\u001b[39;00m\n\u001b[32m    622\u001b[39m     \u001b[38;5;28;01mwith\u001b[39;00m set_config_context(config, run) \u001b[38;5;28;01mas\u001b[39;00m context:\n\u001b[32m--> \u001b[39m\u001b[32m623\u001b[39m         \u001b[38;5;28minput\u001b[39m = \u001b[43mcontext\u001b[49m\u001b[43m.\u001b[49m\u001b[43mrun\u001b[49m\u001b[43m(\u001b[49m\u001b[43mstep\u001b[49m\u001b[43m.\u001b[49m\u001b[43minvoke\u001b[49m\u001b[43m,\u001b[49m\u001b[43m \u001b[49m\u001b[38;5;28;43minput\u001b[39;49m\u001b[43m,\u001b[49m\u001b[43m \u001b[49m\u001b[43mconfig\u001b[49m\u001b[43m,\u001b[49m\u001b[43m \u001b[49m\u001b[43m*\u001b[49m\u001b[43m*\u001b[49m\u001b[43mkwargs\u001b[49m\u001b[43m)\u001b[49m\n\u001b[32m    624\u001b[39m \u001b[38;5;28;01melse\u001b[39;00m:\n\u001b[32m    625\u001b[39m     \u001b[38;5;28minput\u001b[39m = step.invoke(\u001b[38;5;28minput\u001b[39m, config)\n",
      "\u001b[36mFile \u001b[39m\u001b[32mc:\\Users\\Playdata\\anaconda3\\envs\\langgraph_env\\Lib\\site-packages\\langgraph\\utils\\runnable.py:377\u001b[39m, in \u001b[36mRunnableCallable.invoke\u001b[39m\u001b[34m(self, input, config, **kwargs)\u001b[39m\n\u001b[32m    375\u001b[39m         run_manager.on_chain_end(ret)\n\u001b[32m    376\u001b[39m \u001b[38;5;28;01melse\u001b[39;00m:\n\u001b[32m--> \u001b[39m\u001b[32m377\u001b[39m     ret = \u001b[38;5;28;43mself\u001b[39;49m\u001b[43m.\u001b[49m\u001b[43mfunc\u001b[49m\u001b[43m(\u001b[49m\u001b[43m*\u001b[49m\u001b[43margs\u001b[49m\u001b[43m,\u001b[49m\u001b[43m \u001b[49m\u001b[43m*\u001b[49m\u001b[43m*\u001b[49m\u001b[43mkwargs\u001b[49m\u001b[43m)\u001b[49m\n\u001b[32m    378\u001b[39m \u001b[38;5;28;01mif\u001b[39;00m \u001b[38;5;28mself\u001b[39m.recurse \u001b[38;5;129;01mand\u001b[39;00m \u001b[38;5;28misinstance\u001b[39m(ret, Runnable):\n\u001b[32m    379\u001b[39m     \u001b[38;5;28;01mreturn\u001b[39;00m ret.invoke(\u001b[38;5;28minput\u001b[39m, config)\n",
      "\u001b[36mCell\u001b[39m\u001b[36m \u001b[39m\u001b[32mIn[499]\u001b[39m\u001b[32m, line 84\u001b[39m, in \u001b[36mhallucination_check_node\u001b[39m\u001b[34m(state)\u001b[39m\n\u001b[32m     77\u001b[39m \u001b[38;5;28;01mdef\u001b[39;00m\u001b[38;5;250m \u001b[39m\u001b[34mhallucination_check_node\u001b[39m(state: GraphState) -> GraphState:\n\u001b[32m     78\u001b[39m \u001b[38;5;250m    \u001b[39m\u001b[33;03m\"\"\"\u001b[39;00m\n\u001b[32m     79\u001b[39m \u001b[33;03m    생성된 답변과 문서의 관련성을 확인하고 2가지로 분기:\u001b[39;00m\n\u001b[32m     80\u001b[39m \u001b[33;03m    1. 관련성 높은 경우 - llm_answer로 이동\u001b[39;00m\n\u001b[32m     81\u001b[39m \u001b[33;03m    2. 관련성이 불확실한 경우 - user_input으로 이동\u001b[39;00m\n\u001b[32m     82\u001b[39m \u001b[33;03m    3. 관련성이 매우 낮은 경우 - user_input으로 이동\u001b[39;00m\n\u001b[32m     83\u001b[39m \u001b[33;03m    \"\"\"\u001b[39;00m\n\u001b[32m---> \u001b[39m\u001b[32m84\u001b[39m     groundedness_check = \u001b[43mUpstageGroundednessCheck\u001b[49m\u001b[43m(\u001b[49m\u001b[43m)\u001b[49m\n\u001b[32m     86\u001b[39m     request_input = {\n\u001b[32m     87\u001b[39m         \u001b[33m\"\u001b[39m\u001b[33mcontext\u001b[39m\u001b[33m\"\u001b[39m: state[\u001b[33m\"\u001b[39m\u001b[33mretriever_docs\u001b[39m\u001b[33m\"\u001b[39m],\n\u001b[32m     88\u001b[39m         \u001b[33m\"\u001b[39m\u001b[33manswer\u001b[39m\u001b[33m\"\u001b[39m: state[\u001b[33m\"\u001b[39m\u001b[33manswer\u001b[39m\u001b[33m\"\u001b[39m],\n\u001b[32m     89\u001b[39m     }\n\u001b[32m     90\u001b[39m     response = groundedness_check.invoke(request_input)\n",
      "\u001b[36mFile \u001b[39m\u001b[32mc:\\Users\\Playdata\\anaconda3\\envs\\langgraph_env\\Lib\\site-packages\\langchain_upstage\\tools\\groundedness_check.py:72\u001b[39m, in \u001b[36mUpstageGroundednessCheck.__init__\u001b[39m\u001b[34m(self, **kwargs)\u001b[39m\n\u001b[32m     65\u001b[39m upstage_api_key = convert_to_secret_str(upstage_api_key)\n\u001b[32m     67\u001b[39m \u001b[38;5;28;01mif\u001b[39;00m (\n\u001b[32m     68\u001b[39m     \u001b[38;5;129;01mnot\u001b[39;00m upstage_api_key\n\u001b[32m     69\u001b[39m     \u001b[38;5;129;01mor\u001b[39;00m \u001b[38;5;129;01mnot\u001b[39;00m upstage_api_key.get_secret_value()\n\u001b[32m     70\u001b[39m     \u001b[38;5;129;01mor\u001b[39;00m upstage_api_key.get_secret_value() == \u001b[33m\"\u001b[39m\u001b[33m\"\u001b[39m\n\u001b[32m     71\u001b[39m ):\n\u001b[32m---> \u001b[39m\u001b[32m72\u001b[39m     \u001b[38;5;28;01mraise\u001b[39;00m \u001b[38;5;167;01mValueError\u001b[39;00m(\u001b[33m\"\u001b[39m\u001b[33mUPSTAGE_API_KEY must be set or passed\u001b[39m\u001b[33m\"\u001b[39m)\n\u001b[32m     74\u001b[39m api_wrapper = ChatUpstage(\n\u001b[32m     75\u001b[39m     model=\u001b[33m\"\u001b[39m\u001b[33mgroundedness-check\u001b[39m\u001b[33m\"\u001b[39m,\n\u001b[32m     76\u001b[39m     api_key=upstage_api_key.get_secret_value(),\n\u001b[32m     77\u001b[39m )\n\u001b[32m     78\u001b[39m \u001b[38;5;28msuper\u001b[39m().\u001b[34m__init__\u001b[39m(upstage_api_key=upstage_api_key, api_wrapper=api_wrapper)\n",
      "\u001b[31mValueError\u001b[39m: UPSTAGE_API_KEY must be set or passed",
      "During task with name 'hallucination_check' and id '62bf381d-c655-8763-3a3c-39bb4df497da'"
     ]
    }
   ],
   "source": [
    "# 실행 \n",
    "app = workflow.compile()\n",
    "response = app.invoke({})\n",
    "print(\"\\n[최종 답변]:\", response[\"answer\"])\n"
   ]
  },
  {
   "cell_type": "code",
   "execution_count": null,
   "id": "e0c7dd23",
   "metadata": {},
   "outputs": [],
   "source": []
  }
 ],
 "metadata": {
  "kernelspec": {
   "display_name": "langgraph_env",
   "language": "python",
   "name": "python3"
  },
  "language_info": {
   "codemirror_mode": {
    "name": "ipython",
    "version": 3
   },
   "file_extension": ".py",
   "mimetype": "text/x-python",
   "name": "python",
   "nbconvert_exporter": "python",
   "pygments_lexer": "ipython3",
   "version": "3.12.0"
  }
 },
 "nbformat": 4,
 "nbformat_minor": 5
}
