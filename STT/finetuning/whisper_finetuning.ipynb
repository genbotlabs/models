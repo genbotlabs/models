{
 "cells": [
  {
   "cell_type": "markdown",
   "metadata": {
    "id": "GjKIzVmLSHEa"
   },
   "source": [
    "# install"
   ]
  },
  {
   "cell_type": "code",
   "execution_count": null,
   "metadata": {
    "executionInfo": {
     "elapsed": 46691,
     "status": "ok",
     "timestamp": 1750636852325,
     "user": {
      "displayName": "jeongwon kim",
      "userId": "15766381950935341584"
     },
     "user_tz": -540
    },
    "id": "5QCf2TmISGSx"
   },
   "outputs": [],
   "source": [
    "# %%capture\n",
    "# !pip install datasets>=2.6.1\n",
    "# !pip install transformers==4.41.1\n",
    "# !pip install sentence-transformers==2.7.0\n",
    "# !pip install peft==0.10.0\n",
    "# !pip install evaluate>=0.30\n",
    "# !pip install jiwer\n",
    "# !pip install accelerate -U\n",
    "# !pip install transformers[torch]\n",
    "# !pip install wandb\n",
    "# !pip install matplotlib"
   ]
  },
  {
   "cell_type": "markdown",
   "metadata": {
    "id": "wPw4QCLtSJjT"
   },
   "source": [
    "# import"
   ]
  },
  {
   "cell_type": "code",
   "execution_count": 2,
   "metadata": {
    "executionInfo": {
     "elapsed": 14721,
     "status": "ok",
     "timestamp": 1750636867048,
     "user": {
      "displayName": "jeongwon kim",
      "userId": "15766381950935341584"
     },
     "user_tz": -540
    },
    "id": "7bk-BeOYSKyk"
   },
   "outputs": [],
   "source": [
    "import os\n",
    "import numpy as np\n",
    "import pandas as pd\n",
    "import matplotlib.pyplot as plt\n",
    "\n",
    "import wandb\n",
    "import torch\n",
    "from dataclasses import dataclass\n",
    "from typing import Any, Dict, List, Union\n",
    "\n",
    "from datasets import Dataset, DatasetDict\n",
    "from datasets import Audio"
   ]
  },
  {
   "cell_type": "markdown",
   "metadata": {
    "id": "DT2URFKLSM3k"
   },
   "source": [
    "# Google Mount"
   ]
  },
  {
   "cell_type": "code",
   "execution_count": 3,
   "metadata": {
    "colab": {
     "base_uri": "https://localhost:8080/"
    },
    "executionInfo": {
     "elapsed": 50835,
     "status": "ok",
     "timestamp": 1750636917884,
     "user": {
      "displayName": "jeongwon kim",
      "userId": "15766381950935341584"
     },
     "user_tz": -540
    },
    "id": "_WQit-9kFQ1G",
    "outputId": "34b8ea60-38dc-41fb-ae41-32f093df4e32"
   },
   "outputs": [],
   "source": [
    "# from google.colab import drive\n",
    "# drive.mount('/content/drive')"
   ]
  },
  {
   "cell_type": "code",
   "execution_count": null,
   "metadata": {
    "executionInfo": {
     "elapsed": 2,
     "status": "ok",
     "timestamp": 1750636917888,
     "user": {
      "displayName": "jeongwon kim",
      "userId": "15766381950935341584"
     },
     "user_tz": -540
    },
    "id": "u6FcgA-ySRUW"
   },
   "outputs": [],
   "source": [
    "# text_base_dir = f\"/workspace/train_cut/D03_Transcription\"\n",
    "# audio_base_dir = f\"/workspace/train_cut/D03_Audio\"\n",
    "# save_dir = f\"/workspace/\""
   ]
  },
  {
   "cell_type": "markdown",
   "metadata": {
    "id": "g0v7tz92FL4T"
   },
   "source": [
    "# 데이터 전처리"
   ]
  },
  {
   "cell_type": "code",
   "execution_count": 5,
   "metadata": {
    "executionInfo": {
     "elapsed": 1,
     "status": "ok",
     "timestamp": 1750636917890,
     "user": {
      "displayName": "jeongwon kim",
      "userId": "15766381950935341584"
     },
     "user_tz": -540
    },
    "id": "vqrfdKhvJmLs"
   },
   "outputs": [],
   "source": [
    "import os\n",
    "import glob\n",
    "import numpy as np\n",
    "import pandas as pd\n",
    "\n",
    "from tqdm.auto import tqdm"
   ]
  },
  {
   "cell_type": "code",
   "execution_count": null,
   "metadata": {
    "executionInfo": {
     "elapsed": 40253,
     "status": "ok",
     "timestamp": 1750636958164,
     "user": {
      "displayName": "jeongwon kim",
      "userId": "15766381950935341584"
     },
     "user_tz": -540
    },
    "id": "dbchouQ6F_os"
   },
   "outputs": [],
   "source": [
    "# # 1. 오디오 파일 경로 취합\n",
    "# # import glob\n",
    "\n",
    "# path = audio_base_dir + \"*/*/*\" # \"오디오 파일들이 포함된 경로를 입력한다. - 예) /content/drive/MyDrive/NLP_Project_data/raw_data/*\"\n",
    "# raw_data_list = glob.glob(path)\n",
    "# raw_data_list = sorted(raw_data_list)"
   ]
  },
  {
   "cell_type": "code",
   "execution_count": null,
   "metadata": {},
   "outputs": [],
   "source": [
    "from pathlib import Path\n",
    "\n",
    "text_base_dir = Path(\"C:/Users/Playdata/Desktop/test/train_cut/D03_Transcription\")\n",
    "audio_base_dir = Path(\"C:/Users/Playdata/Desktop/test/train_cut/D03_Audio\")\n",
    "\n",
    "# .txt 파일 glob 재설정 (재귀적 탐색)\n",
    "labeled_data_list = sorted(text_base_dir.rglob(\"*.txt\"))  # ✅ 모든 하위 폴더의 .txt 탐색\n",
    "raw_data_list = sorted(audio_base_dir.rglob(\"*.wav\"))     # ✅ 모든 하위 폴더의 .wav 탐색"
   ]
  },
  {
   "cell_type": "code",
   "execution_count": 7,
   "metadata": {
    "colab": {
     "base_uri": "https://localhost:8080/"
    },
    "executionInfo": {
     "elapsed": 8,
     "status": "ok",
     "timestamp": 1750636958165,
     "user": {
      "displayName": "jeongwon kim",
      "userId": "15766381950935341584"
     },
     "user_tz": -540
    },
    "id": "BtJtHYrYGIKq",
    "outputId": "fc6c5a44-d15b-42f2-aa7c-c40b31040632"
   },
   "outputs": [
    {
     "name": "stdout",
     "output_type": "stream",
     "text": [
      "file_list : ['/workspace/D03_Audio/J13/S000001/0001.wav', '/workspace/D03_Audio/J13/S000001/0002.wav', '/workspace/D03_Audio/J13/S000001/0003.wav', '/workspace/D03_Audio/J13/S000001/0004.wav', '/workspace/D03_Audio/J13/S000001/0005.wav', '/workspace/D03_Audio/J13/S000001/0006.wav', '/workspace/D03_Audio/J13/S000002/0001.wav', '/workspace/D03_Audio/J13/S000002/0002.wav', '/workspace/D03_Audio/J13/S000002/0003.wav', '/workspace/D03_Audio/J13/S000002/0005.wav']\n",
      "272973\n"
     ]
    }
   ],
   "source": [
    "print(f\"file_list : {raw_data_list[:10]}\")\n",
    "print(len(raw_data_list))"
   ]
  },
  {
   "cell_type": "markdown",
   "metadata": {
    "id": "58Xo-vBfSlso"
   },
   "source": [
    "# config"
   ]
  },
  {
   "cell_type": "code",
   "execution_count": 8,
   "metadata": {},
   "outputs": [],
   "source": [
    "class Config():\n",
    "    def __init__(self):\n",
    "        self.train_batch_size = 32 # 기존 : 64\n",
    "        self.valid_batch_size = 32 # 기존 : 32\n",
    "        self.lr = 2e-4\n",
    "        self.seed = 2024\n",
    "        self.n_epochs = 1\n",
    "        self.gradient_accumulation_steps = 2\n",
    "        # self.warm_up = 1000\n",
    "        # self.max_steps = 4000"
   ]
  },
  {
   "cell_type": "code",
   "execution_count": 9,
   "metadata": {
    "colab": {
     "base_uri": "https://localhost:8080/"
    },
    "executionInfo": {
     "elapsed": 14,
     "status": "ok",
     "timestamp": 1750636958180,
     "user": {
      "displayName": "jeongwon kim",
      "userId": "15766381950935341584"
     },
     "user_tz": -540
    },
    "id": "P9tMykqgSn_O",
    "outputId": "1d5a76aa-8440-45c4-8d24-f1563380eefc"
   },
   "outputs": [
    {
     "data": {
      "text/plain": [
       "32"
      ]
     },
     "execution_count": 9,
     "metadata": {},
     "output_type": "execute_result"
    }
   ],
   "source": [
    "config = Config()\n",
    "config.train_batch_size"
   ]
  },
  {
   "cell_type": "code",
   "execution_count": 10,
   "metadata": {},
   "outputs": [],
   "source": [
    "effective_batch_size = config.train_batch_size * config.gradient_accumulation_steps"
   ]
  },
  {
   "cell_type": "markdown",
   "metadata": {
    "id": "FJPaZo3MSpep"
   },
   "source": [
    "# Device"
   ]
  },
  {
   "cell_type": "code",
   "execution_count": 11,
   "metadata": {
    "colab": {
     "base_uri": "https://localhost:8080/"
    },
    "executionInfo": {
     "elapsed": 41,
     "status": "ok",
     "timestamp": 1750636958383,
     "user": {
      "displayName": "jeongwon kim",
      "userId": "15766381950935341584"
     },
     "user_tz": -540
    },
    "id": "vBnfXDFMSpML",
    "outputId": "f1bb2598-7784-4dbf-ec56-36dafedcd732"
   },
   "outputs": [
    {
     "data": {
      "text/plain": [
       "device(type='cuda')"
      ]
     },
     "execution_count": 11,
     "metadata": {},
     "output_type": "execute_result"
    }
   ],
   "source": [
    "device = torch.device(\"cuda\" if torch.cuda.is_available() else \"cpu\")\n",
    "device"
   ]
  },
  {
   "cell_type": "markdown",
   "metadata": {
    "id": "v8Vai_BVSsZP"
   },
   "source": [
    "# Set Seed"
   ]
  },
  {
   "cell_type": "code",
   "execution_count": 12,
   "metadata": {},
   "outputs": [
    {
     "name": "stdout",
     "output_type": "stream",
     "text": [
      "Using GPU: NVIDIA A100-SXM4-80GB\n"
     ]
    }
   ],
   "source": [
    "# 시드 설정 X\n",
    "\n",
    "def set_max_performance():\n",
    "    # 시드 설정을 아예 하지 않음\n",
    "    # 또는 아래처럼 일부 기본값으로 초기화해도 됨 (필수 아님)\n",
    "\n",
    "    # CuDNN 자동 최적 알고리즘 활성화 (성능 향상 가능)\n",
    "    torch.backends.cudnn.deterministic = False\n",
    "    torch.backends.cudnn.benchmark = True\n",
    "\n",
    "    # 필요시 여러 개의 GPU 중 가장 빠른 걸 자동 선택하게 할 수도 있음\n",
    "    if torch.cuda.is_available():\n",
    "        device = torch.device(\"cuda\")\n",
    "        print(f\"Using GPU: {torch.cuda.get_device_name(0)}\")\n",
    "    else:\n",
    "        device = torch.device(\"cpu\")\n",
    "        print(\"Using CPU\")\n",
    "\n",
    "set_max_performance()"
   ]
  },
  {
   "cell_type": "markdown",
   "metadata": {
    "id": "5ujLlu4DSwKA"
   },
   "source": [
    "# Load Dataset"
   ]
  },
  {
   "cell_type": "code",
   "execution_count": null,
   "metadata": {
    "colab": {
     "base_uri": "https://localhost:8080/",
     "height": 224
    },
    "executionInfo": {
     "elapsed": 1122,
     "status": "ok",
     "timestamp": 1750636959597,
     "user": {
      "displayName": "jeongwon kim",
      "userId": "15766381950935341584"
     },
     "user_tz": -540
    },
    "id": "icaks45gS0hE",
    "outputId": "10117395-902a-493b-8931-eda65342f03b"
   },
   "outputs": [
    {
     "name": "stdout",
     "output_type": "stream",
     "text": [
      "(272973, 2)\n"
     ]
    },
    {
     "data": {
      "text/html": [
       "<div>\n",
       "<style scoped>\n",
       "    .dataframe tbody tr th:only-of-type {\n",
       "        vertical-align: middle;\n",
       "    }\n",
       "\n",
       "    .dataframe tbody tr th {\n",
       "        vertical-align: top;\n",
       "    }\n",
       "\n",
       "    .dataframe thead th {\n",
       "        text-align: right;\n",
       "    }\n",
       "</style>\n",
       "<table border=\"1\" class=\"dataframe\">\n",
       "  <thead>\n",
       "    <tr style=\"text-align: right;\">\n",
       "      <th></th>\n",
       "      <th>transcript</th>\n",
       "      <th>raw_data</th>\n",
       "    </tr>\n",
       "  </thead>\n",
       "  <tbody>\n",
       "    <tr>\n",
       "      <th>0</th>\n",
       "      <td>네 감사합니다. NCS 교육과정 문의 체험입니다.</td>\n",
       "      <td>/workspace/D03_Audio/J13/S000001/0001.wav</td>\n",
       "    </tr>\n",
       "    <tr>\n",
       "      <th>1</th>\n",
       "      <td>네 여보세요.</td>\n",
       "      <td>/workspace/D03_Audio/J13/S000001/0002.wav</td>\n",
       "    </tr>\n",
       "    <tr>\n",
       "      <th>2</th>\n",
       "      <td>아 네 저기 그 NCS 인사담당자 기본 심화과정 신청하고 싶은데 교육 시간이 어...</td>\n",
       "      <td>/workspace/D03_Audio/J13/S000001/0003.wav</td>\n",
       "    </tr>\n",
       "    <tr>\n",
       "      <th>3</th>\n",
       "      <td>아 네 맞습니다. 홈페이지에 나와있는 어 네, 네. 기본과정이나 심화과정 2 다...</td>\n",
       "      <td>/workspace/D03_Audio/J13/S000001/0004.wav</td>\n",
       "    </tr>\n",
       "    <tr>\n",
       "      <th>4</th>\n",
       "      <td>네 알겠습니다.</td>\n",
       "      <td>/workspace/D03_Audio/J13/S000001/0005.wav</td>\n",
       "    </tr>\n",
       "  </tbody>\n",
       "</table>\n",
       "</div>"
      ],
      "text/plain": [
       "                                          transcript  \\\n",
       "0                        네 감사합니다. NCS 교육과정 문의 체험입니다.   \n",
       "1                                            네 여보세요.   \n",
       "2    아 네 저기 그 NCS 인사담당자 기본 심화과정 신청하고 싶은데 교육 시간이 어...   \n",
       "3    아 네 맞습니다. 홈페이지에 나와있는 어 네, 네. 기본과정이나 심화과정 2 다...   \n",
       "4                                           네 알겠습니다.   \n",
       "\n",
       "                                    raw_data  \n",
       "0  /workspace/D03_Audio/J13/S000001/0001.wav  \n",
       "1  /workspace/D03_Audio/J13/S000001/0002.wav  \n",
       "2  /workspace/D03_Audio/J13/S000001/0003.wav  \n",
       "3  /workspace/D03_Audio/J13/S000001/0004.wav  \n",
       "4  /workspace/D03_Audio/J13/S000001/0005.wav  "
      ]
     },
     "execution_count": 13,
     "metadata": {},
     "output_type": "execute_result"
    }
   ],
   "source": [
    "save_dir = Path(\"C:/projects/genbotlabs/models/STT\")\n",
    "\n",
    "df = pd.read_csv(save_dir / \"path_and_transcript_final.csv\")\n",
    "print(df.shape)\n",
    "df.head()"
   ]
  },
  {
   "cell_type": "code",
   "execution_count": 14,
   "metadata": {
    "colab": {
     "base_uri": "https://localhost:8080/",
     "height": 206
    },
    "executionInfo": {
     "elapsed": 35,
     "status": "ok",
     "timestamp": 1750636959630,
     "user": {
      "displayName": "jeongwon kim",
      "userId": "15766381950935341584"
     },
     "user_tz": -540
    },
    "id": "HHybm0qnS2go",
    "outputId": "509e02af-238f-4095-b3eb-09b0adf45585"
   },
   "outputs": [
    {
     "data": {
      "text/html": [
       "<div>\n",
       "<style scoped>\n",
       "    .dataframe tbody tr th:only-of-type {\n",
       "        vertical-align: middle;\n",
       "    }\n",
       "\n",
       "    .dataframe tbody tr th {\n",
       "        vertical-align: top;\n",
       "    }\n",
       "\n",
       "    .dataframe thead th {\n",
       "        text-align: right;\n",
       "    }\n",
       "</style>\n",
       "<table border=\"1\" class=\"dataframe\">\n",
       "  <thead>\n",
       "    <tr style=\"text-align: right;\">\n",
       "      <th></th>\n",
       "      <th>transcript</th>\n",
       "      <th>raw_data</th>\n",
       "    </tr>\n",
       "  </thead>\n",
       "  <tbody>\n",
       "    <tr>\n",
       "      <th>272968</th>\n",
       "      <td>확실한 자료는 없습니다.</td>\n",
       "      <td>/workspace/D03_Audio/J15/S003011/0014.wav</td>\n",
       "    </tr>\n",
       "    <tr>\n",
       "      <th>272969</th>\n",
       "      <td>취업률 자료까지 있었다면 좋을 텐데 아쉽네요. 어 혼자 생각해 보고 강의 신청 여부...</td>\n",
       "      <td>/workspace/D03_Audio/J15/S003011/0015.wav</td>\n",
       "    </tr>\n",
       "    <tr>\n",
       "      <th>272970</th>\n",
       "      <td>네 더 필요하신 거 있으실까요?</td>\n",
       "      <td>/workspace/D03_Audio/J15/S003011/0016.wav</td>\n",
       "    </tr>\n",
       "    <tr>\n",
       "      <th>272971</th>\n",
       "      <td>지금은 없어요. 생기면 다시 전화드릴게요.</td>\n",
       "      <td>/workspace/D03_Audio/J15/S003011/0017.wav</td>\n",
       "    </tr>\n",
       "    <tr>\n",
       "      <th>272972</th>\n",
       "      <td>네 감사합니다.</td>\n",
       "      <td>/workspace/D03_Audio/J15/S003011/0018.wav</td>\n",
       "    </tr>\n",
       "  </tbody>\n",
       "</table>\n",
       "</div>"
      ],
      "text/plain": [
       "                                               transcript  \\\n",
       "272968                                      확실한 자료는 없습니다.   \n",
       "272969  취업률 자료까지 있었다면 좋을 텐데 아쉽네요. 어 혼자 생각해 보고 강의 신청 여부...   \n",
       "272970                                  네 더 필요하신 거 있으실까요?   \n",
       "272971                            지금은 없어요. 생기면 다시 전화드릴게요.   \n",
       "272972                                           네 감사합니다.   \n",
       "\n",
       "                                         raw_data  \n",
       "272968  /workspace/D03_Audio/J15/S003011/0014.wav  \n",
       "272969  /workspace/D03_Audio/J15/S003011/0015.wav  \n",
       "272970  /workspace/D03_Audio/J15/S003011/0016.wav  \n",
       "272971  /workspace/D03_Audio/J15/S003011/0017.wav  \n",
       "272972  /workspace/D03_Audio/J15/S003011/0018.wav  "
      ]
     },
     "execution_count": 14,
     "metadata": {},
     "output_type": "execute_result"
    }
   ],
   "source": [
    "df.tail()"
   ]
  },
  {
   "cell_type": "markdown",
   "metadata": {
    "id": "9fhyeRkPS4tS"
   },
   "source": [
    "# Download Processors"
   ]
  },
  {
   "cell_type": "code",
   "execution_count": 15,
   "metadata": {
    "colab": {
     "base_uri": "https://localhost:8080/",
     "height": 273,
     "referenced_widgets": [
      "dfa6a452023d46be8cec14d9bf5b41ee",
      "6172a0c3616f425eb624d6075c772fc8",
      "b9e30f9c0a3f40248333843ff40da277",
      "f416119c4716483baeef80ca07ebc32b",
      "5d0abdb5010f46a2ab734d3f8a69dda1",
      "ea4431dc33d54a7fb078f074bd33e9c1",
      "74c47f4ec28c4a3b8e1543770dde733f",
      "ea2b3d3bb8164733acacb0f6a9c00939",
      "9fbf6b2c61e34bf6a0ddbc20b26ce055",
      "8ec3d8dd30f745bf9340823cd07b3410",
      "29a1d43cec884385a1cf4be1de9fb45c",
      "3d190449a5b64441ab478f876d1d1218",
      "87939dbfdb7147ecaf3ea9eb19922cef",
      "f3b732d38ae848ad8bbc7dfcfee3afd1",
      "6b1837e3d0f347248751ef0c525add3f",
      "58c82221d9a04b6f81aa5f070623edf6",
      "829d89e2757140b598f32bbf44c2b556",
      "526f58701d8b4beb867620494edac264",
      "a9ac5b589f094623a3d94b39fbb84d42",
      "5444c967bc6747cda90e12341591ce22",
      "991aefcceca144c59e97fc7365b60a45",
      "cf011a79cc194c7bac1d79a6e9c5fc94",
      "b684f2809c64457988058cdbb05dbd3b",
      "7b41f2dbf50249f9b02aa54e6223f8e4",
      "083d84d4205543c29e5d36da1fd462fb",
      "9dbe65be28dc4cf5a1728e2e7d6895dd",
      "1ffc1242e8b4469a94c5a69bae70e6a8",
      "24a89408258a497c978c2ce9e5737dbf",
      "6934ddfbf1fd4022be599bf3677e41df",
      "7eb1664a702a44a8a072cf7c1c62860c",
      "9b3d52ba0cb047aa9cee8645e7f5c301",
      "2665028978ef4ac1a1fb4e4ad1f6a92e",
      "bac0221f00bf4470b513b0262699456a",
      "df6eb1de214c4822aa4fe09c7af5d139",
      "e03f5f99b2294942b00ab5cbb8ccf23f",
      "b95a028f37b54d7d8119ac309bfe3dac",
      "e95239483f2b4e6386500eee3eca0510",
      "b450c92de7cb46c888debee37fc92297",
      "d603a480b94046cc9380a48bbe8ad238",
      "e44990400bb947bca6ec1e808f6eae1c",
      "2f6a9707a3a148cca5a4529d9b79252e",
      "f022eda350e640a3817add6ade0e6dcf",
      "b49f9b4a0e0947d8a91fc799c6e82b6a",
      "a4da59654abf4ad69bbbde5496d01312",
      "a1aae41ab5a443c7853057f33c73a060",
      "cf77132a4fc94dc8a93ae06f6a11cb16",
      "21230b6d30db45869e933588271464f9",
      "f7958f11b78c4c848bdff65d3a6f455b",
      "30f39cc016574e7f9f1b3d068e1d0584",
      "ebea20e5197b4e28972eb5c4ff748c20",
      "fe84398df8704140a55d2478d7bad3f9",
      "31fc7ad681444052b292a48d023ddbdf",
      "eab0064f187349d792c89a0d4f4b24e0",
      "d6f86101584346f4a621e589a49ccd77",
      "2aeb9e24fe974fe4963322babaaa75ed",
      "4a15ece151d54f2b8dd86774d567a495",
      "a0134a31008a4a3193cb5139d275bb85",
      "5e76d2ab50254a929d6ed32894425f53",
      "a605ed4ef1f9421ba901668c7fd48204",
      "fc083e02645a4cf2bafc1f4e8a99830a",
      "8dd48b3cc38c453baa571175be726cd6",
      "251ab3414a564c78b8900cb6b1967c54",
      "edece4c2929344fcb029b007fc48b236",
      "c9fdfac719614f7faa3bfe5d4984a5bd",
      "f6039aba2ea44f22afafdcf1f8a16a08",
      "eafeb4fceef844339bd5b0fba0dd7a72",
      "15c51f0fe5084f048531b5ecd159e417",
      "2b702c0ecb664639bfca70cf709ba9d5",
      "8a560625654e4276b3fd98379d14d358",
      "5c9e5dd56705475780c814c118344a04",
      "6eccdffaacc541fb9dfe4e4e0f672779",
      "4425ab7e63eb444492a31f23a990073e",
      "06dbd2971014413c9030ff27c416d612",
      "63e2da0773c74a438feab0beefae45a1",
      "fdec617ba149433fb32f653c7fcb2930",
      "e365ffc78732437cae63a7d6ba14e15f",
      "09cd9f9277e943c5bdcc1095d24aebaa",
      "7efff25be9444b449fddb13dc9216654",
      "eff363cd823d451f8afdb4a9a5f86f26",
      "bc455f1aad264020b9057afd8da902c7",
      "f54743d235744fecad9268d351ecbcd7",
      "e7ae772963b04122958febe9756980ad",
      "9f090fbd38de4aae8906706bb9f123c6",
      "193c3fb99bba41f89c0eab624f414265",
      "4ec7b6be274a408eae1c02d6dade2f20",
      "79dfb30d70a14935b45d2f23b687c563",
      "0afea7c833604342a1628edb57f95fd8",
      "6fd0f7ef1b874ed2b0146f4cf172a6f7"
     ]
    },
    "executionInfo": {
     "elapsed": 25242,
     "status": "ok",
     "timestamp": 1750636984879,
     "user": {
      "displayName": "jeongwon kim",
      "userId": "15766381950935341584"
     },
     "user_tz": -540
    },
    "id": "Y0fVvsKoS6fy",
    "outputId": "d3412ec1-016f-4ade-cffd-7d2d0c2e9823"
   },
   "outputs": [
    {
     "data": {
      "application/vnd.jupyter.widget-view+json": {
       "model_id": "d563fb3751d244ffb1e018e976bf2842",
       "version_major": 2,
       "version_minor": 0
      },
      "text/plain": [
       "preprocessor_config.json: 0.00B [00:00, ?B/s]"
      ]
     },
     "metadata": {},
     "output_type": "display_data"
    },
    {
     "data": {
      "application/vnd.jupyter.widget-view+json": {
       "model_id": "5ca0e9ba8e9543df8eb1847913114c07",
       "version_major": 2,
       "version_minor": 0
      },
      "text/plain": [
       "tokenizer_config.json: 0.00B [00:00, ?B/s]"
      ]
     },
     "metadata": {},
     "output_type": "display_data"
    },
    {
     "data": {
      "application/vnd.jupyter.widget-view+json": {
       "model_id": "5a5a7ef68bbc4ce19ce64c80240c6adf",
       "version_major": 2,
       "version_minor": 0
      },
      "text/plain": [
       "vocab.json: 0.00B [00:00, ?B/s]"
      ]
     },
     "metadata": {},
     "output_type": "display_data"
    },
    {
     "data": {
      "application/vnd.jupyter.widget-view+json": {
       "model_id": "7fab7005a3214096b6c1c6a59432fd5c",
       "version_major": 2,
       "version_minor": 0
      },
      "text/plain": [
       "tokenizer.json: 0.00B [00:00, ?B/s]"
      ]
     },
     "metadata": {},
     "output_type": "display_data"
    },
    {
     "data": {
      "application/vnd.jupyter.widget-view+json": {
       "model_id": "a8d61e67ad8a4e60bf2090f021fe8031",
       "version_major": 2,
       "version_minor": 0
      },
      "text/plain": [
       "merges.txt: 0.00B [00:00, ?B/s]"
      ]
     },
     "metadata": {},
     "output_type": "display_data"
    },
    {
     "data": {
      "application/vnd.jupyter.widget-view+json": {
       "model_id": "3b0802b3e3ec4d108847ac4eb3b0b233",
       "version_major": 2,
       "version_minor": 0
      },
      "text/plain": [
       "normalizer.json: 0.00B [00:00, ?B/s]"
      ]
     },
     "metadata": {},
     "output_type": "display_data"
    },
    {
     "data": {
      "application/vnd.jupyter.widget-view+json": {
       "model_id": "e6340509854f47a194681c3a3f22c784",
       "version_major": 2,
       "version_minor": 0
      },
      "text/plain": [
       "added_tokens.json: 0.00B [00:00, ?B/s]"
      ]
     },
     "metadata": {},
     "output_type": "display_data"
    },
    {
     "data": {
      "application/vnd.jupyter.widget-view+json": {
       "model_id": "5ca3188caab943be86fc9243e51d43f1",
       "version_major": 2,
       "version_minor": 0
      },
      "text/plain": [
       "special_tokens_map.json: 0.00B [00:00, ?B/s]"
      ]
     },
     "metadata": {},
     "output_type": "display_data"
    },
    {
     "name": "stderr",
     "output_type": "stream",
     "text": [
      "Special tokens have been added in the vocabulary, make sure the associated word embeddings are fine-tuned or trained.\n",
      "Special tokens have been added in the vocabulary, make sure the associated word embeddings are fine-tuned or trained.\n"
     ]
    }
   ],
   "source": [
    "from transformers import WhisperProcessor\n",
    "from transformers import WhisperFeatureExtractor, WhisperTokenizer\n",
    "\n",
    "model_name = \"openai/whisper-small\"\n",
    "lang = \"Korean\"\n",
    "\n",
    "# 파인튜닝을 진행하고자 하는 모델의 feature extractor를 로드\n",
    "feature_extractor = WhisperFeatureExtractor.from_pretrained(model_name)\n",
    "\n",
    "# 파인튜닝을 진행하고자 하는 모델의 tokenizer를 로드\n",
    "tokenizer = WhisperTokenizer.from_pretrained(model_name, language = lang, task=\"transcribe\")\n",
    "\n",
    "# All we need is Processor\n",
    "processor = WhisperProcessor.from_pretrained(model_name, language = lang, task=\"transcribe\")"
   ]
  },
  {
   "cell_type": "markdown",
   "metadata": {
    "id": "me4MSvijS_i8"
   },
   "source": [
    "# Dataset"
   ]
  },
  {
   "cell_type": "code",
   "execution_count": 16,
   "metadata": {
    "executionInfo": {
     "elapsed": 922,
     "status": "ok",
     "timestamp": 1750636985803,
     "user": {
      "displayName": "jeongwon kim",
      "userId": "15766381950935341584"
     },
     "user_tz": -540
    },
    "id": "PTJRvVwMS-6V"
   },
   "outputs": [],
   "source": [
    "from torch.utils.data import Dataset, DataLoader\n",
    "import torchaudio\n",
    "from torchaudio import transforms\n",
    "\n",
    "class SimpleASRDataset(Dataset):\n",
    "    def __init__(self,\n",
    "                 df,\n",
    "                 processor,\n",
    "                 resample_rate=16000):\n",
    "        self.df = df\n",
    "        self.device = device\n",
    "        self.processor = processor\n",
    "        self.resample_rate = resample_rate\n",
    "        self.audios = self.df.raw_data.to_list()\n",
    "        self.transcripts = self.df.transcript.to_list()\n",
    "\n",
    "    def __len__(self):\n",
    "        return self.df.shape[0]\n",
    "\n",
    "    def __getitem__(self, idx):\n",
    "\n",
    "        # audio\n",
    "        wav, sample_rate = torchaudio.load(self.audios[idx])\n",
    "        transform = transforms.Resample(sample_rate, self.resample_rate)\n",
    "        resampled_waveform = transform(wav)\n",
    "\n",
    "        input_features = self.processor(resampled_waveform.squeeze(0),     # Batch Size 제거\n",
    "                                        sampling_rate= self.resample_rate, # whisper-small은 sampling rate을 16000인 데이터에 대해서만 input으로 받는다고 합니다.\n",
    "                                        return_tensors=\"pt\"\n",
    "                                        ).input_features.squeeze(0)\n",
    "\n",
    "        # transcripts\n",
    "        labels = self.processor.tokenizer(self.transcripts[idx],\n",
    "                                          padding=True,\n",
    "                                          truncation=True,\n",
    "                                          return_tensors=\"pt\").input_ids.squeeze(0)\n",
    "\n",
    "        # return\n",
    "        return {'input_features': input_features, 'labels': labels}"
   ]
  },
  {
   "cell_type": "code",
   "execution_count": 17,
   "metadata": {
    "colab": {
     "base_uri": "https://localhost:8080/"
    },
    "executionInfo": {
     "elapsed": 7,
     "status": "ok",
     "timestamp": 1750636985815,
     "user": {
      "displayName": "jeongwon kim",
      "userId": "15766381950935341584"
     },
     "user_tz": -540
    },
    "id": "ojCzkScsTDGJ",
    "outputId": "e2f7c9b8-6535-4786-dae8-f384aae80b96"
   },
   "outputs": [
    {
     "data": {
      "text/plain": [
       "{'input_ids': tensor([[50258, 50264, 50359, 50363, 33386,   234, 36385,  1425,    30, 50257]]), 'attention_mask': tensor([[1, 1, 1, 1, 1, 1, 1, 1, 1, 1]])}"
      ]
     },
     "execution_count": 17,
     "metadata": {},
     "output_type": "execute_result"
    }
   ],
   "source": [
    "processor.tokenizer(\"넌 누구니?\", return_tensors=\"pt\")"
   ]
  },
  {
   "cell_type": "code",
   "execution_count": 18,
   "metadata": {
    "colab": {
     "base_uri": "https://localhost:8080/",
     "height": 1000
    },
    "executionInfo": {
     "elapsed": 213,
     "status": "error",
     "timestamp": 1750636986029,
     "user": {
      "displayName": "jeongwon kim",
      "userId": "15766381950935341584"
     },
     "user_tz": -540
    },
    "id": "x0ZrcdsgTEYB",
    "outputId": "332bf8f4-6634-4ad3-f0a8-b408b3fd298b"
   },
   "outputs": [
    {
     "data": {
      "text/plain": [
       "{'input_features': tensor([[-1.0557, -1.0557, -1.0557,  ..., -1.0557, -1.0557, -1.0557],\n",
       "         [-1.0557, -1.0557, -1.0557,  ..., -1.0557, -1.0557, -1.0557],\n",
       "         [-1.0557, -1.0557, -1.0557,  ..., -1.0557, -1.0557, -1.0557],\n",
       "         ...,\n",
       "         [-1.0557, -1.0557, -1.0557,  ..., -1.0557, -1.0557, -1.0557],\n",
       "         [-1.0557, -1.0557, -1.0557,  ..., -1.0557, -1.0557, -1.0557],\n",
       "         [-1.0557, -1.0557, -1.0557,  ..., -1.0557, -1.0557, -1.0557]]),\n",
       " 'labels': tensor([50258, 50264, 50359, 50363,   220,  8808, 24399,    13, 20786,    50,\n",
       "         24915, 36265,  7097,  6170, 13086,  2785, 39667, 24651,  7416,    13,\n",
       "         50257])}"
      ]
     },
     "execution_count": 18,
     "metadata": {},
     "output_type": "execute_result"
    }
   ],
   "source": [
    "ds = SimpleASRDataset(df = df, processor = processor)\n",
    "sample = next(iter(ds))\n",
    "sample"
   ]
  },
  {
   "cell_type": "code",
   "execution_count": 19,
   "metadata": {
    "executionInfo": {
     "elapsed": 46,
     "status": "aborted",
     "timestamp": 1750636986144,
     "user": {
      "displayName": "jeongwon kim",
      "userId": "15766381950935341584"
     },
     "user_tz": -540
    },
    "id": "w7XUv6UcTGek"
   },
   "outputs": [
    {
     "data": {
      "text/plain": [
       "(torch.Size([80, 3000]), torch.Size([21]))"
      ]
     },
     "execution_count": 19,
     "metadata": {},
     "output_type": "execute_result"
    }
   ],
   "source": [
    "sample['input_features'].shape, sample['labels'].shape"
   ]
  },
  {
   "cell_type": "code",
   "execution_count": 20,
   "metadata": {
    "executionInfo": {
     "elapsed": 5,
     "status": "aborted",
     "timestamp": 1750636986145,
     "user": {
      "displayName": "jeongwon kim",
      "userId": "15766381950935341584"
     },
     "user_tz": -540
    },
    "id": "6cnoA3XhTH3c"
   },
   "outputs": [
    {
     "data": {
      "text/plain": [
       "tensor([50258, 50264, 50359, 50363,   220,  8808, 24399,    13, 20786,    50,\n",
       "        24915, 36265,  7097,  6170, 13086,  2785, 39667, 24651,  7416,    13,\n",
       "        50257])"
      ]
     },
     "execution_count": 20,
     "metadata": {},
     "output_type": "execute_result"
    }
   ],
   "source": [
    "sample['labels']"
   ]
  },
  {
   "cell_type": "markdown",
   "metadata": {
    "id": "qunPfNVbTOtF"
   },
   "source": [
    "# DataCollatorSpeechSeq2SeqWithPadding"
   ]
  },
  {
   "cell_type": "code",
   "execution_count": 21,
   "metadata": {
    "executionInfo": {
     "elapsed": 5,
     "status": "aborted",
     "timestamp": 1750636986146,
     "user": {
      "displayName": "jeongwon kim",
      "userId": "15766381950935341584"
     },
     "user_tz": -540
    },
    "id": "155_FO9hThP4"
   },
   "outputs": [],
   "source": [
    "from dataclasses import dataclass\n",
    "from typing import Any, Dict, List, Union\n",
    "\n",
    "@dataclass\n",
    "class DataCollatorSpeechSeq2SeqWithPadding:\n",
    "    def __init__(self, processor):\n",
    "        self.processor = processor\n",
    "\n",
    "    def __call__(self, features: List[Dict[str, Union[List[int], torch.Tensor]]]) -> Dict[str, torch.Tensor]:\n",
    "\n",
    "        # 인풋 데이터와 라벨 데이터의 길이가 다르며, 따라서 서로 다른 패딩 방법이 적용되어야 한다. 그러므로 두 데이터를 분리해야 한다.\n",
    "        # 먼저 오디오 인풋 데이터를 간단히 토치 텐서로 반환하는 작업을 수행한다.\n",
    "        input_features = [{\"input_features\": feature[\"input_features\"]} for feature in features]\n",
    "        batch = self.processor.feature_extractor.pad(input_features, return_tensors=\"pt\")\n",
    "\n",
    "        # Tokenize된 레이블 시퀀스를 가져온다.\n",
    "        label_features = [{\"input_ids\": feature[\"labels\"]} for feature in features]\n",
    "        # 레이블 시퀀스에 대해 최대 길이만큼 패딩 작업을 실시한다.\n",
    "        labels_batch = self.processor.tokenizer.pad(label_features, return_tensors=\"pt\")\n",
    "\n",
    "        # 패딩 토큰을 -100으로 치환하여 loss 계산 과정에서 무시되도록 한다.\n",
    "        labels = labels_batch[\"input_ids\"].masked_fill(labels_batch.attention_mask.ne(1), -100)\n",
    "\n",
    "        # 이전 토크나이즈 과정에서 bos 토큰이 추가되었다면 bos 토큰을 잘라낸다.\n",
    "        # 해당 토큰은 이후 언제든 추가할 수 있다.\n",
    "        if (labels[:, 0] == self.processor.tokenizer.bos_token_id).all().cpu().item():\n",
    "            labels = labels[:, 1:]\n",
    "\n",
    "        batch[\"labels\"] = labels\n",
    "\n",
    "        return batch"
   ]
  },
  {
   "cell_type": "code",
   "execution_count": 22,
   "metadata": {
    "executionInfo": {
     "elapsed": 6,
     "status": "aborted",
     "timestamp": 1750636986147,
     "user": {
      "displayName": "jeongwon kim",
      "userId": "15766381950935341584"
     },
     "user_tz": -540
    },
    "id": "Gp2-kWg1TkSD"
   },
   "outputs": [],
   "source": [
    "# 데이터 콜레이터 초기화\n",
    "data_collator = DataCollatorSpeechSeq2SeqWithPadding(processor=processor)"
   ]
  },
  {
   "cell_type": "markdown",
   "metadata": {
    "id": "7xQKMw8eWx5-"
   },
   "source": [
    "# Datasets"
   ]
  },
  {
   "cell_type": "code",
   "execution_count": 24,
   "metadata": {
    "executionInfo": {
     "elapsed": 6,
     "status": "aborted",
     "timestamp": 1750636986148,
     "user": {
      "displayName": "jeongwon kim",
      "userId": "15766381950935341584"
     },
     "user_tz": -540
    },
    "id": "xS8ZoqzPWzGe"
   },
   "outputs": [],
   "source": [
    "# 기존 version\n",
    "\n",
    "def prepare_datasets(df,\n",
    "                    train_ratio,\n",
    "                    config = config,\n",
    "                    ):\n",
    "\n",
    "    total_rows = df.shape[0]\n",
    "    cutoff = int(train_ratio * total_rows)\n",
    "    print(cutoff)\n",
    "\n",
    "    # DataFrame Indexing\n",
    "    train_df = df[:cutoff].reset_index(drop = True)\n",
    "    valid_df = df[cutoff:].reset_index(drop = True)\n",
    "\n",
    "    # MyDataset\n",
    "    train_ds = SimpleASRDataset(df = train_df, processor = processor)\n",
    "    valid_ds = SimpleASRDataset(df = valid_df, processor = processor)\n",
    "\n",
    "    print(\"Dataset Completed\")\n",
    "    return train_ds, valid_ds"
   ]
  },
  {
   "cell_type": "code",
   "execution_count": 25,
   "metadata": {},
   "outputs": [
    {
     "name": "stdout",
     "output_type": "stream",
     "text": [
      "218378\n",
      "Dataset Completed\n"
     ]
    }
   ],
   "source": [
    "train_ds, valid_ds = prepare_datasets(df, train_ratio = 0.8, config = config)"
   ]
  },
  {
   "cell_type": "code",
   "execution_count": 23,
   "metadata": {},
   "outputs": [],
   "source": [
    "# # new version\n",
    "\n",
    "# def prepare_datasets(df,\n",
    "#                      train_ratio,\n",
    "#                      val_ratio,\n",
    "#                      processor,\n",
    "#                      config,\n",
    "#                      shuffle=True,\n",
    "#                      seed=42):\n",
    "#     \"\"\"\n",
    "#     DataFrame을 train / val / test로 분할하고 Dataset 객체로 반환\n",
    "#     \"\"\"\n",
    "#     assert train_ratio + val_ratio < 1.0, \"train + val 비율의 합은 1보다 작아야 test 세트가 존재합니다.\"\n",
    "\n",
    "#     # 셔플\n",
    "#     if shuffle:\n",
    "#         df = df.sample(frac=1, random_state=seed).reset_index(drop=True)\n",
    "\n",
    "#     # 분할 지점 계산\n",
    "#     total_rows = df.shape[0]\n",
    "#     train_cut = int(train_ratio * total_rows)\n",
    "#     val_cut = int((train_ratio + val_ratio) * total_rows)\n",
    "\n",
    "#     print(f\"총 샘플 수: {total_rows}\")\n",
    "#     print(f\"Train: {train_cut}, Val: {val_cut - train_cut}, Test: {total_rows - val_cut}\")\n",
    "\n",
    "#     # DataFrame 분리\n",
    "#     train_df = df[:train_cut].reset_index(drop=True)\n",
    "#     val_df = df[train_cut:val_cut].reset_index(drop=True)\n",
    "#     test_df = df[val_cut:].reset_index(drop=True)\n",
    "\n",
    "#     # Dataset 생성\n",
    "#     train_ds = SimpleASRDataset(df=train_df, processor=processor)\n",
    "#     val_ds = SimpleASRDataset(df=val_df, processor=processor)\n",
    "#     test_ds = SimpleASRDataset(df=test_df, processor=processor)\n",
    "\n",
    "#     return train_ds, val_ds, test_ds"
   ]
  },
  {
   "cell_type": "code",
   "execution_count": 26,
   "metadata": {},
   "outputs": [],
   "source": [
    "# # ✅ 분할 비율 및 설정값 정의\n",
    "# train_ratio = 0.6\n",
    "# val_ratio = 0.2\n",
    "shuffle_data = True\n",
    "random_seed = 42"
   ]
  },
  {
   "cell_type": "code",
   "execution_count": 29,
   "metadata": {
    "executionInfo": {
     "elapsed": 7,
     "status": "aborted",
     "timestamp": 1750636986149,
     "user": {
      "displayName": "jeongwon kim",
      "userId": "15766381950935341584"
     },
     "user_tz": -540
    },
    "id": "na10a_IZcCFd"
   },
   "outputs": [
    {
     "name": "stdout",
     "output_type": "stream",
     "text": [
      "총 샘플 수: 14487\n",
      "Train: 8692, Val: 2897, Test: 2898\n"
     ]
    }
   ],
   "source": [
    "# train_ds, val_ds, test_ds = prepare_datasets(df=df,\n",
    "#                                               train_ratio=train_ratio,\n",
    "#                                               val_ratio=val_ratio,\n",
    "#                                               processor=processor,\n",
    "#                                               config=config,\n",
    "#                                               shuffle=shuffle_data,\n",
    "#                                               seed=random_seed)"
   ]
  },
  {
   "cell_type": "code",
   "execution_count": 27,
   "metadata": {
    "executionInfo": {
     "elapsed": 8,
     "status": "aborted",
     "timestamp": 1750636986150,
     "user": {
      "displayName": "jeongwon kim",
      "userId": "15766381950935341584"
     },
     "user_tz": -540
    },
    "id": "sPBMwqvkcDHj"
   },
   "outputs": [
    {
     "data": {
      "text/plain": [
       "(torch.Size([80, 3000]), torch.Size([21]))"
      ]
     },
     "execution_count": 27,
     "metadata": {},
     "output_type": "execute_result"
    }
   ],
   "source": [
    "sample = next(iter(train_ds))\n",
    "sample['input_features'].shape, sample['labels'].shape"
   ]
  },
  {
   "cell_type": "markdown",
   "metadata": {
    "id": "Q8yNXE4wcEvc"
   },
   "source": [
    "# DataLoaders"
   ]
  },
  {
   "cell_type": "code",
   "execution_count": 28,
   "metadata": {
    "executionInfo": {
     "elapsed": 9,
     "status": "aborted",
     "timestamp": 1750636986152,
     "user": {
      "displayName": "jeongwon kim",
      "userId": "15766381950935341584"
     },
     "user_tz": -540
    },
    "id": "WTLxZUlYcEDj"
   },
   "outputs": [
    {
     "data": {
      "text/plain": [
       "255"
      ]
     },
     "execution_count": 28,
     "metadata": {},
     "output_type": "execute_result"
    }
   ],
   "source": [
    "import os\n",
    "os.cpu_count()"
   ]
  },
  {
   "cell_type": "code",
   "execution_count": 29,
   "metadata": {
    "executionInfo": {
     "elapsed": 180619,
     "status": "aborted",
     "timestamp": 1750636986153,
     "user": {
      "displayName": "jeongwon kim",
      "userId": "15766381950935341584"
     },
     "user_tz": -540
    },
    "id": "S1aCvIebcJDM"
   },
   "outputs": [],
   "source": [
    "# 기존 버전\n",
    "# 지금은 필요하지 않습니다.\n",
    "\n",
    "def prepare_loaders(df,\n",
    "                    train_ratio,\n",
    "                    config = config,\n",
    "                    collate_fn = data_collator\n",
    "                    ):\n",
    "\n",
    "    total_rows = df.shape[0]\n",
    "    cutoff = int(train_ratio * total_rows)\n",
    "    print(cutoff)\n",
    "\n",
    "    # DataFrame Indexing\n",
    "    train_df = df[:cutoff].reset_index(drop = True)\n",
    "    valid_df = df[cutoff:].reset_index(drop = True)\n",
    "\n",
    "    # MyDataset\n",
    "    train_ds = SimpleASRDataset(df = train_df, processor = processor)\n",
    "    valid_ds = SimpleASRDataset(df = valid_df, processor = processor)\n",
    "\n",
    "    # DataLoader\n",
    "    train_loader = DataLoader(train_ds,\n",
    "                              batch_size = config.train_batch_size,\n",
    "                              shuffle= True,\n",
    "                            #   num_workers= 1,\n",
    "                              collate_fn= data_collator,\n",
    "                              drop_last = True\n",
    "                              )\n",
    "    valid_loader = DataLoader(valid_ds,\n",
    "                              batch_size = config.valid_batch_size,\n",
    "                              shuffle= False,\n",
    "                            #   num_workers= 1,\n",
    "                              collate_fn= data_collator,\n",
    "                              drop_last = True\n",
    "                              )\n",
    "\n",
    "    print(\"DataLoader Completed\")\n",
    "    return train_loader, valid_loader"
   ]
  },
  {
   "cell_type": "code",
   "execution_count": 31,
   "metadata": {},
   "outputs": [
    {
     "name": "stdout",
     "output_type": "stream",
     "text": [
      "218378\n",
      "DataLoader Completed\n"
     ]
    }
   ],
   "source": [
    "train_loader, valid_loader = prepare_loaders(df, 0.8)"
   ]
  },
  {
   "cell_type": "code",
   "execution_count": 33,
   "metadata": {},
   "outputs": [],
   "source": [
    "# # new version\n",
    "\n",
    "# def prepare_loaders(df,\n",
    "#                     train_ratio,\n",
    "#                     val_ratio,\n",
    "#                     processor,\n",
    "#                     config,\n",
    "#                     collate_fn,\n",
    "#                     shuffle=True,\n",
    "#                     seed=42):\n",
    "#     \"\"\"\n",
    "#     DataFrame을 train / val / test로 분할하고 DataLoader 객체로 반환\n",
    "#     \"\"\"\n",
    "#     assert train_ratio + val_ratio < 1.0, \"train + val 비율의 합은 1보다 작아야 test 세트가 존재합니다.\"\n",
    "\n",
    "#     if shuffle:\n",
    "#         df = df.sample(frac=1, random_state=seed).reset_index(drop=True)\n",
    "\n",
    "#     total_rows = df.shape[0]\n",
    "#     train_cut = int(train_ratio * total_rows)\n",
    "#     val_cut = int((train_ratio + val_ratio) * total_rows)\n",
    "\n",
    "#     print(f\"총 샘플 수: {total_rows}\")\n",
    "#     print(f\"Train: {train_cut}, Val: {val_cut - train_cut}, Test: {total_rows - val_cut}\")\n",
    "\n",
    "#     train_df = df[:train_cut].reset_index(drop=True)\n",
    "#     val_df = df[train_cut:val_cut].reset_index(drop=True)\n",
    "#     test_df = df[val_cut:].reset_index(drop=True)\n",
    "\n",
    "#     train_ds = SimpleASRDataset(df=train_df, processor=processor)\n",
    "#     val_ds = SimpleASRDataset(df=val_df, processor=processor)\n",
    "#     test_ds = SimpleASRDataset(df=test_df, processor=processor)\n",
    "\n",
    "#     train_loader = DataLoader(train_ds,\n",
    "#                               batch_size=config.train_batch_size,\n",
    "#                               shuffle=True,\n",
    "#                               collate_fn=collate_fn,\n",
    "#                               drop_last=True)\n",
    "\n",
    "#     val_loader = DataLoader(val_ds,\n",
    "#                             batch_size=config.valid_batch_size,\n",
    "#                             shuffle=False,\n",
    "#                             collate_fn=collate_fn,\n",
    "#                             drop_last=False)\n",
    "\n",
    "#     test_loader = DataLoader(test_ds,\n",
    "#                              batch_size=config.valid_batch_size,\n",
    "#                              shuffle=False,\n",
    "#                              collate_fn=collate_fn,\n",
    "#                              drop_last=False)\n",
    "\n",
    "#     return train_loader, val_loader, test_loader"
   ]
  },
  {
   "cell_type": "code",
   "execution_count": 34,
   "metadata": {
    "executionInfo": {
     "elapsed": 180620,
     "status": "aborted",
     "timestamp": 1750636986154,
     "user": {
      "displayName": "jeongwon kim",
      "userId": "15766381950935341584"
     },
     "user_tz": -540
    },
    "id": "JaTePGCtcMF6"
   },
   "outputs": [
    {
     "name": "stdout",
     "output_type": "stream",
     "text": [
      "총 샘플 수: 14487\n",
      "Train: 8692, Val: 2897, Test: 2898\n"
     ]
    }
   ],
   "source": [
    "# train_loader, val_loader, test_loader = prepare_loaders(df=df,\n",
    "#                                                         train_ratio=train_ratio,\n",
    "#                                                         val_ratio=val_ratio,\n",
    "#                                                         processor=processor,\n",
    "#                                                         config=config,\n",
    "#                                                         collate_fn=data_collator,\n",
    "#                                                         shuffle=shuffle_data,\n",
    "#                                                         seed=random_seed)"
   ]
  },
  {
   "cell_type": "code",
   "execution_count": 32,
   "metadata": {
    "executionInfo": {
     "elapsed": 180621,
     "status": "aborted",
     "timestamp": 1750636986155,
     "user": {
      "displayName": "jeongwon kim",
      "userId": "15766381950935341584"
     },
     "user_tz": -540
    },
    "id": "PatinWgncOe4"
   },
   "outputs": [
    {
     "data": {
      "text/plain": [
       "(torch.Size([32, 80, 3000]), torch.Size([32, 65]))"
      ]
     },
     "execution_count": 32,
     "metadata": {},
     "output_type": "execute_result"
    }
   ],
   "source": [
    "sample = next(iter(train_loader))\n",
    "sample['input_features'].shape, sample['labels'].shape"
   ]
  },
  {
   "cell_type": "markdown",
   "metadata": {
    "id": "tlj8qNIHcTZ_"
   },
   "source": [
    "# Evaluation Metric : `CER`"
   ]
  },
  {
   "cell_type": "code",
   "execution_count": 33,
   "metadata": {
    "executionInfo": {
     "elapsed": 180622,
     "status": "aborted",
     "timestamp": 1750636986156,
     "user": {
      "displayName": "jeongwon kim",
      "userId": "15766381950935341584"
     },
     "user_tz": -540
    },
    "id": "8viJNYaMcWcv"
   },
   "outputs": [],
   "source": [
    "import evaluate\n",
    "\n",
    "def compute_metrics(pred):\n",
    "    # import evaluate\n",
    "    metric = evaluate.load('cer')\n",
    "\n",
    "    pred_ids = pred.predictions\n",
    "    label_ids = pred.label_ids\n",
    "\n",
    "    # pad_token을 -100으로 치환\n",
    "    label_ids[label_ids == -100] = tokenizer.pad_token_id\n",
    "\n",
    "    # metrics 계산 시 special token들을 빼고 계산하도록 설정\n",
    "    pred_str = tokenizer.batch_decode(pred_ids, skip_special_tokens=True)\n",
    "    label_str = tokenizer.batch_decode(label_ids, skip_special_tokens=True)\n",
    "\n",
    "    cer = 100 * metric.compute(predictions=pred_str, references=label_str)\n",
    "\n",
    "    return {\"cer\": cer}"
   ]
  },
  {
   "cell_type": "markdown",
   "metadata": {
    "id": "KqFGJfDfcZXu"
   },
   "source": [
    "# Download & Load Model"
   ]
  },
  {
   "cell_type": "code",
   "execution_count": 34,
   "metadata": {
    "executionInfo": {
     "elapsed": 180622,
     "status": "aborted",
     "timestamp": 1750636986157,
     "user": {
      "displayName": "jeongwon kim",
      "userId": "15766381950935341584"
     },
     "user_tz": -540
    },
    "id": "eBFZ3tWPcb7h"
   },
   "outputs": [
    {
     "name": "stdout",
     "output_type": "stream",
     "text": [
      "openai/whisper-small\n"
     ]
    }
   ],
   "source": [
    "print(model_name)"
   ]
  },
  {
   "cell_type": "code",
   "execution_count": 35,
   "metadata": {
    "executionInfo": {
     "elapsed": 180623,
     "status": "aborted",
     "timestamp": 1750636986158,
     "user": {
      "displayName": "jeongwon kim",
      "userId": "15766381950935341584"
     },
     "user_tz": -540
    },
    "id": "bKCYSEA-cdaH"
   },
   "outputs": [
    {
     "data": {
      "application/vnd.jupyter.widget-view+json": {
       "model_id": "0d47f5249b0e45d0924be852c20923ed",
       "version_major": 2,
       "version_minor": 0
      },
      "text/plain": [
       "config.json: 0.00B [00:00, ?B/s]"
      ]
     },
     "metadata": {},
     "output_type": "display_data"
    },
    {
     "data": {
      "application/vnd.jupyter.widget-view+json": {
       "model_id": "a8f97649d55e4ef989ec2c008c012a30",
       "version_major": 2,
       "version_minor": 0
      },
      "text/plain": [
       "model.safetensors:   0%|          | 0.00/967M [00:00<?, ?B/s]"
      ]
     },
     "metadata": {},
     "output_type": "display_data"
    },
    {
     "data": {
      "application/vnd.jupyter.widget-view+json": {
       "model_id": "950b2e8f76c34bbd899d86a214186dc4",
       "version_major": 2,
       "version_minor": 0
      },
      "text/plain": [
       "generation_config.json: 0.00B [00:00, ?B/s]"
      ]
     },
     "metadata": {},
     "output_type": "display_data"
    }
   ],
   "source": [
    "from transformers import WhisperForConditionalGeneration\n",
    "\n",
    "model = WhisperForConditionalGeneration.from_pretrained(model_name)\n",
    "model.config.forced_decoder_ids = None\n",
    "model.config.suppress_tokens = []"
   ]
  },
  {
   "cell_type": "code",
   "execution_count": 36,
   "metadata": {
    "executionInfo": {
     "elapsed": 180623,
     "status": "aborted",
     "timestamp": 1750636986158,
     "user": {
      "displayName": "jeongwon kim",
      "userId": "15766381950935341584"
     },
     "user_tz": -540
    },
    "id": "ccLUmGTGcnJj"
   },
   "outputs": [],
   "source": [
    "# GPU\n",
    "model = model.to(device)"
   ]
  },
  {
   "cell_type": "code",
   "execution_count": 37,
   "metadata": {
    "executionInfo": {
     "elapsed": 180623,
     "status": "aborted",
     "timestamp": 1750636986159,
     "user": {
      "displayName": "jeongwon kim",
      "userId": "15766381950935341584"
     },
     "user_tz": -540
    },
    "id": "8pNgApKqcoRW"
   },
   "outputs": [
    {
     "data": {
      "text/plain": [
       "True"
      ]
     },
     "execution_count": 37,
     "metadata": {},
     "output_type": "execute_result"
    }
   ],
   "source": [
    "# model cuda? Check!\n",
    "next(model.parameters()).is_cuda"
   ]
  },
  {
   "cell_type": "markdown",
   "metadata": {
    "id": "ZVRsy5fHcp_J"
   },
   "source": [
    "# Optimizer"
   ]
  },
  {
   "cell_type": "code",
   "execution_count": 38,
   "metadata": {
    "executionInfo": {
     "elapsed": 180624,
     "status": "aborted",
     "timestamp": 1750636986160,
     "user": {
      "displayName": "jeongwon kim",
      "userId": "15766381950935341584"
     },
     "user_tz": -540
    },
    "id": "WxUS-k1TcrCs"
   },
   "outputs": [
    {
     "name": "stdout",
     "output_type": "stream",
     "text": [
      "Optimizer Defined\n"
     ]
    }
   ],
   "source": [
    "optimizer = torch.optim.Adam(model.parameters(), lr = config.lr)\n",
    "print(\"Optimizer Defined\")"
   ]
  },
  {
   "cell_type": "markdown",
   "metadata": {
    "id": "5ZRWLsEycsSW"
   },
   "source": [
    "# Scheduler"
   ]
  },
  {
   "cell_type": "code",
   "execution_count": 39,
   "metadata": {
    "executionInfo": {
     "elapsed": 180625,
     "status": "aborted",
     "timestamp": 1750636986161,
     "user": {
      "displayName": "jeongwon kim",
      "userId": "15766381950935341584"
     },
     "user_tz": -540
    },
    "id": "jfUhU2CVctVM"
   },
   "outputs": [
    {
     "data": {
      "text/plain": [
       "3412"
      ]
     },
     "execution_count": 39,
     "metadata": {},
     "output_type": "execute_result"
    }
   ],
   "source": [
    "steps_per_epoch = len(train_ds) // effective_batch_size  # 기존 : config.train_batch_size\n",
    "steps_per_epoch"
   ]
  },
  {
   "cell_type": "code",
   "execution_count": 40,
   "metadata": {
    "executionInfo": {
     "elapsed": 180625,
     "status": "aborted",
     "timestamp": 1750636986162,
     "user": {
      "displayName": "jeongwon kim",
      "userId": "15766381950935341584"
     },
     "user_tz": -540
    },
    "id": "V-YENT7gcuvv"
   },
   "outputs": [],
   "source": [
    "scheduler = torch.optim.lr_scheduler.OneCycleLR(optimizer,\n",
    "                                               max_lr = config.lr,\n",
    "                                               steps_per_epoch = int(steps_per_epoch),\n",
    "                                               epochs = config.n_epochs\n",
    "                                               )"
   ]
  },
  {
   "cell_type": "markdown",
   "metadata": {
    "id": "MRQmwe5kcxDj"
   },
   "source": [
    "# wandb init"
   ]
  },
  {
   "cell_type": "code",
   "execution_count": 41,
   "metadata": {
    "executionInfo": {
     "elapsed": 180625,
     "status": "aborted",
     "timestamp": 1750636986162,
     "user": {
      "displayName": "jeongwon kim",
      "userId": "15766381950935341584"
     },
     "user_tz": -540
    },
    "id": "RUXDfvvJcyYD"
   },
   "outputs": [
    {
     "name": "stdout",
     "output_type": "stream",
     "text": [
      "\u001b[34m\u001b[1mwandb\u001b[0m: No netrc file found, creating one.\n",
      "\u001b[34m\u001b[1mwandb\u001b[0m: Appending key for api.wandb.ai to your netrc file: /root/.netrc\n",
      "\u001b[34m\u001b[1mwandb\u001b[0m: W&B API key is configured. Use \u001b[1m`wandb login --relogin`\u001b[0m to force relogin\n"
     ]
    }
   ],
   "source": [
    "# Colab에서 진행하는 경우, wandb에 Google 계정으로 가입되어있다면, 자동으로 로그인이 되기도 합니다. (지금도 가능한 지는 모르겠네요)\n",
    "\n",
    "# login at CLI\n",
    "!wandb login --relogin '2ea04dd0d2989d8bfd46b99ce355214f661b1b46'"
   ]
  },
  {
   "cell_type": "code",
   "execution_count": 42,
   "metadata": {
    "executionInfo": {
     "elapsed": 180625,
     "status": "aborted",
     "timestamp": 1750636986163,
     "user": {
      "displayName": "jeongwon kim",
      "userId": "15766381950935341584"
     },
     "user_tz": -540
    },
    "id": "i3EODr2Fc0H1"
   },
   "outputs": [
    {
     "name": "stderr",
     "output_type": "stream",
     "text": [
      "\u001b[34m\u001b[1mwandb\u001b[0m: Currently logged in as: \u001b[33mjwk20001007\u001b[0m (\u001b[33mjwk1007\u001b[0m) to \u001b[32mhttps://api.wandb.ai\u001b[0m. Use \u001b[1m`wandb login --relogin`\u001b[0m to force relogin\n"
     ]
    },
    {
     "data": {
      "text/html": [
       "Tracking run with wandb version 0.20.1"
      ],
      "text/plain": [
       "<IPython.core.display.HTML object>"
      ]
     },
     "metadata": {},
     "output_type": "display_data"
    },
    {
     "data": {
      "text/html": [
       "Run data is saved locally in <code>/workspace/wandb/run-20250630_011918-qdzrv5cj</code>"
      ],
      "text/plain": [
       "<IPython.core.display.HTML object>"
      ]
     },
     "metadata": {},
     "output_type": "display_data"
    },
    {
     "data": {
      "text/html": [
       "Syncing run <strong><a href='https://wandb.ai/jwk1007/Korean-Whisper-Fine-Tune/runs/qdzrv5cj?apiKey=2ea04dd0d2989d8bfd46b99ce355214f661b1b46' target=\"_blank\">whisper-small-base-0630</a></strong> to <a href='https://wandb.ai/jwk1007/Korean-Whisper-Fine-Tune?apiKey=2ea04dd0d2989d8bfd46b99ce355214f661b1b46' target=\"_blank\">Weights & Biases</a> (<a href='https://wandb.me/developer-guide' target=\"_blank\">docs</a>)<br>"
      ],
      "text/plain": [
       "<IPython.core.display.HTML object>"
      ]
     },
     "metadata": {},
     "output_type": "display_data"
    },
    {
     "data": {
      "text/html": [
       " View project at <a href='https://wandb.ai/jwk1007/Korean-Whisper-Fine-Tune?apiKey=2ea04dd0d2989d8bfd46b99ce355214f661b1b46' target=\"_blank\">https://wandb.ai/jwk1007/Korean-Whisper-Fine-Tune?apiKey=2ea04dd0d2989d8bfd46b99ce355214f661b1b46</a>"
      ],
      "text/plain": [
       "<IPython.core.display.HTML object>"
      ]
     },
     "metadata": {},
     "output_type": "display_data"
    },
    {
     "data": {
      "text/html": [
       " View run at <a href='https://wandb.ai/jwk1007/Korean-Whisper-Fine-Tune/runs/qdzrv5cj?apiKey=2ea04dd0d2989d8bfd46b99ce355214f661b1b46' target=\"_blank\">https://wandb.ai/jwk1007/Korean-Whisper-Fine-Tune/runs/qdzrv5cj?apiKey=2ea04dd0d2989d8bfd46b99ce355214f661b1b46</a>"
      ],
      "text/plain": [
       "<IPython.core.display.HTML object>"
      ]
     },
     "metadata": {},
     "output_type": "display_data"
    },
    {
     "data": {
      "text/html": [
       "Do NOT share these links with anyone. They can be used to claim your runs."
      ],
      "text/plain": [
       "<IPython.core.display.HTML object>"
      ]
     },
     "metadata": {},
     "output_type": "display_data"
    }
   ],
   "source": [
    "run = wandb.init(project= 'Korean-Whisper-Fine-Tune',\n",
    "                 config = config,\n",
    "                 job_type = 'Training',\n",
    "                 name = \"whisper-small-base-0630\",\n",
    "                 anonymous = 'must'\n",
    "                 )"
   ]
  },
  {
   "cell_type": "code",
   "execution_count": 43,
   "metadata": {},
   "outputs": [],
   "source": [
    "# import torch\n",
    "# torch.cuda.empty_cache()"
   ]
  },
  {
   "cell_type": "markdown",
   "metadata": {
    "id": "yVNTQcEmc9AT"
   },
   "source": [
    "# TrainingArguments"
   ]
  },
  {
   "cell_type": "code",
   "execution_count": 44,
   "metadata": {},
   "outputs": [
    {
     "name": "stdout",
     "output_type": "stream",
     "text": [
      "3412\n"
     ]
    }
   ],
   "source": [
    "print(steps_per_epoch)"
   ]
  },
  {
   "cell_type": "code",
   "execution_count": 45,
   "metadata": {
    "executionInfo": {
     "elapsed": 180626,
     "status": "aborted",
     "timestamp": 1750636986164,
     "user": {
      "displayName": "jeongwon kim",
      "userId": "15766381950935341584"
     },
     "user_tz": -540
    },
    "id": "oAuurozJc-2T"
   },
   "outputs": [
    {
     "data": {
      "text/plain": [
       "3412"
      ]
     },
     "execution_count": 45,
     "metadata": {},
     "output_type": "execute_result"
    }
   ],
   "source": [
    "max_iters = int(steps_per_epoch * config.n_epochs)\n",
    "max_iters"
   ]
  },
  {
   "cell_type": "code",
   "execution_count": 46,
   "metadata": {},
   "outputs": [
    {
     "name": "stdout",
     "output_type": "stream",
     "text": [
      "Effective batch size: 64\n",
      "Steps per epoch: 3412\n",
      "Total max steps: 3412\n"
     ]
    }
   ],
   "source": [
    "print(f\"Effective batch size: {effective_batch_size}\")\n",
    "print(f\"Steps per epoch: {steps_per_epoch}\")\n",
    "print(f\"Total max steps: {max_iters}\")"
   ]
  },
  {
   "cell_type": "code",
   "execution_count": 48,
   "metadata": {
    "executionInfo": {
     "elapsed": 180627,
     "status": "aborted",
     "timestamp": 1750636986165,
     "user": {
      "displayName": "jeongwon kim",
      "userId": "15766381950935341584"
     },
     "user_tz": -540
    },
    "id": "6MXQg9_Yc_6P"
   },
   "outputs": [],
   "source": [
    "from transformers import Seq2SeqTrainingArguments\n",
    "\n",
    "training_args = Seq2SeqTrainingArguments(\n",
    "    output_dir=\"./model\",                        # 원하는 경로\n",
    "    # per_gpu_train_batch_size= config.train_batch_size,\n",
    "    per_device_train_batch_size= config.train_batch_size,\n",
    "    gradient_accumulation_steps= config.gradient_accumulation_steps, # 기존 : 1\n",
    "    learning_rate= config.lr,\n",
    "    # warmup_steps=500,                     # Scheduler를 이전 셀에서 선언해서 입력하지 않습니다.\n",
    "    # evaluation_strategy = 'epoch',        # epoch 기준으로 평가할 수 있습니다.\n",
    "    eval_strategy = 'steps',\n",
    "    eval_steps=500,\n",
    "    # num_train_epochs= config.n_epochs,\n",
    "    max_steps = max_iters,                  # epoch 대신 설정\n",
    "    seed = config.seed,                     # 이전에서 선언했지만, 여기서 한 번 더 해도 상관없습니다.\n",
    "    gradient_checkpointing=True,\n",
    "    group_by_length = True,\n",
    "    # fp16=True,                            # mixed_precision=\"fp16\"\n",
    "    bf16=True,                              # mixed_precision=\"bf16\"\n",
    "    per_gpu_eval_batch_size= config.valid_batch_size,\n",
    "    # per_device_eval_batch_size= config.valid_batch_size,\n",
    "    predict_with_generate=True,\n",
    "    generation_max_length=225,\n",
    "    logging_strategy=\"steps\",\n",
    "    logging_steps=250,\n",
    "    report_to=[\"wandb\"],\n",
    "    load_best_model_at_end=True,\n",
    "    metric_for_best_model=\"cer\",            # 한국어의 경우 'wer'보다는 'cer'이 더 적합할 것\n",
    "    greater_is_better=False,\n",
    "    save_strategy=\"steps\",                  # 'epoch': epoch 기준으로 저장 가능\n",
    "    save_steps=500,\n",
    "    save_total_limit = 1,\n",
    "    # push_to_hub=False,\n",
    ")\n"
   ]
  },
  {
   "cell_type": "markdown",
   "metadata": {
    "id": "6ctziA21dBmU"
   },
   "source": [
    "# Trainer"
   ]
  },
  {
   "cell_type": "code",
   "execution_count": 50,
   "metadata": {
    "executionInfo": {
     "elapsed": 180628,
     "status": "aborted",
     "timestamp": 1750636986166,
     "user": {
      "displayName": "jeongwon kim",
      "userId": "15766381950935341584"
     },
     "user_tz": -540
    },
    "id": "t3aZLhiudCkT"
   },
   "outputs": [
    {
     "name": "stderr",
     "output_type": "stream",
     "text": [
      "max_steps is given, it will override any value given in num_train_epochs\n"
     ]
    }
   ],
   "source": [
    "from transformers import Seq2SeqTrainer\n",
    "\n",
    "trainer = Seq2SeqTrainer(\n",
    "    args=training_args,\n",
    "    model=model,\n",
    "    train_dataset = train_ds,\n",
    "    eval_dataset = valid_ds,  # or \"test\"\n",
    "    data_collator = data_collator,\n",
    "    compute_metrics=compute_metrics,\n",
    "    tokenizer=processor.feature_extractor,\n",
    "    optimizers = (optimizer, scheduler),\n",
    "    # callbacks=[EarlyStoppingCallback(early_stopping_patience=2)]\n",
    ")\n"
   ]
  },
  {
   "cell_type": "markdown",
   "metadata": {
    "id": "1Vub7pihdEwU"
   },
   "source": [
    "# Training"
   ]
  },
  {
   "cell_type": "code",
   "execution_count": 51,
   "metadata": {
    "executionInfo": {
     "elapsed": 180628,
     "status": "aborted",
     "timestamp": 1750636986167,
     "user": {
      "displayName": "jeongwon kim",
      "userId": "15766381950935341584"
     },
     "user_tz": -540
    },
    "id": "Tq9FJuOodFuv"
   },
   "outputs": [
    {
     "ename": "KeyboardInterrupt",
     "evalue": "",
     "output_type": "error",
     "traceback": [
      "\u001b[0;31m---------------------------------------------------------------------------\u001b[0m",
      "\u001b[0;31mKeyboardInterrupt\u001b[0m                         Traceback (most recent call last)",
      "Cell \u001b[0;32mIn[51], line 1\u001b[0m\n\u001b[0;32m----> 1\u001b[0m \u001b[43mtrainer\u001b[49m\u001b[38;5;241;43m.\u001b[39;49m\u001b[43mtrain\u001b[49m\u001b[43m(\u001b[49m\u001b[43m)\u001b[49m\n",
      "File \u001b[0;32m/usr/local/lib/python3.10/dist-packages/transformers/trainer.py:1885\u001b[0m, in \u001b[0;36mTrainer.train\u001b[0;34m(self, resume_from_checkpoint, trial, ignore_keys_for_eval, **kwargs)\u001b[0m\n\u001b[1;32m   1883\u001b[0m         hf_hub_utils\u001b[38;5;241m.\u001b[39menable_progress_bars()\n\u001b[1;32m   1884\u001b[0m \u001b[38;5;28;01melse\u001b[39;00m:\n\u001b[0;32m-> 1885\u001b[0m     \u001b[38;5;28;01mreturn\u001b[39;00m \u001b[43minner_training_loop\u001b[49m\u001b[43m(\u001b[49m\n\u001b[1;32m   1886\u001b[0m \u001b[43m        \u001b[49m\u001b[43margs\u001b[49m\u001b[38;5;241;43m=\u001b[39;49m\u001b[43margs\u001b[49m\u001b[43m,\u001b[49m\n\u001b[1;32m   1887\u001b[0m \u001b[43m        \u001b[49m\u001b[43mresume_from_checkpoint\u001b[49m\u001b[38;5;241;43m=\u001b[39;49m\u001b[43mresume_from_checkpoint\u001b[49m\u001b[43m,\u001b[49m\n\u001b[1;32m   1888\u001b[0m \u001b[43m        \u001b[49m\u001b[43mtrial\u001b[49m\u001b[38;5;241;43m=\u001b[39;49m\u001b[43mtrial\u001b[49m\u001b[43m,\u001b[49m\n\u001b[1;32m   1889\u001b[0m \u001b[43m        \u001b[49m\u001b[43mignore_keys_for_eval\u001b[49m\u001b[38;5;241;43m=\u001b[39;49m\u001b[43mignore_keys_for_eval\u001b[49m\u001b[43m,\u001b[49m\n\u001b[1;32m   1890\u001b[0m \u001b[43m    \u001b[49m\u001b[43m)\u001b[49m\n",
      "File \u001b[0;32m/usr/local/lib/python3.10/dist-packages/transformers/trainer.py:1914\u001b[0m, in \u001b[0;36mTrainer._inner_training_loop\u001b[0;34m(self, batch_size, args, resume_from_checkpoint, trial, ignore_keys_for_eval)\u001b[0m\n\u001b[1;32m   1912\u001b[0m logger\u001b[38;5;241m.\u001b[39mdebug(\u001b[38;5;124mf\u001b[39m\u001b[38;5;124m\"\u001b[39m\u001b[38;5;124mCurrently training with a batch size of: \u001b[39m\u001b[38;5;132;01m{\u001b[39;00m\u001b[38;5;28mself\u001b[39m\u001b[38;5;241m.\u001b[39m_train_batch_size\u001b[38;5;132;01m}\u001b[39;00m\u001b[38;5;124m\"\u001b[39m)\n\u001b[1;32m   1913\u001b[0m \u001b[38;5;66;03m# Data loader and number of training steps\u001b[39;00m\n\u001b[0;32m-> 1914\u001b[0m train_dataloader \u001b[38;5;241m=\u001b[39m \u001b[38;5;28;43mself\u001b[39;49m\u001b[38;5;241;43m.\u001b[39;49m\u001b[43mget_train_dataloader\u001b[49m\u001b[43m(\u001b[49m\u001b[43m)\u001b[49m\n\u001b[1;32m   1915\u001b[0m \u001b[38;5;28;01mif\u001b[39;00m \u001b[38;5;28mself\u001b[39m\u001b[38;5;241m.\u001b[39mis_fsdp_xla_v2_enabled:\n\u001b[1;32m   1916\u001b[0m     train_dataloader \u001b[38;5;241m=\u001b[39m tpu_spmd_dataloader(train_dataloader)\n",
      "File \u001b[0;32m/usr/local/lib/python3.10/dist-packages/transformers/trainer.py:892\u001b[0m, in \u001b[0;36mTrainer.get_train_dataloader\u001b[0;34m(self)\u001b[0m\n\u001b[1;32m    883\u001b[0m dataloader_params \u001b[38;5;241m=\u001b[39m {\n\u001b[1;32m    884\u001b[0m     \u001b[38;5;124m\"\u001b[39m\u001b[38;5;124mbatch_size\u001b[39m\u001b[38;5;124m\"\u001b[39m: \u001b[38;5;28mself\u001b[39m\u001b[38;5;241m.\u001b[39m_train_batch_size,\n\u001b[1;32m    885\u001b[0m     \u001b[38;5;124m\"\u001b[39m\u001b[38;5;124mcollate_fn\u001b[39m\u001b[38;5;124m\"\u001b[39m: data_collator,\n\u001b[0;32m   (...)\u001b[0m\n\u001b[1;32m    888\u001b[0m     \u001b[38;5;124m\"\u001b[39m\u001b[38;5;124mpersistent_workers\u001b[39m\u001b[38;5;124m\"\u001b[39m: \u001b[38;5;28mself\u001b[39m\u001b[38;5;241m.\u001b[39margs\u001b[38;5;241m.\u001b[39mdataloader_persistent_workers,\n\u001b[1;32m    889\u001b[0m }\n\u001b[1;32m    891\u001b[0m \u001b[38;5;28;01mif\u001b[39;00m \u001b[38;5;129;01mnot\u001b[39;00m \u001b[38;5;28misinstance\u001b[39m(train_dataset, torch\u001b[38;5;241m.\u001b[39mutils\u001b[38;5;241m.\u001b[39mdata\u001b[38;5;241m.\u001b[39mIterableDataset):\n\u001b[0;32m--> 892\u001b[0m     dataloader_params[\u001b[38;5;124m\"\u001b[39m\u001b[38;5;124msampler\u001b[39m\u001b[38;5;124m\"\u001b[39m] \u001b[38;5;241m=\u001b[39m \u001b[38;5;28;43mself\u001b[39;49m\u001b[38;5;241;43m.\u001b[39;49m\u001b[43m_get_train_sampler\u001b[49m\u001b[43m(\u001b[49m\u001b[43m)\u001b[49m\n\u001b[1;32m    893\u001b[0m     dataloader_params[\u001b[38;5;124m\"\u001b[39m\u001b[38;5;124mdrop_last\u001b[39m\u001b[38;5;124m\"\u001b[39m] \u001b[38;5;241m=\u001b[39m \u001b[38;5;28mself\u001b[39m\u001b[38;5;241m.\u001b[39margs\u001b[38;5;241m.\u001b[39mdataloader_drop_last\n\u001b[1;32m    894\u001b[0m     dataloader_params[\u001b[38;5;124m\"\u001b[39m\u001b[38;5;124mworker_init_fn\u001b[39m\u001b[38;5;124m\"\u001b[39m] \u001b[38;5;241m=\u001b[39m seed_worker\n",
      "File \u001b[0;32m/usr/local/lib/python3.10/dist-packages/transformers/trainer.py:854\u001b[0m, in \u001b[0;36mTrainer._get_train_sampler\u001b[0;34m(self)\u001b[0m\n\u001b[1;32m    852\u001b[0m         lengths \u001b[38;5;241m=\u001b[39m \u001b[38;5;28;01mNone\u001b[39;00m\n\u001b[1;32m    853\u001b[0m     model_input_name \u001b[38;5;241m=\u001b[39m \u001b[38;5;28mself\u001b[39m\u001b[38;5;241m.\u001b[39mtokenizer\u001b[38;5;241m.\u001b[39mmodel_input_names[\u001b[38;5;241m0\u001b[39m] \u001b[38;5;28;01mif\u001b[39;00m \u001b[38;5;28mself\u001b[39m\u001b[38;5;241m.\u001b[39mtokenizer \u001b[38;5;129;01mis\u001b[39;00m \u001b[38;5;129;01mnot\u001b[39;00m \u001b[38;5;28;01mNone\u001b[39;00m \u001b[38;5;28;01melse\u001b[39;00m \u001b[38;5;28;01mNone\u001b[39;00m\n\u001b[0;32m--> 854\u001b[0m     \u001b[38;5;28;01mreturn\u001b[39;00m \u001b[43mLengthGroupedSampler\u001b[49m\u001b[43m(\u001b[49m\n\u001b[1;32m    855\u001b[0m \u001b[43m        \u001b[49m\u001b[38;5;28;43mself\u001b[39;49m\u001b[38;5;241;43m.\u001b[39;49m\u001b[43margs\u001b[49m\u001b[38;5;241;43m.\u001b[39;49m\u001b[43mtrain_batch_size\u001b[49m\u001b[43m \u001b[49m\u001b[38;5;241;43m*\u001b[39;49m\u001b[43m \u001b[49m\u001b[38;5;28;43mself\u001b[39;49m\u001b[38;5;241;43m.\u001b[39;49m\u001b[43margs\u001b[49m\u001b[38;5;241;43m.\u001b[39;49m\u001b[43mgradient_accumulation_steps\u001b[49m\u001b[43m,\u001b[49m\n\u001b[1;32m    856\u001b[0m \u001b[43m        \u001b[49m\u001b[43mdataset\u001b[49m\u001b[38;5;241;43m=\u001b[39;49m\u001b[38;5;28;43mself\u001b[39;49m\u001b[38;5;241;43m.\u001b[39;49m\u001b[43mtrain_dataset\u001b[49m\u001b[43m,\u001b[49m\n\u001b[1;32m    857\u001b[0m \u001b[43m        \u001b[49m\u001b[43mlengths\u001b[49m\u001b[38;5;241;43m=\u001b[39;49m\u001b[43mlengths\u001b[49m\u001b[43m,\u001b[49m\n\u001b[1;32m    858\u001b[0m \u001b[43m        \u001b[49m\u001b[43mmodel_input_name\u001b[49m\u001b[38;5;241;43m=\u001b[39;49m\u001b[43mmodel_input_name\u001b[49m\u001b[43m,\u001b[49m\n\u001b[1;32m    859\u001b[0m \u001b[43m    \u001b[49m\u001b[43m)\u001b[49m\n\u001b[1;32m    861\u001b[0m \u001b[38;5;28;01melse\u001b[39;00m:\n\u001b[1;32m    862\u001b[0m     \u001b[38;5;28;01mreturn\u001b[39;00m RandomSampler(\u001b[38;5;28mself\u001b[39m\u001b[38;5;241m.\u001b[39mtrain_dataset)\n",
      "File \u001b[0;32m/usr/local/lib/python3.10/dist-packages/transformers/trainer_pt_utils.py:654\u001b[0m, in \u001b[0;36mLengthGroupedSampler.__init__\u001b[0;34m(self, batch_size, dataset, lengths, model_input_name, generator)\u001b[0m\n\u001b[1;32m    646\u001b[0m     \u001b[38;5;28;01mif\u001b[39;00m (\n\u001b[1;32m    647\u001b[0m         \u001b[38;5;129;01mnot\u001b[39;00m (\u001b[38;5;28misinstance\u001b[39m(dataset[\u001b[38;5;241m0\u001b[39m], \u001b[38;5;28mdict\u001b[39m) \u001b[38;5;129;01mor\u001b[39;00m \u001b[38;5;28misinstance\u001b[39m(dataset[\u001b[38;5;241m0\u001b[39m], BatchEncoding))\n\u001b[1;32m    648\u001b[0m         \u001b[38;5;129;01mor\u001b[39;00m model_input_name \u001b[38;5;129;01mnot\u001b[39;00m \u001b[38;5;129;01min\u001b[39;00m dataset[\u001b[38;5;241m0\u001b[39m]\n\u001b[1;32m    649\u001b[0m     ):\n\u001b[1;32m    650\u001b[0m         \u001b[38;5;28;01mraise\u001b[39;00m \u001b[38;5;167;01mValueError\u001b[39;00m(\n\u001b[1;32m    651\u001b[0m             \u001b[38;5;124m\"\u001b[39m\u001b[38;5;124mCan only automatically infer lengths for datasets whose items are dictionaries with an \u001b[39m\u001b[38;5;124m\"\u001b[39m\n\u001b[1;32m    652\u001b[0m             \u001b[38;5;124mf\u001b[39m\u001b[38;5;124m\"\u001b[39m\u001b[38;5;124m'\u001b[39m\u001b[38;5;132;01m{\u001b[39;00mmodel_input_name\u001b[38;5;132;01m}\u001b[39;00m\u001b[38;5;124m'\u001b[39m\u001b[38;5;124m key.\u001b[39m\u001b[38;5;124m\"\u001b[39m\n\u001b[1;32m    653\u001b[0m         )\n\u001b[0;32m--> 654\u001b[0m     lengths \u001b[38;5;241m=\u001b[39m [\u001b[38;5;28mlen\u001b[39m(feature[model_input_name]) \u001b[38;5;28;01mfor\u001b[39;00m feature \u001b[38;5;129;01min\u001b[39;00m dataset]\n\u001b[1;32m    655\u001b[0m \u001b[38;5;28;01melif\u001b[39;00m \u001b[38;5;28misinstance\u001b[39m(lengths, torch\u001b[38;5;241m.\u001b[39mTensor):\n\u001b[1;32m    656\u001b[0m     logger\u001b[38;5;241m.\u001b[39minfo(\n\u001b[1;32m    657\u001b[0m         \u001b[38;5;124m\"\u001b[39m\u001b[38;5;124mIf lengths is a torch.Tensor, LengthGroupedSampler will be slow. Converting lengths to List[int]...\u001b[39m\u001b[38;5;124m\"\u001b[39m\n\u001b[1;32m    658\u001b[0m     )\n",
      "File \u001b[0;32m/usr/local/lib/python3.10/dist-packages/transformers/trainer_pt_utils.py:654\u001b[0m, in \u001b[0;36m<listcomp>\u001b[0;34m(.0)\u001b[0m\n\u001b[1;32m    646\u001b[0m     \u001b[38;5;28;01mif\u001b[39;00m (\n\u001b[1;32m    647\u001b[0m         \u001b[38;5;129;01mnot\u001b[39;00m (\u001b[38;5;28misinstance\u001b[39m(dataset[\u001b[38;5;241m0\u001b[39m], \u001b[38;5;28mdict\u001b[39m) \u001b[38;5;129;01mor\u001b[39;00m \u001b[38;5;28misinstance\u001b[39m(dataset[\u001b[38;5;241m0\u001b[39m], BatchEncoding))\n\u001b[1;32m    648\u001b[0m         \u001b[38;5;129;01mor\u001b[39;00m model_input_name \u001b[38;5;129;01mnot\u001b[39;00m \u001b[38;5;129;01min\u001b[39;00m dataset[\u001b[38;5;241m0\u001b[39m]\n\u001b[1;32m    649\u001b[0m     ):\n\u001b[1;32m    650\u001b[0m         \u001b[38;5;28;01mraise\u001b[39;00m \u001b[38;5;167;01mValueError\u001b[39;00m(\n\u001b[1;32m    651\u001b[0m             \u001b[38;5;124m\"\u001b[39m\u001b[38;5;124mCan only automatically infer lengths for datasets whose items are dictionaries with an \u001b[39m\u001b[38;5;124m\"\u001b[39m\n\u001b[1;32m    652\u001b[0m             \u001b[38;5;124mf\u001b[39m\u001b[38;5;124m\"\u001b[39m\u001b[38;5;124m'\u001b[39m\u001b[38;5;132;01m{\u001b[39;00mmodel_input_name\u001b[38;5;132;01m}\u001b[39;00m\u001b[38;5;124m'\u001b[39m\u001b[38;5;124m key.\u001b[39m\u001b[38;5;124m\"\u001b[39m\n\u001b[1;32m    653\u001b[0m         )\n\u001b[0;32m--> 654\u001b[0m     lengths \u001b[38;5;241m=\u001b[39m [\u001b[38;5;28mlen\u001b[39m(feature[model_input_name]) \u001b[38;5;28;01mfor\u001b[39;00m feature \u001b[38;5;129;01min\u001b[39;00m dataset]\n\u001b[1;32m    655\u001b[0m \u001b[38;5;28;01melif\u001b[39;00m \u001b[38;5;28misinstance\u001b[39m(lengths, torch\u001b[38;5;241m.\u001b[39mTensor):\n\u001b[1;32m    656\u001b[0m     logger\u001b[38;5;241m.\u001b[39minfo(\n\u001b[1;32m    657\u001b[0m         \u001b[38;5;124m\"\u001b[39m\u001b[38;5;124mIf lengths is a torch.Tensor, LengthGroupedSampler will be slow. Converting lengths to List[int]...\u001b[39m\u001b[38;5;124m\"\u001b[39m\n\u001b[1;32m    658\u001b[0m     )\n",
      "Cell \u001b[0;32mIn[16], line 27\u001b[0m, in \u001b[0;36mSimpleASRDataset.__getitem__\u001b[0;34m(self, idx)\u001b[0m\n\u001b[1;32m     24\u001b[0m transform \u001b[38;5;241m=\u001b[39m transforms\u001b[38;5;241m.\u001b[39mResample(sample_rate, \u001b[38;5;28mself\u001b[39m\u001b[38;5;241m.\u001b[39mresample_rate)\n\u001b[1;32m     25\u001b[0m resampled_waveform \u001b[38;5;241m=\u001b[39m transform(wav)\n\u001b[0;32m---> 27\u001b[0m input_features \u001b[38;5;241m=\u001b[39m \u001b[38;5;28;43mself\u001b[39;49m\u001b[38;5;241;43m.\u001b[39;49m\u001b[43mprocessor\u001b[49m\u001b[43m(\u001b[49m\u001b[43mresampled_waveform\u001b[49m\u001b[38;5;241;43m.\u001b[39;49m\u001b[43msqueeze\u001b[49m\u001b[43m(\u001b[49m\u001b[38;5;241;43m0\u001b[39;49m\u001b[43m)\u001b[49m\u001b[43m,\u001b[49m\u001b[43m     \u001b[49m\u001b[38;5;66;43;03m# Batch Size 제거\u001b[39;49;00m\n\u001b[1;32m     28\u001b[0m \u001b[43m                                \u001b[49m\u001b[43msampling_rate\u001b[49m\u001b[38;5;241;43m=\u001b[39;49m\u001b[43m \u001b[49m\u001b[38;5;28;43mself\u001b[39;49m\u001b[38;5;241;43m.\u001b[39;49m\u001b[43mresample_rate\u001b[49m\u001b[43m,\u001b[49m\u001b[43m \u001b[49m\u001b[38;5;66;43;03m# whisper-small은 sampling rate을 16000인 데이터에 대해서만 input으로 받는다고 합니다.\u001b[39;49;00m\n\u001b[1;32m     29\u001b[0m \u001b[43m                                \u001b[49m\u001b[43mreturn_tensors\u001b[49m\u001b[38;5;241;43m=\u001b[39;49m\u001b[38;5;124;43m\"\u001b[39;49m\u001b[38;5;124;43mpt\u001b[39;49m\u001b[38;5;124;43m\"\u001b[39;49m\n\u001b[1;32m     30\u001b[0m \u001b[43m                                \u001b[49m\u001b[43m)\u001b[49m\u001b[38;5;241m.\u001b[39minput_features\u001b[38;5;241m.\u001b[39msqueeze(\u001b[38;5;241m0\u001b[39m)\n\u001b[1;32m     32\u001b[0m \u001b[38;5;66;03m# transcripts\u001b[39;00m\n\u001b[1;32m     33\u001b[0m labels \u001b[38;5;241m=\u001b[39m \u001b[38;5;28mself\u001b[39m\u001b[38;5;241m.\u001b[39mprocessor\u001b[38;5;241m.\u001b[39mtokenizer(\u001b[38;5;28mself\u001b[39m\u001b[38;5;241m.\u001b[39mtranscripts[idx],\n\u001b[1;32m     34\u001b[0m                                   padding\u001b[38;5;241m=\u001b[39m\u001b[38;5;28;01mTrue\u001b[39;00m,\n\u001b[1;32m     35\u001b[0m                                   truncation\u001b[38;5;241m=\u001b[39m\u001b[38;5;28;01mTrue\u001b[39;00m,\n\u001b[1;32m     36\u001b[0m                                   return_tensors\u001b[38;5;241m=\u001b[39m\u001b[38;5;124m\"\u001b[39m\u001b[38;5;124mpt\u001b[39m\u001b[38;5;124m\"\u001b[39m)\u001b[38;5;241m.\u001b[39minput_ids\u001b[38;5;241m.\u001b[39msqueeze(\u001b[38;5;241m0\u001b[39m)\n",
      "File \u001b[0;32m/usr/local/lib/python3.10/dist-packages/transformers/models/whisper/processing_whisper.py:70\u001b[0m, in \u001b[0;36mWhisperProcessor.__call__\u001b[0;34m(self, *args, **kwargs)\u001b[0m\n\u001b[1;32m     67\u001b[0m     \u001b[38;5;28;01mraise\u001b[39;00m \u001b[38;5;167;01mValueError\u001b[39;00m(\u001b[38;5;124m\"\u001b[39m\u001b[38;5;124mYou need to specify either an `audio` or `text` input to process.\u001b[39m\u001b[38;5;124m\"\u001b[39m)\n\u001b[1;32m     69\u001b[0m \u001b[38;5;28;01mif\u001b[39;00m audio \u001b[38;5;129;01mis\u001b[39;00m \u001b[38;5;129;01mnot\u001b[39;00m \u001b[38;5;28;01mNone\u001b[39;00m:\n\u001b[0;32m---> 70\u001b[0m     inputs \u001b[38;5;241m=\u001b[39m \u001b[38;5;28;43mself\u001b[39;49m\u001b[38;5;241;43m.\u001b[39;49m\u001b[43mfeature_extractor\u001b[49m\u001b[43m(\u001b[49m\u001b[43maudio\u001b[49m\u001b[43m,\u001b[49m\u001b[43m \u001b[49m\u001b[38;5;241;43m*\u001b[39;49m\u001b[43margs\u001b[49m\u001b[43m,\u001b[49m\u001b[43m \u001b[49m\u001b[43msampling_rate\u001b[49m\u001b[38;5;241;43m=\u001b[39;49m\u001b[43msampling_rate\u001b[49m\u001b[43m,\u001b[49m\u001b[43m \u001b[49m\u001b[38;5;241;43m*\u001b[39;49m\u001b[38;5;241;43m*\u001b[39;49m\u001b[43mkwargs\u001b[49m\u001b[43m)\u001b[49m\n\u001b[1;32m     71\u001b[0m \u001b[38;5;28;01mif\u001b[39;00m text \u001b[38;5;129;01mis\u001b[39;00m \u001b[38;5;129;01mnot\u001b[39;00m \u001b[38;5;28;01mNone\u001b[39;00m:\n\u001b[1;32m     72\u001b[0m     encodings \u001b[38;5;241m=\u001b[39m \u001b[38;5;28mself\u001b[39m\u001b[38;5;241m.\u001b[39mtokenizer(text, \u001b[38;5;241m*\u001b[39m\u001b[38;5;241m*\u001b[39mkwargs)\n",
      "File \u001b[0;32m/usr/local/lib/python3.10/dist-packages/transformers/models/whisper/feature_extraction_whisper.py:301\u001b[0m, in \u001b[0;36mWhisperFeatureExtractor.__call__\u001b[0;34m(self, raw_speech, truncation, pad_to_multiple_of, return_tensors, return_attention_mask, padding, max_length, sampling_rate, do_normalize, device, **kwargs)\u001b[0m\n\u001b[1;32m    296\u001b[0m input_features \u001b[38;5;241m=\u001b[39m padded_inputs\u001b[38;5;241m.\u001b[39mget(\u001b[38;5;124m\"\u001b[39m\u001b[38;5;124minput_features\u001b[39m\u001b[38;5;124m\"\u001b[39m)\u001b[38;5;241m.\u001b[39mtranspose(\u001b[38;5;241m2\u001b[39m, \u001b[38;5;241m0\u001b[39m, \u001b[38;5;241m1\u001b[39m)\n\u001b[1;32m    298\u001b[0m extract_fbank_features \u001b[38;5;241m=\u001b[39m (\n\u001b[1;32m    299\u001b[0m     \u001b[38;5;28mself\u001b[39m\u001b[38;5;241m.\u001b[39m_torch_extract_fbank_features \u001b[38;5;28;01mif\u001b[39;00m is_torch_available() \u001b[38;5;28;01melse\u001b[39;00m \u001b[38;5;28mself\u001b[39m\u001b[38;5;241m.\u001b[39m_np_extract_fbank_features\n\u001b[1;32m    300\u001b[0m )\n\u001b[0;32m--> 301\u001b[0m input_features \u001b[38;5;241m=\u001b[39m \u001b[43mextract_fbank_features\u001b[49m\u001b[43m(\u001b[49m\u001b[43minput_features\u001b[49m\u001b[43m[\u001b[49m\u001b[38;5;241;43m0\u001b[39;49m\u001b[43m]\u001b[49m\u001b[43m,\u001b[49m\u001b[43m \u001b[49m\u001b[43mdevice\u001b[49m\u001b[43m)\u001b[49m\n\u001b[1;32m    303\u001b[0m \u001b[38;5;28;01mif\u001b[39;00m \u001b[38;5;28misinstance\u001b[39m(input_features[\u001b[38;5;241m0\u001b[39m], List):\n\u001b[1;32m    304\u001b[0m     padded_inputs[\u001b[38;5;124m\"\u001b[39m\u001b[38;5;124minput_features\u001b[39m\u001b[38;5;124m\"\u001b[39m] \u001b[38;5;241m=\u001b[39m [np\u001b[38;5;241m.\u001b[39masarray(feature, dtype\u001b[38;5;241m=\u001b[39mnp\u001b[38;5;241m.\u001b[39mfloat32) \u001b[38;5;28;01mfor\u001b[39;00m feature \u001b[38;5;129;01min\u001b[39;00m input_features]\n",
      "File \u001b[0;32m/usr/local/lib/python3.10/dist-packages/transformers/models/whisper/feature_extraction_whisper.py:152\u001b[0m, in \u001b[0;36mWhisperFeatureExtractor._torch_extract_fbank_features\u001b[0;34m(self, waveform, device)\u001b[0m\n\u001b[1;32m    150\u001b[0m     log_spec \u001b[38;5;241m=\u001b[39m torch\u001b[38;5;241m.\u001b[39mmaximum(log_spec, log_spec\u001b[38;5;241m.\u001b[39mmax() \u001b[38;5;241m-\u001b[39m \u001b[38;5;241m8.0\u001b[39m)\n\u001b[1;32m    151\u001b[0m log_spec \u001b[38;5;241m=\u001b[39m (log_spec \u001b[38;5;241m+\u001b[39m \u001b[38;5;241m4.0\u001b[39m) \u001b[38;5;241m/\u001b[39m \u001b[38;5;241m4.0\u001b[39m\n\u001b[0;32m--> 152\u001b[0m \u001b[38;5;28;01mif\u001b[39;00m device \u001b[38;5;241m!=\u001b[39m \u001b[38;5;124m\"\u001b[39m\u001b[38;5;124mcpu\u001b[39m\u001b[38;5;124m\"\u001b[39m:\n\u001b[1;32m    153\u001b[0m     log_spec \u001b[38;5;241m=\u001b[39m log_spec\u001b[38;5;241m.\u001b[39mdetach()\u001b[38;5;241m.\u001b[39mcpu()\n\u001b[1;32m    154\u001b[0m \u001b[38;5;28;01mreturn\u001b[39;00m log_spec\u001b[38;5;241m.\u001b[39mnumpy()\n",
      "\u001b[0;31mKeyboardInterrupt\u001b[0m: "
     ]
    }
   ],
   "source": [
    "trainer.train()"
   ]
  },
  {
   "cell_type": "code",
   "execution_count": null,
   "metadata": {
    "executionInfo": {
     "elapsed": 180629,
     "status": "aborted",
     "timestamp": 1750636986168,
     "user": {
      "displayName": "jeongwon kim",
      "userId": "15766381950935341584"
     },
     "user_tz": -540
    },
    "id": "9anDsUIUdHE0"
   },
   "outputs": [],
   "source": [
    "print(\"Training Finished\")"
   ]
  },
  {
   "cell_type": "markdown",
   "metadata": {
    "id": "U6elmlX0dIoD"
   },
   "source": [
    "> Evaluation 진행"
   ]
  },
  {
   "cell_type": "code",
   "execution_count": null,
   "metadata": {
    "executionInfo": {
     "elapsed": 180630,
     "status": "aborted",
     "timestamp": 1750636986169,
     "user": {
      "displayName": "jeongwon kim",
      "userId": "15766381950935341584"
     },
     "user_tz": -540
    },
    "id": "X9ehRQ4qdKjW"
   },
   "outputs": [],
   "source": [
    "# trainer.evaluate()"
   ]
  },
  {
   "cell_type": "code",
   "execution_count": null,
   "metadata": {},
   "outputs": [],
   "source": [
    "val_metrics = trainer.evaluate()\n",
    "print(\"📊 Validation CER:\", val_metrics[\"eval_cer\"])"
   ]
  },
  {
   "cell_type": "code",
   "execution_count": null,
   "metadata": {
    "executionInfo": {
     "elapsed": 180630,
     "status": "aborted",
     "timestamp": 1750636986170,
     "user": {
      "displayName": "jeongwon kim",
      "userId": "15766381950935341584"
     },
     "user_tz": -540
    },
    "id": "oqeC9PhkdMSa"
   },
   "outputs": [],
   "source": [
    "print(\"Evaluation Finished\")"
   ]
  },
  {
   "cell_type": "markdown",
   "metadata": {
    "id": "U6elmlX0dIoD"
   },
   "source": [
    "> Test 진행"
   ]
  },
  {
   "cell_type": "code",
   "execution_count": 58,
   "metadata": {},
   "outputs": [
    {
     "name": "stderr",
     "output_type": "stream",
     "text": [
      "Using deprecated `--per_gpu_eval_batch_size` argument which will be removed in a future version. Using `--per_device_eval_batch_size` is preferred.\n",
      "Using deprecated `--per_gpu_eval_batch_size` argument which will be removed in a future version. Using `--per_device_eval_batch_size` is preferred.\n",
      "Using deprecated `--per_gpu_eval_batch_size` argument which will be removed in a future version. Using `--per_device_eval_batch_size` is preferred.\n"
     ]
    },
    {
     "name": "stdout",
     "output_type": "stream",
     "text": [
      "📊 Test CER: 15.901157840967137\n"
     ]
    }
   ],
   "source": [
    "test_results = trainer.predict(test_dataset=test_ds)\n",
    "print(\"📊 Test CER:\", test_results.metrics[\"test_cer\"])"
   ]
  },
  {
   "cell_type": "markdown",
   "metadata": {
    "id": "LFjWCDmQdNfp"
   },
   "source": [
    "# save"
   ]
  },
  {
   "cell_type": "code",
   "execution_count": 123,
   "metadata": {
    "executionInfo": {
     "elapsed": 180631,
     "status": "aborted",
     "timestamp": 1750636986171,
     "user": {
      "displayName": "jeongwon kim",
      "userId": "15766381950935341584"
     },
     "user_tz": -540
    },
    "id": "cyCUm9uUdOSP"
   },
   "outputs": [
    {
     "name": "stderr",
     "output_type": "stream",
     "text": [
      "Some non-default generation parameters are set in the model config. These should go into a GenerationConfig file (https://huggingface.co/docs/transformers/generation_strategies#save-a-custom-decoding-strategy-with-your-model) instead. This warning will be raised to an exception in v4.41.\n",
      "Non-default generation parameters: {'max_length': 448, 'suppress_tokens': [], 'begin_suppress_tokens': [220, 50257]}\n"
     ]
    },
    {
     "data": {
      "text/plain": [
       "('./model/tokenizer_config.json',\n",
       " './model/special_tokens_map.json',\n",
       " './model/vocab.json',\n",
       " './model/merges.txt',\n",
       " './model/normalizer.json',\n",
       " './model/added_tokens.json')"
      ]
     },
     "execution_count": 123,
     "metadata": {},
     "output_type": "execute_result"
    }
   ],
   "source": [
    "## Save\n",
    "\n",
    "trainer.model.save_pretrained('./model')\n",
    "tokenizer.save_pretrained('./model')"
   ]
  },
  {
   "cell_type": "code",
   "execution_count": 126,
   "metadata": {},
   "outputs": [
    {
     "name": "stderr",
     "output_type": "stream",
     "text": [
      "Special tokens have been added in the vocabulary, make sure the associated word embeddings are fine-tuned or trained.\n"
     ]
    },
    {
     "data": {
      "text/plain": [
       "[]"
      ]
     },
     "execution_count": 126,
     "metadata": {},
     "output_type": "execute_result"
    }
   ],
   "source": [
    "from transformers import WhisperFeatureExtractor, WhisperTokenizer, WhisperProcessor\n",
    "\n",
    "tokenizer = WhisperTokenizer.from_pretrained('./model')\n",
    "feature_extractor = WhisperFeatureExtractor.from_pretrained(\"openai/whisper-small\")\n",
    "processor = WhisperProcessor(feature_extractor=feature_extractor, tokenizer=tokenizer)\n",
    "processor.save_pretrained('./model')\n"
   ]
  },
  {
   "cell_type": "markdown",
   "metadata": {
    "id": "RN7cqjlgdRVU"
   },
   "source": [
    "# training is finished"
   ]
  },
  {
   "cell_type": "code",
   "execution_count": 124,
   "metadata": {
    "executionInfo": {
     "elapsed": 180632,
     "status": "aborted",
     "timestamp": 1750636986172,
     "user": {
      "displayName": "jeongwon kim",
      "userId": "15766381950935341584"
     },
     "user_tz": -540
    },
    "id": "e0cqYHrOdSWS"
   },
   "outputs": [
    {
     "name": "stdout",
     "output_type": "stream",
     "text": [
      "Train Completed\n"
     ]
    }
   ],
   "source": [
    "import gc\n",
    "\n",
    "torch.cuda.empty_cache()\n",
    "_ = gc.collect()\n",
    "\n",
    "print(\"Train Completed\")"
   ]
  },
  {
   "cell_type": "markdown",
   "metadata": {
    "id": "5HjJW6IhdUFr"
   },
   "source": [
    "# wandb finish()"
   ]
  },
  {
   "cell_type": "code",
   "execution_count": 125,
   "metadata": {
    "executionInfo": {
     "elapsed": 180665,
     "status": "aborted",
     "timestamp": 1750636986205,
     "user": {
      "displayName": "jeongwon kim",
      "userId": "15766381950935341584"
     },
     "user_tz": -540
    },
    "id": "uzXoY8zHdVl-"
   },
   "outputs": [
    {
     "data": {
      "text/html": [],
      "text/plain": [
       "<IPython.core.display.HTML object>"
      ]
     },
     "metadata": {},
     "output_type": "display_data"
    },
    {
     "data": {
      "text/html": [
       "<br>    <style><br>        .wandb-row {<br>            display: flex;<br>            flex-direction: row;<br>            flex-wrap: wrap;<br>            justify-content: flex-start;<br>            width: 100%;<br>        }<br>        .wandb-col {<br>            display: flex;<br>            flex-direction: column;<br>            flex-basis: 100%;<br>            flex: 1;<br>            padding: 10px;<br>        }<br>    </style><br><div class=\"wandb-row\"><div class=\"wandb-col\"><h3>Run history:</h3><br/><table class=\"wandb\"><tr><td>eval/cer</td><td>▃█▇▅▃▂▁▂▁▁</td></tr><tr><td>eval/loss</td><td>▁▃██▆▆▁▃▂▂</td></tr><tr><td>eval/runtime</td><td>▁▃▄█▂▁▁▄▂▂</td></tr><tr><td>eval/samples_per_second</td><td>█▆▄▁▇██▅▆▆</td></tr><tr><td>eval/steps_per_second</td><td>█▆▄▁▇██▅▆▆</td></tr><tr><td>train/epoch</td><td>▁▁▂▂▃▃▃▃▄▄▅▅▆▆▆▆▇▇██</td></tr><tr><td>train/global_step</td><td>▁▁▂▂▃▃▃▃▄▄▅▅▆▆▆▆▇▇██</td></tr><tr><td>train/grad_norm</td><td>█▆▅▅▄▂▃▂▁</td></tr><tr><td>train/learning_rate</td><td>▃▆██▇▅▃▂▁</td></tr><tr><td>train/loss</td><td>█▄▄▃▂▂▁▁▁</td></tr></table><br/></div><div class=\"wandb-col\"><h3>Run summary:</h3><br/><table class=\"wandb\"><tr><td>eval/cer</td><td>17.79124</td></tr><tr><td>eval/loss</td><td>0.64426</td></tr><tr><td>eval/runtime</td><td>797.3118</td></tr><tr><td>eval/samples_per_second</td><td>3.815</td></tr><tr><td>eval/steps_per_second</td><td>0.478</td></tr><tr><td>total_flos</td><td>1.835518580195328e+19</td></tr><tr><td>train/epoch</td><td>6.96933</td></tr><tr><td>train/global_step</td><td>994</td></tr><tr><td>train/grad_norm</td><td>0.34609</td></tr><tr><td>train/learning_rate</td><td>0.0</td></tr><tr><td>train/loss</td><td>0.0205</td></tr><tr><td>train_loss</td><td>0.32366</td></tr><tr><td>train_runtime</td><td>15743.1775</td></tr><tr><td>train_samples_per_second</td><td>4.041</td></tr><tr><td>train_steps_per_second</td><td>0.063</td></tr></table><br/></div></div>"
      ],
      "text/plain": [
       "<IPython.core.display.HTML object>"
      ]
     },
     "metadata": {},
     "output_type": "display_data"
    },
    {
     "data": {
      "text/html": [
       " View run <strong style=\"color:#cdcd00\">colab_L4_gpu_test_1</strong> at: <a href='https://wandb.ai/jwk1007/Korean-Whisper-Fine-Tune-Example/runs/znhbtupr?apiKey=2ea04dd0d2989d8bfd46b99ce355214f661b1b46' target=\"_blank\">https://wandb.ai/jwk1007/Korean-Whisper-Fine-Tune-Example/runs/znhbtupr?apiKey=2ea04dd0d2989d8bfd46b99ce355214f661b1b46</a><br> View project at: <a href='https://wandb.ai/jwk1007/Korean-Whisper-Fine-Tune-Example?apiKey=2ea04dd0d2989d8bfd46b99ce355214f661b1b46' target=\"_blank\">https://wandb.ai/jwk1007/Korean-Whisper-Fine-Tune-Example?apiKey=2ea04dd0d2989d8bfd46b99ce355214f661b1b46</a><br>Synced 5 W&B file(s), 0 media file(s), 0 artifact file(s) and 0 other file(s)"
      ],
      "text/plain": [
       "<IPython.core.display.HTML object>"
      ]
     },
     "metadata": {},
     "output_type": "display_data"
    },
    {
     "data": {
      "text/html": [
       "Find logs at: <code>./wandb/run-20250625_023215-znhbtupr/logs</code>"
      ],
      "text/plain": [
       "<IPython.core.display.HTML object>"
      ]
     },
     "metadata": {},
     "output_type": "display_data"
    }
   ],
   "source": [
    "run.finish()"
   ]
  },
  {
   "cell_type": "code",
   "execution_count": null,
   "metadata": {},
   "outputs": [
    {
     "name": "stderr",
     "output_type": "stream",
     "text": [
      "Special tokens have been added in the vocabulary, make sure the associated word embeddings are fine-tuned or trained.\n",
      "Some non-default generation parameters are set in the model config. These should go into a GenerationConfig file (https://huggingface.co/docs/transformers/generation_strategies#save-a-custom-decoding-strategy-with-your-model) instead. This warning will be raised to an exception in v4.41.\n",
      "Non-default generation parameters: {'max_length': 448, 'suppress_tokens': [], 'begin_suppress_tokens': [220, 50257]}\n"
     ]
    },
    {
     "data": {
      "application/vnd.jupyter.widget-view+json": {
       "model_id": "6787ca51612f4ec5ba26f9717b234cdf",
       "version_major": 2,
       "version_minor": 0
      },
      "text/plain": [
       "model.safetensors:   0%|          | 0.00/967M [00:00<?, ?B/s]"
      ]
     },
     "metadata": {},
     "output_type": "display_data"
    },
    {
     "data": {
      "application/vnd.jupyter.widget-view+json": {
       "model_id": "8a2b81095a9c479d82deb8e1a2734bef",
       "version_major": 2,
       "version_minor": 0
      },
      "text/plain": [
       "README.md:   0%|          | 0.00/5.17k [00:00<?, ?B/s]"
      ]
     },
     "metadata": {},
     "output_type": "display_data"
    },
    {
     "data": {
      "text/plain": [
       "CommitInfo(commit_url='https://huggingface.co/kimthegarden/whisper-korean-stt-v1-250625/commit/723b6aefec0a6710237abdff2b5be509fd11dc13', commit_message='Upload processor', commit_description='', oid='723b6aefec0a6710237abdff2b5be509fd11dc13', pr_url=None, repo_url=RepoUrl('https://huggingface.co/kimthegarden/whisper-korean-stt-v1-250625', endpoint='https://huggingface.co', repo_type='model', repo_id='kimthegarden/whisper-korean-stt-v1-250625'), pr_revision=None, pr_num=None)"
      ]
     },
     "execution_count": 127,
     "metadata": {},
     "output_type": "execute_result"
    }
   ],
   "source": [
    "from transformers import WhisperForConditionalGeneration, WhisperProcessor\n",
    "from huggingface_hub import login\n",
    "\n",
    "# 1. 로그인\n",
    "login(\"hf_xxxxx\")  # Write 권한 포함된 토큰 입력\n",
    "\n",
    "# 2. 저장된 모델 로드\n",
    "model = WhisperForConditionalGeneration.from_pretrained(\"./model\")\n",
    "processor = WhisperProcessor.from_pretrained(\"./model\")\n",
    "\n",
    "# 3. push to hub\n",
    "model.push_to_hub(\"kimthegarden/whisper-korean-stt-v3-250630\")\n",
    "processor.push_to_hub(\"kimthegarden/whisper-korean-stt-v3-250630\")"
   ]
  },
  {
   "cell_type": "code",
   "execution_count": null,
   "metadata": {},
   "outputs": [],
   "source": []
  }
 ],
 "metadata": {
  "accelerator": "GPU",
  "colab": {
   "authorship_tag": "ABX9TyOmzN79a4Sb1JIKuIhk+mXs",
   "gpuType": "T4",
   "provenance": []
  },
  "kernelspec": {
   "display_name": "Python 3 (ipykernel)",
   "language": "python",
   "name": "python3"
  },
  "language_info": {
   "codemirror_mode": {
    "name": "ipython",
    "version": 3
   },
   "file_extension": ".py",
   "mimetype": "text/x-python",
   "name": "python",
   "nbconvert_exporter": "python",
   "pygments_lexer": "ipython3",
   "version": "3.10.12"
  },
  "widgets": {
   "application/vnd.jupyter.widget-state+json": {
    "06dbd2971014413c9030ff27c416d612": {
     "model_module": "@jupyter-widgets/controls",
     "model_module_version": "1.5.0",
     "model_name": "DescriptionStyleModel",
     "state": {
      "_model_module": "@jupyter-widgets/controls",
      "_model_module_version": "1.5.0",
      "_model_name": "DescriptionStyleModel",
      "_view_count": null,
      "_view_module": "@jupyter-widgets/base",
      "_view_module_version": "1.2.0",
      "_view_name": "StyleView",
      "description_width": ""
     }
    },
    "083d84d4205543c29e5d36da1fd462fb": {
     "model_module": "@jupyter-widgets/controls",
     "model_module_version": "1.5.0",
     "model_name": "FloatProgressModel",
     "state": {
      "_dom_classes": [],
      "_model_module": "@jupyter-widgets/controls",
      "_model_module_version": "1.5.0",
      "_model_name": "FloatProgressModel",
      "_view_count": null,
      "_view_module": "@jupyter-widgets/controls",
      "_view_module_version": "1.5.0",
      "_view_name": "ProgressView",
      "bar_style": "success",
      "description": "",
      "description_tooltip": null,
      "layout": "IPY_MODEL_7eb1664a702a44a8a072cf7c1c62860c",
      "max": 835550,
      "min": 0,
      "orientation": "horizontal",
      "style": "IPY_MODEL_9b3d52ba0cb047aa9cee8645e7f5c301",
      "value": 835550
     }
    },
    "09cd9f9277e943c5bdcc1095d24aebaa": {
     "model_module": "@jupyter-widgets/controls",
     "model_module_version": "1.5.0",
     "model_name": "DescriptionStyleModel",
     "state": {
      "_model_module": "@jupyter-widgets/controls",
      "_model_module_version": "1.5.0",
      "_model_name": "DescriptionStyleModel",
      "_view_count": null,
      "_view_module": "@jupyter-widgets/base",
      "_view_module_version": "1.2.0",
      "_view_name": "StyleView",
      "description_width": ""
     }
    },
    "0afea7c833604342a1628edb57f95fd8": {
     "model_module": "@jupyter-widgets/base",
     "model_module_version": "1.2.0",
     "model_name": "LayoutModel",
     "state": {
      "_model_module": "@jupyter-widgets/base",
      "_model_module_version": "1.2.0",
      "_model_name": "LayoutModel",
      "_view_count": null,
      "_view_module": "@jupyter-widgets/base",
      "_view_module_version": "1.2.0",
      "_view_name": "LayoutView",
      "align_content": null,
      "align_items": null,
      "align_self": null,
      "border": null,
      "bottom": null,
      "display": null,
      "flex": null,
      "flex_flow": null,
      "grid_area": null,
      "grid_auto_columns": null,
      "grid_auto_flow": null,
      "grid_auto_rows": null,
      "grid_column": null,
      "grid_gap": null,
      "grid_row": null,
      "grid_template_areas": null,
      "grid_template_columns": null,
      "grid_template_rows": null,
      "height": null,
      "justify_content": null,
      "justify_items": null,
      "left": null,
      "margin": null,
      "max_height": null,
      "max_width": null,
      "min_height": null,
      "min_width": null,
      "object_fit": null,
      "object_position": null,
      "order": null,
      "overflow": null,
      "overflow_x": null,
      "overflow_y": null,
      "padding": null,
      "right": null,
      "top": null,
      "visibility": null,
      "width": null
     }
    },
    "15c51f0fe5084f048531b5ecd159e417": {
     "model_module": "@jupyter-widgets/controls",
     "model_module_version": "1.5.0",
     "model_name": "HBoxModel",
     "state": {
      "_dom_classes": [],
      "_model_module": "@jupyter-widgets/controls",
      "_model_module_version": "1.5.0",
      "_model_name": "HBoxModel",
      "_view_count": null,
      "_view_module": "@jupyter-widgets/controls",
      "_view_module_version": "1.5.0",
      "_view_name": "HBoxView",
      "box_style": "",
      "children": [
       "IPY_MODEL_2b702c0ecb664639bfca70cf709ba9d5",
       "IPY_MODEL_8a560625654e4276b3fd98379d14d358",
       "IPY_MODEL_5c9e5dd56705475780c814c118344a04"
      ],
      "layout": "IPY_MODEL_6eccdffaacc541fb9dfe4e4e0f672779"
     }
    },
    "193c3fb99bba41f89c0eab624f414265": {
     "model_module": "@jupyter-widgets/controls",
     "model_module_version": "1.5.0",
     "model_name": "DescriptionStyleModel",
     "state": {
      "_model_module": "@jupyter-widgets/controls",
      "_model_module_version": "1.5.0",
      "_model_name": "DescriptionStyleModel",
      "_view_count": null,
      "_view_module": "@jupyter-widgets/base",
      "_view_module_version": "1.2.0",
      "_view_name": "StyleView",
      "description_width": ""
     }
    },
    "1ffc1242e8b4469a94c5a69bae70e6a8": {
     "model_module": "@jupyter-widgets/base",
     "model_module_version": "1.2.0",
     "model_name": "LayoutModel",
     "state": {
      "_model_module": "@jupyter-widgets/base",
      "_model_module_version": "1.2.0",
      "_model_name": "LayoutModel",
      "_view_count": null,
      "_view_module": "@jupyter-widgets/base",
      "_view_module_version": "1.2.0",
      "_view_name": "LayoutView",
      "align_content": null,
      "align_items": null,
      "align_self": null,
      "border": null,
      "bottom": null,
      "display": null,
      "flex": null,
      "flex_flow": null,
      "grid_area": null,
      "grid_auto_columns": null,
      "grid_auto_flow": null,
      "grid_auto_rows": null,
      "grid_column": null,
      "grid_gap": null,
      "grid_row": null,
      "grid_template_areas": null,
      "grid_template_columns": null,
      "grid_template_rows": null,
      "height": null,
      "justify_content": null,
      "justify_items": null,
      "left": null,
      "margin": null,
      "max_height": null,
      "max_width": null,
      "min_height": null,
      "min_width": null,
      "object_fit": null,
      "object_position": null,
      "order": null,
      "overflow": null,
      "overflow_x": null,
      "overflow_y": null,
      "padding": null,
      "right": null,
      "top": null,
      "visibility": null,
      "width": null
     }
    },
    "21230b6d30db45869e933588271464f9": {
     "model_module": "@jupyter-widgets/controls",
     "model_module_version": "1.5.0",
     "model_name": "FloatProgressModel",
     "state": {
      "_dom_classes": [],
      "_model_module": "@jupyter-widgets/controls",
      "_model_module_version": "1.5.0",
      "_model_name": "FloatProgressModel",
      "_view_count": null,
      "_view_module": "@jupyter-widgets/controls",
      "_view_module_version": "1.5.0",
      "_view_name": "ProgressView",
      "bar_style": "success",
      "description": "",
      "description_tooltip": null,
      "layout": "IPY_MODEL_31fc7ad681444052b292a48d023ddbdf",
      "max": 493869,
      "min": 0,
      "orientation": "horizontal",
      "style": "IPY_MODEL_eab0064f187349d792c89a0d4f4b24e0",
      "value": 493869
     }
    },
    "24a89408258a497c978c2ce9e5737dbf": {
     "model_module": "@jupyter-widgets/base",
     "model_module_version": "1.2.0",
     "model_name": "LayoutModel",
     "state": {
      "_model_module": "@jupyter-widgets/base",
      "_model_module_version": "1.2.0",
      "_model_name": "LayoutModel",
      "_view_count": null,
      "_view_module": "@jupyter-widgets/base",
      "_view_module_version": "1.2.0",
      "_view_name": "LayoutView",
      "align_content": null,
      "align_items": null,
      "align_self": null,
      "border": null,
      "bottom": null,
      "display": null,
      "flex": null,
      "flex_flow": null,
      "grid_area": null,
      "grid_auto_columns": null,
      "grid_auto_flow": null,
      "grid_auto_rows": null,
      "grid_column": null,
      "grid_gap": null,
      "grid_row": null,
      "grid_template_areas": null,
      "grid_template_columns": null,
      "grid_template_rows": null,
      "height": null,
      "justify_content": null,
      "justify_items": null,
      "left": null,
      "margin": null,
      "max_height": null,
      "max_width": null,
      "min_height": null,
      "min_width": null,
      "object_fit": null,
      "object_position": null,
      "order": null,
      "overflow": null,
      "overflow_x": null,
      "overflow_y": null,
      "padding": null,
      "right": null,
      "top": null,
      "visibility": null,
      "width": null
     }
    },
    "251ab3414a564c78b8900cb6b1967c54": {
     "model_module": "@jupyter-widgets/controls",
     "model_module_version": "1.5.0",
     "model_name": "DescriptionStyleModel",
     "state": {
      "_model_module": "@jupyter-widgets/controls",
      "_model_module_version": "1.5.0",
      "_model_name": "DescriptionStyleModel",
      "_view_count": null,
      "_view_module": "@jupyter-widgets/base",
      "_view_module_version": "1.2.0",
      "_view_name": "StyleView",
      "description_width": ""
     }
    },
    "2665028978ef4ac1a1fb4e4ad1f6a92e": {
     "model_module": "@jupyter-widgets/base",
     "model_module_version": "1.2.0",
     "model_name": "LayoutModel",
     "state": {
      "_model_module": "@jupyter-widgets/base",
      "_model_module_version": "1.2.0",
      "_model_name": "LayoutModel",
      "_view_count": null,
      "_view_module": "@jupyter-widgets/base",
      "_view_module_version": "1.2.0",
      "_view_name": "LayoutView",
      "align_content": null,
      "align_items": null,
      "align_self": null,
      "border": null,
      "bottom": null,
      "display": null,
      "flex": null,
      "flex_flow": null,
      "grid_area": null,
      "grid_auto_columns": null,
      "grid_auto_flow": null,
      "grid_auto_rows": null,
      "grid_column": null,
      "grid_gap": null,
      "grid_row": null,
      "grid_template_areas": null,
      "grid_template_columns": null,
      "grid_template_rows": null,
      "height": null,
      "justify_content": null,
      "justify_items": null,
      "left": null,
      "margin": null,
      "max_height": null,
      "max_width": null,
      "min_height": null,
      "min_width": null,
      "object_fit": null,
      "object_position": null,
      "order": null,
      "overflow": null,
      "overflow_x": null,
      "overflow_y": null,
      "padding": null,
      "right": null,
      "top": null,
      "visibility": null,
      "width": null
     }
    },
    "29a1d43cec884385a1cf4be1de9fb45c": {
     "model_module": "@jupyter-widgets/controls",
     "model_module_version": "1.5.0",
     "model_name": "DescriptionStyleModel",
     "state": {
      "_model_module": "@jupyter-widgets/controls",
      "_model_module_version": "1.5.0",
      "_model_name": "DescriptionStyleModel",
      "_view_count": null,
      "_view_module": "@jupyter-widgets/base",
      "_view_module_version": "1.2.0",
      "_view_name": "StyleView",
      "description_width": ""
     }
    },
    "2aeb9e24fe974fe4963322babaaa75ed": {
     "model_module": "@jupyter-widgets/controls",
     "model_module_version": "1.5.0",
     "model_name": "DescriptionStyleModel",
     "state": {
      "_model_module": "@jupyter-widgets/controls",
      "_model_module_version": "1.5.0",
      "_model_name": "DescriptionStyleModel",
      "_view_count": null,
      "_view_module": "@jupyter-widgets/base",
      "_view_module_version": "1.2.0",
      "_view_name": "StyleView",
      "description_width": ""
     }
    },
    "2b702c0ecb664639bfca70cf709ba9d5": {
     "model_module": "@jupyter-widgets/controls",
     "model_module_version": "1.5.0",
     "model_name": "HTMLModel",
     "state": {
      "_dom_classes": [],
      "_model_module": "@jupyter-widgets/controls",
      "_model_module_version": "1.5.0",
      "_model_name": "HTMLModel",
      "_view_count": null,
      "_view_module": "@jupyter-widgets/controls",
      "_view_module_version": "1.5.0",
      "_view_name": "HTMLView",
      "description": "",
      "description_tooltip": null,
      "layout": "IPY_MODEL_4425ab7e63eb444492a31f23a990073e",
      "placeholder": "​",
      "style": "IPY_MODEL_06dbd2971014413c9030ff27c416d612",
      "value": "added_tokens.json: 100%"
     }
    },
    "2f6a9707a3a148cca5a4529d9b79252e": {
     "model_module": "@jupyter-widgets/base",
     "model_module_version": "1.2.0",
     "model_name": "LayoutModel",
     "state": {
      "_model_module": "@jupyter-widgets/base",
      "_model_module_version": "1.2.0",
      "_model_name": "LayoutModel",
      "_view_count": null,
      "_view_module": "@jupyter-widgets/base",
      "_view_module_version": "1.2.0",
      "_view_name": "LayoutView",
      "align_content": null,
      "align_items": null,
      "align_self": null,
      "border": null,
      "bottom": null,
      "display": null,
      "flex": null,
      "flex_flow": null,
      "grid_area": null,
      "grid_auto_columns": null,
      "grid_auto_flow": null,
      "grid_auto_rows": null,
      "grid_column": null,
      "grid_gap": null,
      "grid_row": null,
      "grid_template_areas": null,
      "grid_template_columns": null,
      "grid_template_rows": null,
      "height": null,
      "justify_content": null,
      "justify_items": null,
      "left": null,
      "margin": null,
      "max_height": null,
      "max_width": null,
      "min_height": null,
      "min_width": null,
      "object_fit": null,
      "object_position": null,
      "order": null,
      "overflow": null,
      "overflow_x": null,
      "overflow_y": null,
      "padding": null,
      "right": null,
      "top": null,
      "visibility": null,
      "width": null
     }
    },
    "30f39cc016574e7f9f1b3d068e1d0584": {
     "model_module": "@jupyter-widgets/base",
     "model_module_version": "1.2.0",
     "model_name": "LayoutModel",
     "state": {
      "_model_module": "@jupyter-widgets/base",
      "_model_module_version": "1.2.0",
      "_model_name": "LayoutModel",
      "_view_count": null,
      "_view_module": "@jupyter-widgets/base",
      "_view_module_version": "1.2.0",
      "_view_name": "LayoutView",
      "align_content": null,
      "align_items": null,
      "align_self": null,
      "border": null,
      "bottom": null,
      "display": null,
      "flex": null,
      "flex_flow": null,
      "grid_area": null,
      "grid_auto_columns": null,
      "grid_auto_flow": null,
      "grid_auto_rows": null,
      "grid_column": null,
      "grid_gap": null,
      "grid_row": null,
      "grid_template_areas": null,
      "grid_template_columns": null,
      "grid_template_rows": null,
      "height": null,
      "justify_content": null,
      "justify_items": null,
      "left": null,
      "margin": null,
      "max_height": null,
      "max_width": null,
      "min_height": null,
      "min_width": null,
      "object_fit": null,
      "object_position": null,
      "order": null,
      "overflow": null,
      "overflow_x": null,
      "overflow_y": null,
      "padding": null,
      "right": null,
      "top": null,
      "visibility": null,
      "width": null
     }
    },
    "31fc7ad681444052b292a48d023ddbdf": {
     "model_module": "@jupyter-widgets/base",
     "model_module_version": "1.2.0",
     "model_name": "LayoutModel",
     "state": {
      "_model_module": "@jupyter-widgets/base",
      "_model_module_version": "1.2.0",
      "_model_name": "LayoutModel",
      "_view_count": null,
      "_view_module": "@jupyter-widgets/base",
      "_view_module_version": "1.2.0",
      "_view_name": "LayoutView",
      "align_content": null,
      "align_items": null,
      "align_self": null,
      "border": null,
      "bottom": null,
      "display": null,
      "flex": null,
      "flex_flow": null,
      "grid_area": null,
      "grid_auto_columns": null,
      "grid_auto_flow": null,
      "grid_auto_rows": null,
      "grid_column": null,
      "grid_gap": null,
      "grid_row": null,
      "grid_template_areas": null,
      "grid_template_columns": null,
      "grid_template_rows": null,
      "height": null,
      "justify_content": null,
      "justify_items": null,
      "left": null,
      "margin": null,
      "max_height": null,
      "max_width": null,
      "min_height": null,
      "min_width": null,
      "object_fit": null,
      "object_position": null,
      "order": null,
      "overflow": null,
      "overflow_x": null,
      "overflow_y": null,
      "padding": null,
      "right": null,
      "top": null,
      "visibility": null,
      "width": null
     }
    },
    "3d190449a5b64441ab478f876d1d1218": {
     "model_module": "@jupyter-widgets/controls",
     "model_module_version": "1.5.0",
     "model_name": "HBoxModel",
     "state": {
      "_dom_classes": [],
      "_model_module": "@jupyter-widgets/controls",
      "_model_module_version": "1.5.0",
      "_model_name": "HBoxModel",
      "_view_count": null,
      "_view_module": "@jupyter-widgets/controls",
      "_view_module_version": "1.5.0",
      "_view_name": "HBoxView",
      "box_style": "",
      "children": [
       "IPY_MODEL_87939dbfdb7147ecaf3ea9eb19922cef",
       "IPY_MODEL_f3b732d38ae848ad8bbc7dfcfee3afd1",
       "IPY_MODEL_6b1837e3d0f347248751ef0c525add3f"
      ],
      "layout": "IPY_MODEL_58c82221d9a04b6f81aa5f070623edf6"
     }
    },
    "4425ab7e63eb444492a31f23a990073e": {
     "model_module": "@jupyter-widgets/base",
     "model_module_version": "1.2.0",
     "model_name": "LayoutModel",
     "state": {
      "_model_module": "@jupyter-widgets/base",
      "_model_module_version": "1.2.0",
      "_model_name": "LayoutModel",
      "_view_count": null,
      "_view_module": "@jupyter-widgets/base",
      "_view_module_version": "1.2.0",
      "_view_name": "LayoutView",
      "align_content": null,
      "align_items": null,
      "align_self": null,
      "border": null,
      "bottom": null,
      "display": null,
      "flex": null,
      "flex_flow": null,
      "grid_area": null,
      "grid_auto_columns": null,
      "grid_auto_flow": null,
      "grid_auto_rows": null,
      "grid_column": null,
      "grid_gap": null,
      "grid_row": null,
      "grid_template_areas": null,
      "grid_template_columns": null,
      "grid_template_rows": null,
      "height": null,
      "justify_content": null,
      "justify_items": null,
      "left": null,
      "margin": null,
      "max_height": null,
      "max_width": null,
      "min_height": null,
      "min_width": null,
      "object_fit": null,
      "object_position": null,
      "order": null,
      "overflow": null,
      "overflow_x": null,
      "overflow_y": null,
      "padding": null,
      "right": null,
      "top": null,
      "visibility": null,
      "width": null
     }
    },
    "4a15ece151d54f2b8dd86774d567a495": {
     "model_module": "@jupyter-widgets/controls",
     "model_module_version": "1.5.0",
     "model_name": "HBoxModel",
     "state": {
      "_dom_classes": [],
      "_model_module": "@jupyter-widgets/controls",
      "_model_module_version": "1.5.0",
      "_model_name": "HBoxModel",
      "_view_count": null,
      "_view_module": "@jupyter-widgets/controls",
      "_view_module_version": "1.5.0",
      "_view_name": "HBoxView",
      "box_style": "",
      "children": [
       "IPY_MODEL_a0134a31008a4a3193cb5139d275bb85",
       "IPY_MODEL_5e76d2ab50254a929d6ed32894425f53",
       "IPY_MODEL_a605ed4ef1f9421ba901668c7fd48204"
      ],
      "layout": "IPY_MODEL_fc083e02645a4cf2bafc1f4e8a99830a"
     }
    },
    "4ec7b6be274a408eae1c02d6dade2f20": {
     "model_module": "@jupyter-widgets/base",
     "model_module_version": "1.2.0",
     "model_name": "LayoutModel",
     "state": {
      "_model_module": "@jupyter-widgets/base",
      "_model_module_version": "1.2.0",
      "_model_name": "LayoutModel",
      "_view_count": null,
      "_view_module": "@jupyter-widgets/base",
      "_view_module_version": "1.2.0",
      "_view_name": "LayoutView",
      "align_content": null,
      "align_items": null,
      "align_self": null,
      "border": null,
      "bottom": null,
      "display": null,
      "flex": null,
      "flex_flow": null,
      "grid_area": null,
      "grid_auto_columns": null,
      "grid_auto_flow": null,
      "grid_auto_rows": null,
      "grid_column": null,
      "grid_gap": null,
      "grid_row": null,
      "grid_template_areas": null,
      "grid_template_columns": null,
      "grid_template_rows": null,
      "height": null,
      "justify_content": null,
      "justify_items": null,
      "left": null,
      "margin": null,
      "max_height": null,
      "max_width": null,
      "min_height": null,
      "min_width": null,
      "object_fit": null,
      "object_position": null,
      "order": null,
      "overflow": null,
      "overflow_x": null,
      "overflow_y": null,
      "padding": null,
      "right": null,
      "top": null,
      "visibility": null,
      "width": null
     }
    },
    "526f58701d8b4beb867620494edac264": {
     "model_module": "@jupyter-widgets/controls",
     "model_module_version": "1.5.0",
     "model_name": "DescriptionStyleModel",
     "state": {
      "_model_module": "@jupyter-widgets/controls",
      "_model_module_version": "1.5.0",
      "_model_name": "DescriptionStyleModel",
      "_view_count": null,
      "_view_module": "@jupyter-widgets/base",
      "_view_module_version": "1.2.0",
      "_view_name": "StyleView",
      "description_width": ""
     }
    },
    "5444c967bc6747cda90e12341591ce22": {
     "model_module": "@jupyter-widgets/controls",
     "model_module_version": "1.5.0",
     "model_name": "ProgressStyleModel",
     "state": {
      "_model_module": "@jupyter-widgets/controls",
      "_model_module_version": "1.5.0",
      "_model_name": "ProgressStyleModel",
      "_view_count": null,
      "_view_module": "@jupyter-widgets/base",
      "_view_module_version": "1.2.0",
      "_view_name": "StyleView",
      "bar_color": null,
      "description_width": ""
     }
    },
    "58c82221d9a04b6f81aa5f070623edf6": {
     "model_module": "@jupyter-widgets/base",
     "model_module_version": "1.2.0",
     "model_name": "LayoutModel",
     "state": {
      "_model_module": "@jupyter-widgets/base",
      "_model_module_version": "1.2.0",
      "_model_name": "LayoutModel",
      "_view_count": null,
      "_view_module": "@jupyter-widgets/base",
      "_view_module_version": "1.2.0",
      "_view_name": "LayoutView",
      "align_content": null,
      "align_items": null,
      "align_self": null,
      "border": null,
      "bottom": null,
      "display": null,
      "flex": null,
      "flex_flow": null,
      "grid_area": null,
      "grid_auto_columns": null,
      "grid_auto_flow": null,
      "grid_auto_rows": null,
      "grid_column": null,
      "grid_gap": null,
      "grid_row": null,
      "grid_template_areas": null,
      "grid_template_columns": null,
      "grid_template_rows": null,
      "height": null,
      "justify_content": null,
      "justify_items": null,
      "left": null,
      "margin": null,
      "max_height": null,
      "max_width": null,
      "min_height": null,
      "min_width": null,
      "object_fit": null,
      "object_position": null,
      "order": null,
      "overflow": null,
      "overflow_x": null,
      "overflow_y": null,
      "padding": null,
      "right": null,
      "top": null,
      "visibility": null,
      "width": null
     }
    },
    "5c9e5dd56705475780c814c118344a04": {
     "model_module": "@jupyter-widgets/controls",
     "model_module_version": "1.5.0",
     "model_name": "HTMLModel",
     "state": {
      "_dom_classes": [],
      "_model_module": "@jupyter-widgets/controls",
      "_model_module_version": "1.5.0",
      "_model_name": "HTMLModel",
      "_view_count": null,
      "_view_module": "@jupyter-widgets/controls",
      "_view_module_version": "1.5.0",
      "_view_name": "HTMLView",
      "description": "",
      "description_tooltip": null,
      "layout": "IPY_MODEL_e365ffc78732437cae63a7d6ba14e15f",
      "placeholder": "​",
      "style": "IPY_MODEL_09cd9f9277e943c5bdcc1095d24aebaa",
      "value": " 34.6k/34.6k [00:00&lt;00:00, 2.31MB/s]"
     }
    },
    "5d0abdb5010f46a2ab734d3f8a69dda1": {
     "model_module": "@jupyter-widgets/base",
     "model_module_version": "1.2.0",
     "model_name": "LayoutModel",
     "state": {
      "_model_module": "@jupyter-widgets/base",
      "_model_module_version": "1.2.0",
      "_model_name": "LayoutModel",
      "_view_count": null,
      "_view_module": "@jupyter-widgets/base",
      "_view_module_version": "1.2.0",
      "_view_name": "LayoutView",
      "align_content": null,
      "align_items": null,
      "align_self": null,
      "border": null,
      "bottom": null,
      "display": null,
      "flex": null,
      "flex_flow": null,
      "grid_area": null,
      "grid_auto_columns": null,
      "grid_auto_flow": null,
      "grid_auto_rows": null,
      "grid_column": null,
      "grid_gap": null,
      "grid_row": null,
      "grid_template_areas": null,
      "grid_template_columns": null,
      "grid_template_rows": null,
      "height": null,
      "justify_content": null,
      "justify_items": null,
      "left": null,
      "margin": null,
      "max_height": null,
      "max_width": null,
      "min_height": null,
      "min_width": null,
      "object_fit": null,
      "object_position": null,
      "order": null,
      "overflow": null,
      "overflow_x": null,
      "overflow_y": null,
      "padding": null,
      "right": null,
      "top": null,
      "visibility": null,
      "width": null
     }
    },
    "5e76d2ab50254a929d6ed32894425f53": {
     "model_module": "@jupyter-widgets/controls",
     "model_module_version": "1.5.0",
     "model_name": "FloatProgressModel",
     "state": {
      "_dom_classes": [],
      "_model_module": "@jupyter-widgets/controls",
      "_model_module_version": "1.5.0",
      "_model_name": "FloatProgressModel",
      "_view_count": null,
      "_view_module": "@jupyter-widgets/controls",
      "_view_module_version": "1.5.0",
      "_view_name": "ProgressView",
      "bar_style": "success",
      "description": "",
      "description_tooltip": null,
      "layout": "IPY_MODEL_edece4c2929344fcb029b007fc48b236",
      "max": 52666,
      "min": 0,
      "orientation": "horizontal",
      "style": "IPY_MODEL_c9fdfac719614f7faa3bfe5d4984a5bd",
      "value": 52666
     }
    },
    "6172a0c3616f425eb624d6075c772fc8": {
     "model_module": "@jupyter-widgets/controls",
     "model_module_version": "1.5.0",
     "model_name": "HTMLModel",
     "state": {
      "_dom_classes": [],
      "_model_module": "@jupyter-widgets/controls",
      "_model_module_version": "1.5.0",
      "_model_name": "HTMLModel",
      "_view_count": null,
      "_view_module": "@jupyter-widgets/controls",
      "_view_module_version": "1.5.0",
      "_view_name": "HTMLView",
      "description": "",
      "description_tooltip": null,
      "layout": "IPY_MODEL_ea4431dc33d54a7fb078f074bd33e9c1",
      "placeholder": "​",
      "style": "IPY_MODEL_74c47f4ec28c4a3b8e1543770dde733f",
      "value": "preprocessor_config.json: 100%"
     }
    },
    "63e2da0773c74a438feab0beefae45a1": {
     "model_module": "@jupyter-widgets/base",
     "model_module_version": "1.2.0",
     "model_name": "LayoutModel",
     "state": {
      "_model_module": "@jupyter-widgets/base",
      "_model_module_version": "1.2.0",
      "_model_name": "LayoutModel",
      "_view_count": null,
      "_view_module": "@jupyter-widgets/base",
      "_view_module_version": "1.2.0",
      "_view_name": "LayoutView",
      "align_content": null,
      "align_items": null,
      "align_self": null,
      "border": null,
      "bottom": null,
      "display": null,
      "flex": null,
      "flex_flow": null,
      "grid_area": null,
      "grid_auto_columns": null,
      "grid_auto_flow": null,
      "grid_auto_rows": null,
      "grid_column": null,
      "grid_gap": null,
      "grid_row": null,
      "grid_template_areas": null,
      "grid_template_columns": null,
      "grid_template_rows": null,
      "height": null,
      "justify_content": null,
      "justify_items": null,
      "left": null,
      "margin": null,
      "max_height": null,
      "max_width": null,
      "min_height": null,
      "min_width": null,
      "object_fit": null,
      "object_position": null,
      "order": null,
      "overflow": null,
      "overflow_x": null,
      "overflow_y": null,
      "padding": null,
      "right": null,
      "top": null,
      "visibility": null,
      "width": null
     }
    },
    "6934ddfbf1fd4022be599bf3677e41df": {
     "model_module": "@jupyter-widgets/controls",
     "model_module_version": "1.5.0",
     "model_name": "DescriptionStyleModel",
     "state": {
      "_model_module": "@jupyter-widgets/controls",
      "_model_module_version": "1.5.0",
      "_model_name": "DescriptionStyleModel",
      "_view_count": null,
      "_view_module": "@jupyter-widgets/base",
      "_view_module_version": "1.2.0",
      "_view_name": "StyleView",
      "description_width": ""
     }
    },
    "6b1837e3d0f347248751ef0c525add3f": {
     "model_module": "@jupyter-widgets/controls",
     "model_module_version": "1.5.0",
     "model_name": "HTMLModel",
     "state": {
      "_dom_classes": [],
      "_model_module": "@jupyter-widgets/controls",
      "_model_module_version": "1.5.0",
      "_model_name": "HTMLModel",
      "_view_count": null,
      "_view_module": "@jupyter-widgets/controls",
      "_view_module_version": "1.5.0",
      "_view_name": "HTMLView",
      "description": "",
      "description_tooltip": null,
      "layout": "IPY_MODEL_991aefcceca144c59e97fc7365b60a45",
      "placeholder": "​",
      "style": "IPY_MODEL_cf011a79cc194c7bac1d79a6e9c5fc94",
      "value": " 283k/283k [00:00&lt;00:00, 10.5MB/s]"
     }
    },
    "6eccdffaacc541fb9dfe4e4e0f672779": {
     "model_module": "@jupyter-widgets/base",
     "model_module_version": "1.2.0",
     "model_name": "LayoutModel",
     "state": {
      "_model_module": "@jupyter-widgets/base",
      "_model_module_version": "1.2.0",
      "_model_name": "LayoutModel",
      "_view_count": null,
      "_view_module": "@jupyter-widgets/base",
      "_view_module_version": "1.2.0",
      "_view_name": "LayoutView",
      "align_content": null,
      "align_items": null,
      "align_self": null,
      "border": null,
      "bottom": null,
      "display": null,
      "flex": null,
      "flex_flow": null,
      "grid_area": null,
      "grid_auto_columns": null,
      "grid_auto_flow": null,
      "grid_auto_rows": null,
      "grid_column": null,
      "grid_gap": null,
      "grid_row": null,
      "grid_template_areas": null,
      "grid_template_columns": null,
      "grid_template_rows": null,
      "height": null,
      "justify_content": null,
      "justify_items": null,
      "left": null,
      "margin": null,
      "max_height": null,
      "max_width": null,
      "min_height": null,
      "min_width": null,
      "object_fit": null,
      "object_position": null,
      "order": null,
      "overflow": null,
      "overflow_x": null,
      "overflow_y": null,
      "padding": null,
      "right": null,
      "top": null,
      "visibility": null,
      "width": null
     }
    },
    "6fd0f7ef1b874ed2b0146f4cf172a6f7": {
     "model_module": "@jupyter-widgets/controls",
     "model_module_version": "1.5.0",
     "model_name": "DescriptionStyleModel",
     "state": {
      "_model_module": "@jupyter-widgets/controls",
      "_model_module_version": "1.5.0",
      "_model_name": "DescriptionStyleModel",
      "_view_count": null,
      "_view_module": "@jupyter-widgets/base",
      "_view_module_version": "1.2.0",
      "_view_name": "StyleView",
      "description_width": ""
     }
    },
    "74c47f4ec28c4a3b8e1543770dde733f": {
     "model_module": "@jupyter-widgets/controls",
     "model_module_version": "1.5.0",
     "model_name": "DescriptionStyleModel",
     "state": {
      "_model_module": "@jupyter-widgets/controls",
      "_model_module_version": "1.5.0",
      "_model_name": "DescriptionStyleModel",
      "_view_count": null,
      "_view_module": "@jupyter-widgets/base",
      "_view_module_version": "1.2.0",
      "_view_name": "StyleView",
      "description_width": ""
     }
    },
    "79dfb30d70a14935b45d2f23b687c563": {
     "model_module": "@jupyter-widgets/controls",
     "model_module_version": "1.5.0",
     "model_name": "ProgressStyleModel",
     "state": {
      "_model_module": "@jupyter-widgets/controls",
      "_model_module_version": "1.5.0",
      "_model_name": "ProgressStyleModel",
      "_view_count": null,
      "_view_module": "@jupyter-widgets/base",
      "_view_module_version": "1.2.0",
      "_view_name": "StyleView",
      "bar_color": null,
      "description_width": ""
     }
    },
    "7b41f2dbf50249f9b02aa54e6223f8e4": {
     "model_module": "@jupyter-widgets/controls",
     "model_module_version": "1.5.0",
     "model_name": "HTMLModel",
     "state": {
      "_dom_classes": [],
      "_model_module": "@jupyter-widgets/controls",
      "_model_module_version": "1.5.0",
      "_model_name": "HTMLModel",
      "_view_count": null,
      "_view_module": "@jupyter-widgets/controls",
      "_view_module_version": "1.5.0",
      "_view_name": "HTMLView",
      "description": "",
      "description_tooltip": null,
      "layout": "IPY_MODEL_24a89408258a497c978c2ce9e5737dbf",
      "placeholder": "​",
      "style": "IPY_MODEL_6934ddfbf1fd4022be599bf3677e41df",
      "value": "vocab.json: 100%"
     }
    },
    "7eb1664a702a44a8a072cf7c1c62860c": {
     "model_module": "@jupyter-widgets/base",
     "model_module_version": "1.2.0",
     "model_name": "LayoutModel",
     "state": {
      "_model_module": "@jupyter-widgets/base",
      "_model_module_version": "1.2.0",
      "_model_name": "LayoutModel",
      "_view_count": null,
      "_view_module": "@jupyter-widgets/base",
      "_view_module_version": "1.2.0",
      "_view_name": "LayoutView",
      "align_content": null,
      "align_items": null,
      "align_self": null,
      "border": null,
      "bottom": null,
      "display": null,
      "flex": null,
      "flex_flow": null,
      "grid_area": null,
      "grid_auto_columns": null,
      "grid_auto_flow": null,
      "grid_auto_rows": null,
      "grid_column": null,
      "grid_gap": null,
      "grid_row": null,
      "grid_template_areas": null,
      "grid_template_columns": null,
      "grid_template_rows": null,
      "height": null,
      "justify_content": null,
      "justify_items": null,
      "left": null,
      "margin": null,
      "max_height": null,
      "max_width": null,
      "min_height": null,
      "min_width": null,
      "object_fit": null,
      "object_position": null,
      "order": null,
      "overflow": null,
      "overflow_x": null,
      "overflow_y": null,
      "padding": null,
      "right": null,
      "top": null,
      "visibility": null,
      "width": null
     }
    },
    "7efff25be9444b449fddb13dc9216654": {
     "model_module": "@jupyter-widgets/controls",
     "model_module_version": "1.5.0",
     "model_name": "HBoxModel",
     "state": {
      "_dom_classes": [],
      "_model_module": "@jupyter-widgets/controls",
      "_model_module_version": "1.5.0",
      "_model_name": "HBoxModel",
      "_view_count": null,
      "_view_module": "@jupyter-widgets/controls",
      "_view_module_version": "1.5.0",
      "_view_name": "HBoxView",
      "box_style": "",
      "children": [
       "IPY_MODEL_eff363cd823d451f8afdb4a9a5f86f26",
       "IPY_MODEL_bc455f1aad264020b9057afd8da902c7",
       "IPY_MODEL_f54743d235744fecad9268d351ecbcd7"
      ],
      "layout": "IPY_MODEL_e7ae772963b04122958febe9756980ad"
     }
    },
    "829d89e2757140b598f32bbf44c2b556": {
     "model_module": "@jupyter-widgets/base",
     "model_module_version": "1.2.0",
     "model_name": "LayoutModel",
     "state": {
      "_model_module": "@jupyter-widgets/base",
      "_model_module_version": "1.2.0",
      "_model_name": "LayoutModel",
      "_view_count": null,
      "_view_module": "@jupyter-widgets/base",
      "_view_module_version": "1.2.0",
      "_view_name": "LayoutView",
      "align_content": null,
      "align_items": null,
      "align_self": null,
      "border": null,
      "bottom": null,
      "display": null,
      "flex": null,
      "flex_flow": null,
      "grid_area": null,
      "grid_auto_columns": null,
      "grid_auto_flow": null,
      "grid_auto_rows": null,
      "grid_column": null,
      "grid_gap": null,
      "grid_row": null,
      "grid_template_areas": null,
      "grid_template_columns": null,
      "grid_template_rows": null,
      "height": null,
      "justify_content": null,
      "justify_items": null,
      "left": null,
      "margin": null,
      "max_height": null,
      "max_width": null,
      "min_height": null,
      "min_width": null,
      "object_fit": null,
      "object_position": null,
      "order": null,
      "overflow": null,
      "overflow_x": null,
      "overflow_y": null,
      "padding": null,
      "right": null,
      "top": null,
      "visibility": null,
      "width": null
     }
    },
    "87939dbfdb7147ecaf3ea9eb19922cef": {
     "model_module": "@jupyter-widgets/controls",
     "model_module_version": "1.5.0",
     "model_name": "HTMLModel",
     "state": {
      "_dom_classes": [],
      "_model_module": "@jupyter-widgets/controls",
      "_model_module_version": "1.5.0",
      "_model_name": "HTMLModel",
      "_view_count": null,
      "_view_module": "@jupyter-widgets/controls",
      "_view_module_version": "1.5.0",
      "_view_name": "HTMLView",
      "description": "",
      "description_tooltip": null,
      "layout": "IPY_MODEL_829d89e2757140b598f32bbf44c2b556",
      "placeholder": "​",
      "style": "IPY_MODEL_526f58701d8b4beb867620494edac264",
      "value": "tokenizer_config.json: 100%"
     }
    },
    "8a560625654e4276b3fd98379d14d358": {
     "model_module": "@jupyter-widgets/controls",
     "model_module_version": "1.5.0",
     "model_name": "FloatProgressModel",
     "state": {
      "_dom_classes": [],
      "_model_module": "@jupyter-widgets/controls",
      "_model_module_version": "1.5.0",
      "_model_name": "FloatProgressModel",
      "_view_count": null,
      "_view_module": "@jupyter-widgets/controls",
      "_view_module_version": "1.5.0",
      "_view_name": "ProgressView",
      "bar_style": "success",
      "description": "",
      "description_tooltip": null,
      "layout": "IPY_MODEL_63e2da0773c74a438feab0beefae45a1",
      "max": 34604,
      "min": 0,
      "orientation": "horizontal",
      "style": "IPY_MODEL_fdec617ba149433fb32f653c7fcb2930",
      "value": 34604
     }
    },
    "8dd48b3cc38c453baa571175be726cd6": {
     "model_module": "@jupyter-widgets/base",
     "model_module_version": "1.2.0",
     "model_name": "LayoutModel",
     "state": {
      "_model_module": "@jupyter-widgets/base",
      "_model_module_version": "1.2.0",
      "_model_name": "LayoutModel",
      "_view_count": null,
      "_view_module": "@jupyter-widgets/base",
      "_view_module_version": "1.2.0",
      "_view_name": "LayoutView",
      "align_content": null,
      "align_items": null,
      "align_self": null,
      "border": null,
      "bottom": null,
      "display": null,
      "flex": null,
      "flex_flow": null,
      "grid_area": null,
      "grid_auto_columns": null,
      "grid_auto_flow": null,
      "grid_auto_rows": null,
      "grid_column": null,
      "grid_gap": null,
      "grid_row": null,
      "grid_template_areas": null,
      "grid_template_columns": null,
      "grid_template_rows": null,
      "height": null,
      "justify_content": null,
      "justify_items": null,
      "left": null,
      "margin": null,
      "max_height": null,
      "max_width": null,
      "min_height": null,
      "min_width": null,
      "object_fit": null,
      "object_position": null,
      "order": null,
      "overflow": null,
      "overflow_x": null,
      "overflow_y": null,
      "padding": null,
      "right": null,
      "top": null,
      "visibility": null,
      "width": null
     }
    },
    "8ec3d8dd30f745bf9340823cd07b3410": {
     "model_module": "@jupyter-widgets/base",
     "model_module_version": "1.2.0",
     "model_name": "LayoutModel",
     "state": {
      "_model_module": "@jupyter-widgets/base",
      "_model_module_version": "1.2.0",
      "_model_name": "LayoutModel",
      "_view_count": null,
      "_view_module": "@jupyter-widgets/base",
      "_view_module_version": "1.2.0",
      "_view_name": "LayoutView",
      "align_content": null,
      "align_items": null,
      "align_self": null,
      "border": null,
      "bottom": null,
      "display": null,
      "flex": null,
      "flex_flow": null,
      "grid_area": null,
      "grid_auto_columns": null,
      "grid_auto_flow": null,
      "grid_auto_rows": null,
      "grid_column": null,
      "grid_gap": null,
      "grid_row": null,
      "grid_template_areas": null,
      "grid_template_columns": null,
      "grid_template_rows": null,
      "height": null,
      "justify_content": null,
      "justify_items": null,
      "left": null,
      "margin": null,
      "max_height": null,
      "max_width": null,
      "min_height": null,
      "min_width": null,
      "object_fit": null,
      "object_position": null,
      "order": null,
      "overflow": null,
      "overflow_x": null,
      "overflow_y": null,
      "padding": null,
      "right": null,
      "top": null,
      "visibility": null,
      "width": null
     }
    },
    "991aefcceca144c59e97fc7365b60a45": {
     "model_module": "@jupyter-widgets/base",
     "model_module_version": "1.2.0",
     "model_name": "LayoutModel",
     "state": {
      "_model_module": "@jupyter-widgets/base",
      "_model_module_version": "1.2.0",
      "_model_name": "LayoutModel",
      "_view_count": null,
      "_view_module": "@jupyter-widgets/base",
      "_view_module_version": "1.2.0",
      "_view_name": "LayoutView",
      "align_content": null,
      "align_items": null,
      "align_self": null,
      "border": null,
      "bottom": null,
      "display": null,
      "flex": null,
      "flex_flow": null,
      "grid_area": null,
      "grid_auto_columns": null,
      "grid_auto_flow": null,
      "grid_auto_rows": null,
      "grid_column": null,
      "grid_gap": null,
      "grid_row": null,
      "grid_template_areas": null,
      "grid_template_columns": null,
      "grid_template_rows": null,
      "height": null,
      "justify_content": null,
      "justify_items": null,
      "left": null,
      "margin": null,
      "max_height": null,
      "max_width": null,
      "min_height": null,
      "min_width": null,
      "object_fit": null,
      "object_position": null,
      "order": null,
      "overflow": null,
      "overflow_x": null,
      "overflow_y": null,
      "padding": null,
      "right": null,
      "top": null,
      "visibility": null,
      "width": null
     }
    },
    "9b3d52ba0cb047aa9cee8645e7f5c301": {
     "model_module": "@jupyter-widgets/controls",
     "model_module_version": "1.5.0",
     "model_name": "ProgressStyleModel",
     "state": {
      "_model_module": "@jupyter-widgets/controls",
      "_model_module_version": "1.5.0",
      "_model_name": "ProgressStyleModel",
      "_view_count": null,
      "_view_module": "@jupyter-widgets/base",
      "_view_module_version": "1.2.0",
      "_view_name": "StyleView",
      "bar_color": null,
      "description_width": ""
     }
    },
    "9dbe65be28dc4cf5a1728e2e7d6895dd": {
     "model_module": "@jupyter-widgets/controls",
     "model_module_version": "1.5.0",
     "model_name": "HTMLModel",
     "state": {
      "_dom_classes": [],
      "_model_module": "@jupyter-widgets/controls",
      "_model_module_version": "1.5.0",
      "_model_name": "HTMLModel",
      "_view_count": null,
      "_view_module": "@jupyter-widgets/controls",
      "_view_module_version": "1.5.0",
      "_view_name": "HTMLView",
      "description": "",
      "description_tooltip": null,
      "layout": "IPY_MODEL_2665028978ef4ac1a1fb4e4ad1f6a92e",
      "placeholder": "​",
      "style": "IPY_MODEL_bac0221f00bf4470b513b0262699456a",
      "value": " 836k/836k [00:00&lt;00:00, 17.1MB/s]"
     }
    },
    "9f090fbd38de4aae8906706bb9f123c6": {
     "model_module": "@jupyter-widgets/base",
     "model_module_version": "1.2.0",
     "model_name": "LayoutModel",
     "state": {
      "_model_module": "@jupyter-widgets/base",
      "_model_module_version": "1.2.0",
      "_model_name": "LayoutModel",
      "_view_count": null,
      "_view_module": "@jupyter-widgets/base",
      "_view_module_version": "1.2.0",
      "_view_name": "LayoutView",
      "align_content": null,
      "align_items": null,
      "align_self": null,
      "border": null,
      "bottom": null,
      "display": null,
      "flex": null,
      "flex_flow": null,
      "grid_area": null,
      "grid_auto_columns": null,
      "grid_auto_flow": null,
      "grid_auto_rows": null,
      "grid_column": null,
      "grid_gap": null,
      "grid_row": null,
      "grid_template_areas": null,
      "grid_template_columns": null,
      "grid_template_rows": null,
      "height": null,
      "justify_content": null,
      "justify_items": null,
      "left": null,
      "margin": null,
      "max_height": null,
      "max_width": null,
      "min_height": null,
      "min_width": null,
      "object_fit": null,
      "object_position": null,
      "order": null,
      "overflow": null,
      "overflow_x": null,
      "overflow_y": null,
      "padding": null,
      "right": null,
      "top": null,
      "visibility": null,
      "width": null
     }
    },
    "9fbf6b2c61e34bf6a0ddbc20b26ce055": {
     "model_module": "@jupyter-widgets/controls",
     "model_module_version": "1.5.0",
     "model_name": "ProgressStyleModel",
     "state": {
      "_model_module": "@jupyter-widgets/controls",
      "_model_module_version": "1.5.0",
      "_model_name": "ProgressStyleModel",
      "_view_count": null,
      "_view_module": "@jupyter-widgets/base",
      "_view_module_version": "1.2.0",
      "_view_name": "StyleView",
      "bar_color": null,
      "description_width": ""
     }
    },
    "a0134a31008a4a3193cb5139d275bb85": {
     "model_module": "@jupyter-widgets/controls",
     "model_module_version": "1.5.0",
     "model_name": "HTMLModel",
     "state": {
      "_dom_classes": [],
      "_model_module": "@jupyter-widgets/controls",
      "_model_module_version": "1.5.0",
      "_model_name": "HTMLModel",
      "_view_count": null,
      "_view_module": "@jupyter-widgets/controls",
      "_view_module_version": "1.5.0",
      "_view_name": "HTMLView",
      "description": "",
      "description_tooltip": null,
      "layout": "IPY_MODEL_8dd48b3cc38c453baa571175be726cd6",
      "placeholder": "​",
      "style": "IPY_MODEL_251ab3414a564c78b8900cb6b1967c54",
      "value": "normalizer.json: 100%"
     }
    },
    "a1aae41ab5a443c7853057f33c73a060": {
     "model_module": "@jupyter-widgets/controls",
     "model_module_version": "1.5.0",
     "model_name": "HBoxModel",
     "state": {
      "_dom_classes": [],
      "_model_module": "@jupyter-widgets/controls",
      "_model_module_version": "1.5.0",
      "_model_name": "HBoxModel",
      "_view_count": null,
      "_view_module": "@jupyter-widgets/controls",
      "_view_module_version": "1.5.0",
      "_view_name": "HBoxView",
      "box_style": "",
      "children": [
       "IPY_MODEL_cf77132a4fc94dc8a93ae06f6a11cb16",
       "IPY_MODEL_21230b6d30db45869e933588271464f9",
       "IPY_MODEL_f7958f11b78c4c848bdff65d3a6f455b"
      ],
      "layout": "IPY_MODEL_30f39cc016574e7f9f1b3d068e1d0584"
     }
    },
    "a4da59654abf4ad69bbbde5496d01312": {
     "model_module": "@jupyter-widgets/controls",
     "model_module_version": "1.5.0",
     "model_name": "DescriptionStyleModel",
     "state": {
      "_model_module": "@jupyter-widgets/controls",
      "_model_module_version": "1.5.0",
      "_model_name": "DescriptionStyleModel",
      "_view_count": null,
      "_view_module": "@jupyter-widgets/base",
      "_view_module_version": "1.2.0",
      "_view_name": "StyleView",
      "description_width": ""
     }
    },
    "a605ed4ef1f9421ba901668c7fd48204": {
     "model_module": "@jupyter-widgets/controls",
     "model_module_version": "1.5.0",
     "model_name": "HTMLModel",
     "state": {
      "_dom_classes": [],
      "_model_module": "@jupyter-widgets/controls",
      "_model_module_version": "1.5.0",
      "_model_name": "HTMLModel",
      "_view_count": null,
      "_view_module": "@jupyter-widgets/controls",
      "_view_module_version": "1.5.0",
      "_view_name": "HTMLView",
      "description": "",
      "description_tooltip": null,
      "layout": "IPY_MODEL_f6039aba2ea44f22afafdcf1f8a16a08",
      "placeholder": "​",
      "style": "IPY_MODEL_eafeb4fceef844339bd5b0fba0dd7a72",
      "value": " 52.7k/52.7k [00:00&lt;00:00, 2.55MB/s]"
     }
    },
    "a9ac5b589f094623a3d94b39fbb84d42": {
     "model_module": "@jupyter-widgets/base",
     "model_module_version": "1.2.0",
     "model_name": "LayoutModel",
     "state": {
      "_model_module": "@jupyter-widgets/base",
      "_model_module_version": "1.2.0",
      "_model_name": "LayoutModel",
      "_view_count": null,
      "_view_module": "@jupyter-widgets/base",
      "_view_module_version": "1.2.0",
      "_view_name": "LayoutView",
      "align_content": null,
      "align_items": null,
      "align_self": null,
      "border": null,
      "bottom": null,
      "display": null,
      "flex": null,
      "flex_flow": null,
      "grid_area": null,
      "grid_auto_columns": null,
      "grid_auto_flow": null,
      "grid_auto_rows": null,
      "grid_column": null,
      "grid_gap": null,
      "grid_row": null,
      "grid_template_areas": null,
      "grid_template_columns": null,
      "grid_template_rows": null,
      "height": null,
      "justify_content": null,
      "justify_items": null,
      "left": null,
      "margin": null,
      "max_height": null,
      "max_width": null,
      "min_height": null,
      "min_width": null,
      "object_fit": null,
      "object_position": null,
      "order": null,
      "overflow": null,
      "overflow_x": null,
      "overflow_y": null,
      "padding": null,
      "right": null,
      "top": null,
      "visibility": null,
      "width": null
     }
    },
    "b450c92de7cb46c888debee37fc92297": {
     "model_module": "@jupyter-widgets/base",
     "model_module_version": "1.2.0",
     "model_name": "LayoutModel",
     "state": {
      "_model_module": "@jupyter-widgets/base",
      "_model_module_version": "1.2.0",
      "_model_name": "LayoutModel",
      "_view_count": null,
      "_view_module": "@jupyter-widgets/base",
      "_view_module_version": "1.2.0",
      "_view_name": "LayoutView",
      "align_content": null,
      "align_items": null,
      "align_self": null,
      "border": null,
      "bottom": null,
      "display": null,
      "flex": null,
      "flex_flow": null,
      "grid_area": null,
      "grid_auto_columns": null,
      "grid_auto_flow": null,
      "grid_auto_rows": null,
      "grid_column": null,
      "grid_gap": null,
      "grid_row": null,
      "grid_template_areas": null,
      "grid_template_columns": null,
      "grid_template_rows": null,
      "height": null,
      "justify_content": null,
      "justify_items": null,
      "left": null,
      "margin": null,
      "max_height": null,
      "max_width": null,
      "min_height": null,
      "min_width": null,
      "object_fit": null,
      "object_position": null,
      "order": null,
      "overflow": null,
      "overflow_x": null,
      "overflow_y": null,
      "padding": null,
      "right": null,
      "top": null,
      "visibility": null,
      "width": null
     }
    },
    "b49f9b4a0e0947d8a91fc799c6e82b6a": {
     "model_module": "@jupyter-widgets/base",
     "model_module_version": "1.2.0",
     "model_name": "LayoutModel",
     "state": {
      "_model_module": "@jupyter-widgets/base",
      "_model_module_version": "1.2.0",
      "_model_name": "LayoutModel",
      "_view_count": null,
      "_view_module": "@jupyter-widgets/base",
      "_view_module_version": "1.2.0",
      "_view_name": "LayoutView",
      "align_content": null,
      "align_items": null,
      "align_self": null,
      "border": null,
      "bottom": null,
      "display": null,
      "flex": null,
      "flex_flow": null,
      "grid_area": null,
      "grid_auto_columns": null,
      "grid_auto_flow": null,
      "grid_auto_rows": null,
      "grid_column": null,
      "grid_gap": null,
      "grid_row": null,
      "grid_template_areas": null,
      "grid_template_columns": null,
      "grid_template_rows": null,
      "height": null,
      "justify_content": null,
      "justify_items": null,
      "left": null,
      "margin": null,
      "max_height": null,
      "max_width": null,
      "min_height": null,
      "min_width": null,
      "object_fit": null,
      "object_position": null,
      "order": null,
      "overflow": null,
      "overflow_x": null,
      "overflow_y": null,
      "padding": null,
      "right": null,
      "top": null,
      "visibility": null,
      "width": null
     }
    },
    "b684f2809c64457988058cdbb05dbd3b": {
     "model_module": "@jupyter-widgets/controls",
     "model_module_version": "1.5.0",
     "model_name": "HBoxModel",
     "state": {
      "_dom_classes": [],
      "_model_module": "@jupyter-widgets/controls",
      "_model_module_version": "1.5.0",
      "_model_name": "HBoxModel",
      "_view_count": null,
      "_view_module": "@jupyter-widgets/controls",
      "_view_module_version": "1.5.0",
      "_view_name": "HBoxView",
      "box_style": "",
      "children": [
       "IPY_MODEL_7b41f2dbf50249f9b02aa54e6223f8e4",
       "IPY_MODEL_083d84d4205543c29e5d36da1fd462fb",
       "IPY_MODEL_9dbe65be28dc4cf5a1728e2e7d6895dd"
      ],
      "layout": "IPY_MODEL_1ffc1242e8b4469a94c5a69bae70e6a8"
     }
    },
    "b95a028f37b54d7d8119ac309bfe3dac": {
     "model_module": "@jupyter-widgets/controls",
     "model_module_version": "1.5.0",
     "model_name": "FloatProgressModel",
     "state": {
      "_dom_classes": [],
      "_model_module": "@jupyter-widgets/controls",
      "_model_module_version": "1.5.0",
      "_model_name": "FloatProgressModel",
      "_view_count": null,
      "_view_module": "@jupyter-widgets/controls",
      "_view_module_version": "1.5.0",
      "_view_name": "ProgressView",
      "bar_style": "success",
      "description": "",
      "description_tooltip": null,
      "layout": "IPY_MODEL_2f6a9707a3a148cca5a4529d9b79252e",
      "max": 2480466,
      "min": 0,
      "orientation": "horizontal",
      "style": "IPY_MODEL_f022eda350e640a3817add6ade0e6dcf",
      "value": 2480466
     }
    },
    "b9e30f9c0a3f40248333843ff40da277": {
     "model_module": "@jupyter-widgets/controls",
     "model_module_version": "1.5.0",
     "model_name": "FloatProgressModel",
     "state": {
      "_dom_classes": [],
      "_model_module": "@jupyter-widgets/controls",
      "_model_module_version": "1.5.0",
      "_model_name": "FloatProgressModel",
      "_view_count": null,
      "_view_module": "@jupyter-widgets/controls",
      "_view_module_version": "1.5.0",
      "_view_name": "ProgressView",
      "bar_style": "success",
      "description": "",
      "description_tooltip": null,
      "layout": "IPY_MODEL_ea2b3d3bb8164733acacb0f6a9c00939",
      "max": 184990,
      "min": 0,
      "orientation": "horizontal",
      "style": "IPY_MODEL_9fbf6b2c61e34bf6a0ddbc20b26ce055",
      "value": 184990
     }
    },
    "bac0221f00bf4470b513b0262699456a": {
     "model_module": "@jupyter-widgets/controls",
     "model_module_version": "1.5.0",
     "model_name": "DescriptionStyleModel",
     "state": {
      "_model_module": "@jupyter-widgets/controls",
      "_model_module_version": "1.5.0",
      "_model_name": "DescriptionStyleModel",
      "_view_count": null,
      "_view_module": "@jupyter-widgets/base",
      "_view_module_version": "1.2.0",
      "_view_name": "StyleView",
      "description_width": ""
     }
    },
    "bc455f1aad264020b9057afd8da902c7": {
     "model_module": "@jupyter-widgets/controls",
     "model_module_version": "1.5.0",
     "model_name": "FloatProgressModel",
     "state": {
      "_dom_classes": [],
      "_model_module": "@jupyter-widgets/controls",
      "_model_module_version": "1.5.0",
      "_model_name": "FloatProgressModel",
      "_view_count": null,
      "_view_module": "@jupyter-widgets/controls",
      "_view_module_version": "1.5.0",
      "_view_name": "ProgressView",
      "bar_style": "success",
      "description": "",
      "description_tooltip": null,
      "layout": "IPY_MODEL_4ec7b6be274a408eae1c02d6dade2f20",
      "max": 2194,
      "min": 0,
      "orientation": "horizontal",
      "style": "IPY_MODEL_79dfb30d70a14935b45d2f23b687c563",
      "value": 2194
     }
    },
    "c9fdfac719614f7faa3bfe5d4984a5bd": {
     "model_module": "@jupyter-widgets/controls",
     "model_module_version": "1.5.0",
     "model_name": "ProgressStyleModel",
     "state": {
      "_model_module": "@jupyter-widgets/controls",
      "_model_module_version": "1.5.0",
      "_model_name": "ProgressStyleModel",
      "_view_count": null,
      "_view_module": "@jupyter-widgets/base",
      "_view_module_version": "1.2.0",
      "_view_name": "StyleView",
      "bar_color": null,
      "description_width": ""
     }
    },
    "cf011a79cc194c7bac1d79a6e9c5fc94": {
     "model_module": "@jupyter-widgets/controls",
     "model_module_version": "1.5.0",
     "model_name": "DescriptionStyleModel",
     "state": {
      "_model_module": "@jupyter-widgets/controls",
      "_model_module_version": "1.5.0",
      "_model_name": "DescriptionStyleModel",
      "_view_count": null,
      "_view_module": "@jupyter-widgets/base",
      "_view_module_version": "1.2.0",
      "_view_name": "StyleView",
      "description_width": ""
     }
    },
    "cf77132a4fc94dc8a93ae06f6a11cb16": {
     "model_module": "@jupyter-widgets/controls",
     "model_module_version": "1.5.0",
     "model_name": "HTMLModel",
     "state": {
      "_dom_classes": [],
      "_model_module": "@jupyter-widgets/controls",
      "_model_module_version": "1.5.0",
      "_model_name": "HTMLModel",
      "_view_count": null,
      "_view_module": "@jupyter-widgets/controls",
      "_view_module_version": "1.5.0",
      "_view_name": "HTMLView",
      "description": "",
      "description_tooltip": null,
      "layout": "IPY_MODEL_ebea20e5197b4e28972eb5c4ff748c20",
      "placeholder": "​",
      "style": "IPY_MODEL_fe84398df8704140a55d2478d7bad3f9",
      "value": "merges.txt: 100%"
     }
    },
    "d603a480b94046cc9380a48bbe8ad238": {
     "model_module": "@jupyter-widgets/base",
     "model_module_version": "1.2.0",
     "model_name": "LayoutModel",
     "state": {
      "_model_module": "@jupyter-widgets/base",
      "_model_module_version": "1.2.0",
      "_model_name": "LayoutModel",
      "_view_count": null,
      "_view_module": "@jupyter-widgets/base",
      "_view_module_version": "1.2.0",
      "_view_name": "LayoutView",
      "align_content": null,
      "align_items": null,
      "align_self": null,
      "border": null,
      "bottom": null,
      "display": null,
      "flex": null,
      "flex_flow": null,
      "grid_area": null,
      "grid_auto_columns": null,
      "grid_auto_flow": null,
      "grid_auto_rows": null,
      "grid_column": null,
      "grid_gap": null,
      "grid_row": null,
      "grid_template_areas": null,
      "grid_template_columns": null,
      "grid_template_rows": null,
      "height": null,
      "justify_content": null,
      "justify_items": null,
      "left": null,
      "margin": null,
      "max_height": null,
      "max_width": null,
      "min_height": null,
      "min_width": null,
      "object_fit": null,
      "object_position": null,
      "order": null,
      "overflow": null,
      "overflow_x": null,
      "overflow_y": null,
      "padding": null,
      "right": null,
      "top": null,
      "visibility": null,
      "width": null
     }
    },
    "d6f86101584346f4a621e589a49ccd77": {
     "model_module": "@jupyter-widgets/base",
     "model_module_version": "1.2.0",
     "model_name": "LayoutModel",
     "state": {
      "_model_module": "@jupyter-widgets/base",
      "_model_module_version": "1.2.0",
      "_model_name": "LayoutModel",
      "_view_count": null,
      "_view_module": "@jupyter-widgets/base",
      "_view_module_version": "1.2.0",
      "_view_name": "LayoutView",
      "align_content": null,
      "align_items": null,
      "align_self": null,
      "border": null,
      "bottom": null,
      "display": null,
      "flex": null,
      "flex_flow": null,
      "grid_area": null,
      "grid_auto_columns": null,
      "grid_auto_flow": null,
      "grid_auto_rows": null,
      "grid_column": null,
      "grid_gap": null,
      "grid_row": null,
      "grid_template_areas": null,
      "grid_template_columns": null,
      "grid_template_rows": null,
      "height": null,
      "justify_content": null,
      "justify_items": null,
      "left": null,
      "margin": null,
      "max_height": null,
      "max_width": null,
      "min_height": null,
      "min_width": null,
      "object_fit": null,
      "object_position": null,
      "order": null,
      "overflow": null,
      "overflow_x": null,
      "overflow_y": null,
      "padding": null,
      "right": null,
      "top": null,
      "visibility": null,
      "width": null
     }
    },
    "df6eb1de214c4822aa4fe09c7af5d139": {
     "model_module": "@jupyter-widgets/controls",
     "model_module_version": "1.5.0",
     "model_name": "HBoxModel",
     "state": {
      "_dom_classes": [],
      "_model_module": "@jupyter-widgets/controls",
      "_model_module_version": "1.5.0",
      "_model_name": "HBoxModel",
      "_view_count": null,
      "_view_module": "@jupyter-widgets/controls",
      "_view_module_version": "1.5.0",
      "_view_name": "HBoxView",
      "box_style": "",
      "children": [
       "IPY_MODEL_e03f5f99b2294942b00ab5cbb8ccf23f",
       "IPY_MODEL_b95a028f37b54d7d8119ac309bfe3dac",
       "IPY_MODEL_e95239483f2b4e6386500eee3eca0510"
      ],
      "layout": "IPY_MODEL_b450c92de7cb46c888debee37fc92297"
     }
    },
    "dfa6a452023d46be8cec14d9bf5b41ee": {
     "model_module": "@jupyter-widgets/controls",
     "model_module_version": "1.5.0",
     "model_name": "HBoxModel",
     "state": {
      "_dom_classes": [],
      "_model_module": "@jupyter-widgets/controls",
      "_model_module_version": "1.5.0",
      "_model_name": "HBoxModel",
      "_view_count": null,
      "_view_module": "@jupyter-widgets/controls",
      "_view_module_version": "1.5.0",
      "_view_name": "HBoxView",
      "box_style": "",
      "children": [
       "IPY_MODEL_6172a0c3616f425eb624d6075c772fc8",
       "IPY_MODEL_b9e30f9c0a3f40248333843ff40da277",
       "IPY_MODEL_f416119c4716483baeef80ca07ebc32b"
      ],
      "layout": "IPY_MODEL_5d0abdb5010f46a2ab734d3f8a69dda1"
     }
    },
    "e03f5f99b2294942b00ab5cbb8ccf23f": {
     "model_module": "@jupyter-widgets/controls",
     "model_module_version": "1.5.0",
     "model_name": "HTMLModel",
     "state": {
      "_dom_classes": [],
      "_model_module": "@jupyter-widgets/controls",
      "_model_module_version": "1.5.0",
      "_model_name": "HTMLModel",
      "_view_count": null,
      "_view_module": "@jupyter-widgets/controls",
      "_view_module_version": "1.5.0",
      "_view_name": "HTMLView",
      "description": "",
      "description_tooltip": null,
      "layout": "IPY_MODEL_d603a480b94046cc9380a48bbe8ad238",
      "placeholder": "​",
      "style": "IPY_MODEL_e44990400bb947bca6ec1e808f6eae1c",
      "value": "tokenizer.json: 100%"
     }
    },
    "e365ffc78732437cae63a7d6ba14e15f": {
     "model_module": "@jupyter-widgets/base",
     "model_module_version": "1.2.0",
     "model_name": "LayoutModel",
     "state": {
      "_model_module": "@jupyter-widgets/base",
      "_model_module_version": "1.2.0",
      "_model_name": "LayoutModel",
      "_view_count": null,
      "_view_module": "@jupyter-widgets/base",
      "_view_module_version": "1.2.0",
      "_view_name": "LayoutView",
      "align_content": null,
      "align_items": null,
      "align_self": null,
      "border": null,
      "bottom": null,
      "display": null,
      "flex": null,
      "flex_flow": null,
      "grid_area": null,
      "grid_auto_columns": null,
      "grid_auto_flow": null,
      "grid_auto_rows": null,
      "grid_column": null,
      "grid_gap": null,
      "grid_row": null,
      "grid_template_areas": null,
      "grid_template_columns": null,
      "grid_template_rows": null,
      "height": null,
      "justify_content": null,
      "justify_items": null,
      "left": null,
      "margin": null,
      "max_height": null,
      "max_width": null,
      "min_height": null,
      "min_width": null,
      "object_fit": null,
      "object_position": null,
      "order": null,
      "overflow": null,
      "overflow_x": null,
      "overflow_y": null,
      "padding": null,
      "right": null,
      "top": null,
      "visibility": null,
      "width": null
     }
    },
    "e44990400bb947bca6ec1e808f6eae1c": {
     "model_module": "@jupyter-widgets/controls",
     "model_module_version": "1.5.0",
     "model_name": "DescriptionStyleModel",
     "state": {
      "_model_module": "@jupyter-widgets/controls",
      "_model_module_version": "1.5.0",
      "_model_name": "DescriptionStyleModel",
      "_view_count": null,
      "_view_module": "@jupyter-widgets/base",
      "_view_module_version": "1.2.0",
      "_view_name": "StyleView",
      "description_width": ""
     }
    },
    "e7ae772963b04122958febe9756980ad": {
     "model_module": "@jupyter-widgets/base",
     "model_module_version": "1.2.0",
     "model_name": "LayoutModel",
     "state": {
      "_model_module": "@jupyter-widgets/base",
      "_model_module_version": "1.2.0",
      "_model_name": "LayoutModel",
      "_view_count": null,
      "_view_module": "@jupyter-widgets/base",
      "_view_module_version": "1.2.0",
      "_view_name": "LayoutView",
      "align_content": null,
      "align_items": null,
      "align_self": null,
      "border": null,
      "bottom": null,
      "display": null,
      "flex": null,
      "flex_flow": null,
      "grid_area": null,
      "grid_auto_columns": null,
      "grid_auto_flow": null,
      "grid_auto_rows": null,
      "grid_column": null,
      "grid_gap": null,
      "grid_row": null,
      "grid_template_areas": null,
      "grid_template_columns": null,
      "grid_template_rows": null,
      "height": null,
      "justify_content": null,
      "justify_items": null,
      "left": null,
      "margin": null,
      "max_height": null,
      "max_width": null,
      "min_height": null,
      "min_width": null,
      "object_fit": null,
      "object_position": null,
      "order": null,
      "overflow": null,
      "overflow_x": null,
      "overflow_y": null,
      "padding": null,
      "right": null,
      "top": null,
      "visibility": null,
      "width": null
     }
    },
    "e95239483f2b4e6386500eee3eca0510": {
     "model_module": "@jupyter-widgets/controls",
     "model_module_version": "1.5.0",
     "model_name": "HTMLModel",
     "state": {
      "_dom_classes": [],
      "_model_module": "@jupyter-widgets/controls",
      "_model_module_version": "1.5.0",
      "_model_name": "HTMLModel",
      "_view_count": null,
      "_view_module": "@jupyter-widgets/controls",
      "_view_module_version": "1.5.0",
      "_view_name": "HTMLView",
      "description": "",
      "description_tooltip": null,
      "layout": "IPY_MODEL_b49f9b4a0e0947d8a91fc799c6e82b6a",
      "placeholder": "​",
      "style": "IPY_MODEL_a4da59654abf4ad69bbbde5496d01312",
      "value": " 2.48M/2.48M [00:00&lt;00:00, 17.0MB/s]"
     }
    },
    "ea2b3d3bb8164733acacb0f6a9c00939": {
     "model_module": "@jupyter-widgets/base",
     "model_module_version": "1.2.0",
     "model_name": "LayoutModel",
     "state": {
      "_model_module": "@jupyter-widgets/base",
      "_model_module_version": "1.2.0",
      "_model_name": "LayoutModel",
      "_view_count": null,
      "_view_module": "@jupyter-widgets/base",
      "_view_module_version": "1.2.0",
      "_view_name": "LayoutView",
      "align_content": null,
      "align_items": null,
      "align_self": null,
      "border": null,
      "bottom": null,
      "display": null,
      "flex": null,
      "flex_flow": null,
      "grid_area": null,
      "grid_auto_columns": null,
      "grid_auto_flow": null,
      "grid_auto_rows": null,
      "grid_column": null,
      "grid_gap": null,
      "grid_row": null,
      "grid_template_areas": null,
      "grid_template_columns": null,
      "grid_template_rows": null,
      "height": null,
      "justify_content": null,
      "justify_items": null,
      "left": null,
      "margin": null,
      "max_height": null,
      "max_width": null,
      "min_height": null,
      "min_width": null,
      "object_fit": null,
      "object_position": null,
      "order": null,
      "overflow": null,
      "overflow_x": null,
      "overflow_y": null,
      "padding": null,
      "right": null,
      "top": null,
      "visibility": null,
      "width": null
     }
    },
    "ea4431dc33d54a7fb078f074bd33e9c1": {
     "model_module": "@jupyter-widgets/base",
     "model_module_version": "1.2.0",
     "model_name": "LayoutModel",
     "state": {
      "_model_module": "@jupyter-widgets/base",
      "_model_module_version": "1.2.0",
      "_model_name": "LayoutModel",
      "_view_count": null,
      "_view_module": "@jupyter-widgets/base",
      "_view_module_version": "1.2.0",
      "_view_name": "LayoutView",
      "align_content": null,
      "align_items": null,
      "align_self": null,
      "border": null,
      "bottom": null,
      "display": null,
      "flex": null,
      "flex_flow": null,
      "grid_area": null,
      "grid_auto_columns": null,
      "grid_auto_flow": null,
      "grid_auto_rows": null,
      "grid_column": null,
      "grid_gap": null,
      "grid_row": null,
      "grid_template_areas": null,
      "grid_template_columns": null,
      "grid_template_rows": null,
      "height": null,
      "justify_content": null,
      "justify_items": null,
      "left": null,
      "margin": null,
      "max_height": null,
      "max_width": null,
      "min_height": null,
      "min_width": null,
      "object_fit": null,
      "object_position": null,
      "order": null,
      "overflow": null,
      "overflow_x": null,
      "overflow_y": null,
      "padding": null,
      "right": null,
      "top": null,
      "visibility": null,
      "width": null
     }
    },
    "eab0064f187349d792c89a0d4f4b24e0": {
     "model_module": "@jupyter-widgets/controls",
     "model_module_version": "1.5.0",
     "model_name": "ProgressStyleModel",
     "state": {
      "_model_module": "@jupyter-widgets/controls",
      "_model_module_version": "1.5.0",
      "_model_name": "ProgressStyleModel",
      "_view_count": null,
      "_view_module": "@jupyter-widgets/base",
      "_view_module_version": "1.2.0",
      "_view_name": "StyleView",
      "bar_color": null,
      "description_width": ""
     }
    },
    "eafeb4fceef844339bd5b0fba0dd7a72": {
     "model_module": "@jupyter-widgets/controls",
     "model_module_version": "1.5.0",
     "model_name": "DescriptionStyleModel",
     "state": {
      "_model_module": "@jupyter-widgets/controls",
      "_model_module_version": "1.5.0",
      "_model_name": "DescriptionStyleModel",
      "_view_count": null,
      "_view_module": "@jupyter-widgets/base",
      "_view_module_version": "1.2.0",
      "_view_name": "StyleView",
      "description_width": ""
     }
    },
    "ebea20e5197b4e28972eb5c4ff748c20": {
     "model_module": "@jupyter-widgets/base",
     "model_module_version": "1.2.0",
     "model_name": "LayoutModel",
     "state": {
      "_model_module": "@jupyter-widgets/base",
      "_model_module_version": "1.2.0",
      "_model_name": "LayoutModel",
      "_view_count": null,
      "_view_module": "@jupyter-widgets/base",
      "_view_module_version": "1.2.0",
      "_view_name": "LayoutView",
      "align_content": null,
      "align_items": null,
      "align_self": null,
      "border": null,
      "bottom": null,
      "display": null,
      "flex": null,
      "flex_flow": null,
      "grid_area": null,
      "grid_auto_columns": null,
      "grid_auto_flow": null,
      "grid_auto_rows": null,
      "grid_column": null,
      "grid_gap": null,
      "grid_row": null,
      "grid_template_areas": null,
      "grid_template_columns": null,
      "grid_template_rows": null,
      "height": null,
      "justify_content": null,
      "justify_items": null,
      "left": null,
      "margin": null,
      "max_height": null,
      "max_width": null,
      "min_height": null,
      "min_width": null,
      "object_fit": null,
      "object_position": null,
      "order": null,
      "overflow": null,
      "overflow_x": null,
      "overflow_y": null,
      "padding": null,
      "right": null,
      "top": null,
      "visibility": null,
      "width": null
     }
    },
    "edece4c2929344fcb029b007fc48b236": {
     "model_module": "@jupyter-widgets/base",
     "model_module_version": "1.2.0",
     "model_name": "LayoutModel",
     "state": {
      "_model_module": "@jupyter-widgets/base",
      "_model_module_version": "1.2.0",
      "_model_name": "LayoutModel",
      "_view_count": null,
      "_view_module": "@jupyter-widgets/base",
      "_view_module_version": "1.2.0",
      "_view_name": "LayoutView",
      "align_content": null,
      "align_items": null,
      "align_self": null,
      "border": null,
      "bottom": null,
      "display": null,
      "flex": null,
      "flex_flow": null,
      "grid_area": null,
      "grid_auto_columns": null,
      "grid_auto_flow": null,
      "grid_auto_rows": null,
      "grid_column": null,
      "grid_gap": null,
      "grid_row": null,
      "grid_template_areas": null,
      "grid_template_columns": null,
      "grid_template_rows": null,
      "height": null,
      "justify_content": null,
      "justify_items": null,
      "left": null,
      "margin": null,
      "max_height": null,
      "max_width": null,
      "min_height": null,
      "min_width": null,
      "object_fit": null,
      "object_position": null,
      "order": null,
      "overflow": null,
      "overflow_x": null,
      "overflow_y": null,
      "padding": null,
      "right": null,
      "top": null,
      "visibility": null,
      "width": null
     }
    },
    "eff363cd823d451f8afdb4a9a5f86f26": {
     "model_module": "@jupyter-widgets/controls",
     "model_module_version": "1.5.0",
     "model_name": "HTMLModel",
     "state": {
      "_dom_classes": [],
      "_model_module": "@jupyter-widgets/controls",
      "_model_module_version": "1.5.0",
      "_model_name": "HTMLModel",
      "_view_count": null,
      "_view_module": "@jupyter-widgets/controls",
      "_view_module_version": "1.5.0",
      "_view_name": "HTMLView",
      "description": "",
      "description_tooltip": null,
      "layout": "IPY_MODEL_9f090fbd38de4aae8906706bb9f123c6",
      "placeholder": "​",
      "style": "IPY_MODEL_193c3fb99bba41f89c0eab624f414265",
      "value": "special_tokens_map.json: 100%"
     }
    },
    "f022eda350e640a3817add6ade0e6dcf": {
     "model_module": "@jupyter-widgets/controls",
     "model_module_version": "1.5.0",
     "model_name": "ProgressStyleModel",
     "state": {
      "_model_module": "@jupyter-widgets/controls",
      "_model_module_version": "1.5.0",
      "_model_name": "ProgressStyleModel",
      "_view_count": null,
      "_view_module": "@jupyter-widgets/base",
      "_view_module_version": "1.2.0",
      "_view_name": "StyleView",
      "bar_color": null,
      "description_width": ""
     }
    },
    "f3b732d38ae848ad8bbc7dfcfee3afd1": {
     "model_module": "@jupyter-widgets/controls",
     "model_module_version": "1.5.0",
     "model_name": "FloatProgressModel",
     "state": {
      "_dom_classes": [],
      "_model_module": "@jupyter-widgets/controls",
      "_model_module_version": "1.5.0",
      "_model_name": "FloatProgressModel",
      "_view_count": null,
      "_view_module": "@jupyter-widgets/controls",
      "_view_module_version": "1.5.0",
      "_view_name": "ProgressView",
      "bar_style": "success",
      "description": "",
      "description_tooltip": null,
      "layout": "IPY_MODEL_a9ac5b589f094623a3d94b39fbb84d42",
      "max": 282683,
      "min": 0,
      "orientation": "horizontal",
      "style": "IPY_MODEL_5444c967bc6747cda90e12341591ce22",
      "value": 282683
     }
    },
    "f416119c4716483baeef80ca07ebc32b": {
     "model_module": "@jupyter-widgets/controls",
     "model_module_version": "1.5.0",
     "model_name": "HTMLModel",
     "state": {
      "_dom_classes": [],
      "_model_module": "@jupyter-widgets/controls",
      "_model_module_version": "1.5.0",
      "_model_name": "HTMLModel",
      "_view_count": null,
      "_view_module": "@jupyter-widgets/controls",
      "_view_module_version": "1.5.0",
      "_view_name": "HTMLView",
      "description": "",
      "description_tooltip": null,
      "layout": "IPY_MODEL_8ec3d8dd30f745bf9340823cd07b3410",
      "placeholder": "​",
      "style": "IPY_MODEL_29a1d43cec884385a1cf4be1de9fb45c",
      "value": " 185k/185k [00:00&lt;00:00, 6.05MB/s]"
     }
    },
    "f54743d235744fecad9268d351ecbcd7": {
     "model_module": "@jupyter-widgets/controls",
     "model_module_version": "1.5.0",
     "model_name": "HTMLModel",
     "state": {
      "_dom_classes": [],
      "_model_module": "@jupyter-widgets/controls",
      "_model_module_version": "1.5.0",
      "_model_name": "HTMLModel",
      "_view_count": null,
      "_view_module": "@jupyter-widgets/controls",
      "_view_module_version": "1.5.0",
      "_view_name": "HTMLView",
      "description": "",
      "description_tooltip": null,
      "layout": "IPY_MODEL_0afea7c833604342a1628edb57f95fd8",
      "placeholder": "​",
      "style": "IPY_MODEL_6fd0f7ef1b874ed2b0146f4cf172a6f7",
      "value": " 2.19k/2.19k [00:00&lt;00:00, 221kB/s]"
     }
    },
    "f6039aba2ea44f22afafdcf1f8a16a08": {
     "model_module": "@jupyter-widgets/base",
     "model_module_version": "1.2.0",
     "model_name": "LayoutModel",
     "state": {
      "_model_module": "@jupyter-widgets/base",
      "_model_module_version": "1.2.0",
      "_model_name": "LayoutModel",
      "_view_count": null,
      "_view_module": "@jupyter-widgets/base",
      "_view_module_version": "1.2.0",
      "_view_name": "LayoutView",
      "align_content": null,
      "align_items": null,
      "align_self": null,
      "border": null,
      "bottom": null,
      "display": null,
      "flex": null,
      "flex_flow": null,
      "grid_area": null,
      "grid_auto_columns": null,
      "grid_auto_flow": null,
      "grid_auto_rows": null,
      "grid_column": null,
      "grid_gap": null,
      "grid_row": null,
      "grid_template_areas": null,
      "grid_template_columns": null,
      "grid_template_rows": null,
      "height": null,
      "justify_content": null,
      "justify_items": null,
      "left": null,
      "margin": null,
      "max_height": null,
      "max_width": null,
      "min_height": null,
      "min_width": null,
      "object_fit": null,
      "object_position": null,
      "order": null,
      "overflow": null,
      "overflow_x": null,
      "overflow_y": null,
      "padding": null,
      "right": null,
      "top": null,
      "visibility": null,
      "width": null
     }
    },
    "f7958f11b78c4c848bdff65d3a6f455b": {
     "model_module": "@jupyter-widgets/controls",
     "model_module_version": "1.5.0",
     "model_name": "HTMLModel",
     "state": {
      "_dom_classes": [],
      "_model_module": "@jupyter-widgets/controls",
      "_model_module_version": "1.5.0",
      "_model_name": "HTMLModel",
      "_view_count": null,
      "_view_module": "@jupyter-widgets/controls",
      "_view_module_version": "1.5.0",
      "_view_name": "HTMLView",
      "description": "",
      "description_tooltip": null,
      "layout": "IPY_MODEL_d6f86101584346f4a621e589a49ccd77",
      "placeholder": "​",
      "style": "IPY_MODEL_2aeb9e24fe974fe4963322babaaa75ed",
      "value": " 494k/494k [00:00&lt;00:00, 27.4MB/s]"
     }
    },
    "fc083e02645a4cf2bafc1f4e8a99830a": {
     "model_module": "@jupyter-widgets/base",
     "model_module_version": "1.2.0",
     "model_name": "LayoutModel",
     "state": {
      "_model_module": "@jupyter-widgets/base",
      "_model_module_version": "1.2.0",
      "_model_name": "LayoutModel",
      "_view_count": null,
      "_view_module": "@jupyter-widgets/base",
      "_view_module_version": "1.2.0",
      "_view_name": "LayoutView",
      "align_content": null,
      "align_items": null,
      "align_self": null,
      "border": null,
      "bottom": null,
      "display": null,
      "flex": null,
      "flex_flow": null,
      "grid_area": null,
      "grid_auto_columns": null,
      "grid_auto_flow": null,
      "grid_auto_rows": null,
      "grid_column": null,
      "grid_gap": null,
      "grid_row": null,
      "grid_template_areas": null,
      "grid_template_columns": null,
      "grid_template_rows": null,
      "height": null,
      "justify_content": null,
      "justify_items": null,
      "left": null,
      "margin": null,
      "max_height": null,
      "max_width": null,
      "min_height": null,
      "min_width": null,
      "object_fit": null,
      "object_position": null,
      "order": null,
      "overflow": null,
      "overflow_x": null,
      "overflow_y": null,
      "padding": null,
      "right": null,
      "top": null,
      "visibility": null,
      "width": null
     }
    },
    "fdec617ba149433fb32f653c7fcb2930": {
     "model_module": "@jupyter-widgets/controls",
     "model_module_version": "1.5.0",
     "model_name": "ProgressStyleModel",
     "state": {
      "_model_module": "@jupyter-widgets/controls",
      "_model_module_version": "1.5.0",
      "_model_name": "ProgressStyleModel",
      "_view_count": null,
      "_view_module": "@jupyter-widgets/base",
      "_view_module_version": "1.2.0",
      "_view_name": "StyleView",
      "bar_color": null,
      "description_width": ""
     }
    },
    "fe84398df8704140a55d2478d7bad3f9": {
     "model_module": "@jupyter-widgets/controls",
     "model_module_version": "1.5.0",
     "model_name": "DescriptionStyleModel",
     "state": {
      "_model_module": "@jupyter-widgets/controls",
      "_model_module_version": "1.5.0",
      "_model_name": "DescriptionStyleModel",
      "_view_count": null,
      "_view_module": "@jupyter-widgets/base",
      "_view_module_version": "1.2.0",
      "_view_name": "StyleView",
      "description_width": ""
     }
    }
   }
  }
 },
 "nbformat": 4,
 "nbformat_minor": 4
}
